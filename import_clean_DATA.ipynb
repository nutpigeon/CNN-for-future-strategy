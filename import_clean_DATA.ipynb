{
 "cells": [
  {
   "cell_type": "code",
   "execution_count": 1,
   "id": "8b8a8205-c9d8-4ce9-b6ba-88802b6575e4",
   "metadata": {
    "scrolled": true
   },
   "outputs": [],
   "source": [
    "import pandas as pd\n",
    "#from WindPy import w\n",
    "import numpy as np\n",
    "#w.start()\n",
    "\n",
    "\n",
    "\n"
   ]
  },
  {
   "cell_type": "raw",
   "id": "e6de073b-5958-4c85-8df0-5baaff94201d",
   "metadata": {},
   "source": [
    "def process_future_contract(future_code, exc):\n",
    "    data_frames = []\n",
    "\n",
    "    # 第一次提取最近800个交易日的数据\n",
    "    for i in range(12):  # 尝试处理最多12个月份的合约\n",
    "        contract_code = f\"{future_code}{i:02d}.{exc}\"\n",
    "        data = w.wsd(contract_code, \"open,high,low,close,volume,oi\", \"ED-800TD\", \"2024-03-22\", \"\")\n",
    "        \n",
    "        if data.ErrorCode == 0:\n",
    "            df = pd.DataFrame(data.Data, index=data.Fields, columns=data.Times).T\n",
    "            df['CONTRACT'] = contract_code\n",
    "            data_frames.append(df)\n",
    "        else:\n",
    "            print(f\"Error or no data for {contract_code}: {data.ErrorCode}\")\n",
    "            continue\n",
    "\n",
    "    # 如果没有获取到任何合约数据，则返回空DataFrame\n",
    "    if not data_frames:\n",
    "        return pd.DataFrame()\n",
    "\n",
    "    combined_df_first = pd.concat(data_frames)\n",
    "    earliest_date = combined_df_first.index.min()  # 获取最早的交易日\n",
    "\n",
    "    # 从最早的交易日向前再提取800个交易日的数据\n",
    "    data_frames_second = []\n",
    "    for i in range(12):\n",
    "        contract_code = f\"{future_code}{i:02d}.{exc}\"\n",
    "        data = w.wsd(contract_code, \"open,high,low,close,volume,oi\", \"ED-800TD\", earliest_date, \"Fill=Previous\")\n",
    "        \n",
    "        if data.ErrorCode == 0:\n",
    "            df = pd.DataFrame(data.Data, index=data.Fields, columns=data.Times).T\n",
    "            df['CONTRACT'] = contract_code\n",
    "            data_frames_second.append(df)\n",
    "        else:\n",
    "            print(f\"Error or no data for {contract_code}: {data.ErrorCode}\")\n",
    "            continue\n",
    "\n",
    "    combined_df_second = pd.concat(data_frames_second)\n",
    "\n",
    "    # 合并两次提取的数据\n",
    "    combined_df = pd.concat([combined_df_first, combined_df_second]).drop_duplicates()\n",
    "    \n",
    "    \n",
    "        # 初始化DataFrame\n",
    "    weighted_df = pd.DataFrame(index=combined_df.index.unique())\n",
    "    \n",
    "    # 计算加权平均\n",
    "    for column in ['OPEN', 'HIGH', 'LOW', 'CLOSE']:\n",
    "        weighted_values = combined_df.groupby(combined_df.index).apply(\n",
    "            lambda x: np.nan if x['OI'].sum() == 0 else (x[column] * x['OI']).sum() / x['OI'].sum()\n",
    "        )\n",
    "        weighted_df[column] = weighted_values\n",
    "    \n",
    "    # 计算总和\n",
    "    for column in ['VOLUME', 'OI']:\n",
    "        total_values = combined_df.groupby(combined_df.index)[column].sum()\n",
    "        weighted_df[column] = total_values\n",
    "    \n",
    "    weighted_df.sort_index(ascending=True, inplace=True)\n",
    "\n",
    "    \n",
    "    return weighted_df\n",
    "\n"
   ]
  },
  {
   "cell_type": "raw",
   "id": "d3be62f3-44e6-44ea-ba58-7da6c9e9d0fe",
   "metadata": {},
   "source": [
    "future_codes = [\"A.DCE\", \"AG.SHF\", \"AU.SHF\", \"AL.SHF\", \"C.DCE\", \"CU.SHF\", \"HC.SHF\", \"NI.SHF\", \"RB.SHF\", \"SA.CZC\", \"SP.SHF\", \"SR.CZC\", \"TA.CZC\", \"Y.DCE\",\n",
    "    \"ZN.SHF\", \"I.DCE\", \"AU.SHF\", \"AP.CZC\", \"EB.DCE\", \"EG.DCE\", \"FG.CZC\"]\n",
    "\n",
    "for code in future_codes:\n",
    "    base_code, exc = code.split('.')  # 分割字符串以获取基础代码和交易所代码\n",
    "    weighted_df = process_future_contract(base_code, exc)\n",
    "    # 将加权平均数据保存到文件以便以后使用\n",
    "    weighted_df.to_csv(f\"{code}_weighted.csv\")"
   ]
  },
  {
   "cell_type": "code",
   "execution_count": 2,
   "id": "2952e6a9-13ac-4da9-a876-9597d0f51ff9",
   "metadata": {},
   "outputs": [],
   "source": [
    "# 定义原始代码列表和需要移除的代码列表\n",
    "original_codes = [\n",
    "    \"S.CBT\"\n",
    "    , \"M.DCE\", \"Y.DCE\", \"P.DCE\", \"SB.NYB\", \"SR.CZC\", \"CT.NYB\", \"CF.CZC\", \"RM.CZC\",\n",
    "    \"C.CBT\", \"C.DCE\", \"CS.DCE\", \"JD.DCE\", \"OI.CZC\", \"A.DCE\", \"LH.DCE\", \"PK.CZC\", \"RR.DCE\",\n",
    "    \"BO.CBT\", \"SM.CBT\", \"W.CBT\", \"RR.CBT\", \"LC.CME\", \"LH.CME\", \"O.CBT\", \"YK.CBT\", \"YC.CBT\",\n",
    "    \"YW.CBT\", \"FC.CME\", \"DA.CME\", \"OJ.NYB\", \"CC.NYB\", \"KC.NYB\", \"TT.NYM\", \"YO.NYM\", \"CJ.NYM\",\n",
    "    \"KT.NYM\", \"BB.DCE\", \"FB.DCE\", \"RI.CZC\", \"LR.CZC\", \"JR.CZC\", \"PM.CZC\", \"WH.CZC\", \"RS.CZC\",\n",
    "    \"B.DCE\", \"CJ.CZC\", \"CA.LME\", \"CU.SHF\", \"BC.INE\", \"HG.CMX\", \"ZS.LME\", \"ZN.SHF\", \"NI.LME\",\n",
    "    \"NI.SHF\", \"RB.SHF\", \"AH.LME\", \"AL.SHF\", \"AO.SHF\", \"SN.LME\", \"SN.SHF\", \"PB.LME\", \"PB.SHF\",\n",
    "    \"HC.SHF\", \"CO.LME\", \n",
    "    \"I.DCE\"\n",
    "    , \"FEF.SG\", \"AA.LME\", \"LRAF.HK\", \"LRZF.HK\", \"LRSF.HK\", \"LRPF.HK\",\n",
    "    \"LRNF.HK\", \"LRCF.HK\", \"SM.CZC\", \"SF.CZC\", \"SI.GFE\", \"WR.SHF\", \"SS.SHF\", \"SPTAUUSDOZ.IDC\",\n",
    "    \"SPTAGUSDOZ.IDC\", \"GC.CMX\", \"SI.CMX\", \"AU.SHF\", \"AG.SHF\", \"AU(T+D).SGE\", \"AG(T+D).SGE\",\n",
    "    \"AU9999.SGE\", \"SPTPTUSDOZ.IDC\", \"SPTPDUSDOZ.IDC\", \"PL.NYM\", \"PA.NYM\", \"MGC.CMX\", \"QO.CMX\",\n",
    "    \"QI.CMX\", \"CL.NYM\", \"B.IPE\", \"T.IPE\", \"SC.INE\", \"LU.INE\", \"NG.NYM\", \"BU.SHF\", \"L.DCE\", \"PF.CZC\",\n",
    "    \"TA.CZC\", \"PP.DCE\", \"EB.DCE\", \"RU.SHF\", \"NR.INE\", \"JM.DCE\", \"J.DCE\", \"ZC.CZC\", \"UR.CZC\",\n",
    "    \"PG.DCE\", \"MA.CZC\", \"EG.DCE\", \"V.DCE\", \"FG.CZC\", \"SA.CZC\", \"SP.SHF\", \"RB.NYM\", \"HO.NYM\",\n",
    "    \"QG.NYM\", \"QM.NYM\", \"N.IPE\", \"G.IPE\", \"BZ.NYM\", \"O.IPE\", \"ZE.CBT\", \"ATW.IPE\", \"AFR.IPE\", \"FU.SHF\"\n",
    "]\n",
    "\n",
    "\n",
    "\n"
   ]
  },
  {
   "cell_type": "raw",
   "id": "d1528fbf-67be-453f-8bd6-38e5a66625cd",
   "metadata": {
    "scrolled": true
   },
   "source": [
    "for code in filtered_codes:\n",
    "    base_code, exc = code.split('.')  # 分割字符串以获取基础代码和交易所代码\n",
    "    weighted_df = process_future_contract(base_code, exc)\n",
    "    # 将加权平均数据保存到文件以便以后使用\n",
    "    weighted_df.to_csv(f\"{code}_weighted.csv\")\n"
   ]
  },
  {
   "cell_type": "raw",
   "id": "203947b0-ff53-4dbe-a097-ed38d44a749b",
   "metadata": {},
   "source": [
    "def fetch_contract_info(codes):\n",
    "    # 初始化一个空的DataFrame用于存储结果\n",
    "    contracts_info_list = []\n",
    "    \n",
    "    for code in codes:\n",
    "        # 对每个代码调用API获取信息\n",
    "        data = w.wsd(code, \"sec_name,curr,exch_eng,sec_englishname\", \"2024-02-24\", \"2024-03-24\", \"\")\n",
    "        \n",
    "        # 检查API调用是否成功\n",
    "        if data.ErrorCode == 0:\n",
    "            # 构建一个临时字典存储当前合约的信息\n",
    "            temp_dict = {\n",
    "                'Code': [code],\n",
    "                'Security Name': [data.Data[0][0]],\n",
    "                'Currency': [data.Data[1][0]],\n",
    "                'Exchange': [data.Data[2][0]],\n",
    "                'Security English Name': [data.Data[3][0]]\n",
    "            }\n",
    "            # 将字典转换为DataFrame，并添加到列表中\n",
    "            contracts_info_list.append(pd.DataFrame.from_dict(temp_dict))\n",
    "        else:\n",
    "            print(f\"Error fetching data for {code}: {data.ErrorCode}\")\n",
    "    \n",
    "    # 使用pd.concat合并所有的DataFrame\n",
    "    contracts_info_df = pd.concat(contracts_info_list, ignore_index=True)\n",
    "    \n",
    "    return contracts_info_df\n",
    "\n",
    "\n",
    "\n",
    "# 获取信息并存储在DataFrame中\n",
    "contracts_info_df = fetch_contract_info(original_codes)\n",
    "\n",
    "# 显示结果\n",
    "print(contracts_info_df)\n"
   ]
  },
  {
   "cell_type": "code",
   "execution_count": 3,
   "id": "3592de78",
   "metadata": {},
   "outputs": [
    {
     "name": "stdout",
     "output_type": "stream",
     "text": [
      "文件 SPTAUUSDOZ.IDC_weighted.csv 未找到，跳过并继续。\n"
     ]
    }
   ],
   "source": [
    "filtered_codes_by_oi_mean = []\n",
    "\n",
    "# 存放OI均值大于100000的合约\n",
    "filtered_codes_by_oi_mean = []\n",
    "\n",
    "for code in original_codes:\n",
    "    file_path = f\"{code}_weighted.csv\"  # 构建文件路径\n",
    "    try:\n",
    "        df = pd.read_csv(file_path)  # 尝试加载数据\n",
    "        oi_mean = df['OI'].mean()  # 计算OI的均值\n",
    "        if oi_mean > 100000:  # 判断OI均值是否大于100000\n",
    "            filtered_codes_by_oi_mean.append(code)  # 如果是，则添加到筛选列表中\n",
    "    except FileNotFoundError:\n",
    "        print(f\"文件 {file_path} 未找到，跳过并继续。\")  # 打印错误消息并继续\n"
   ]
  },
  {
   "cell_type": "code",
   "execution_count": 4,
   "id": "b652654b",
   "metadata": {},
   "outputs": [
    {
     "name": "stdout",
     "output_type": "stream",
     "text": [
      "合并后的统计表:\n",
      "        S.CBT_OPEN   S.CBT_HIGH    S.CBT_LOW  S.CBT_CLOSE   S.CBT_VOLUME  \\\n",
      "count  1577.000000  1577.000000  1577.000000  1577.000000    1577.000000   \n",
      "mean   1133.977612  1144.217322  1124.596238  1158.598403  206832.089410   \n",
      "std     280.911254   284.680749   277.360904   238.633155   76566.749942   \n",
      "min       0.000000     0.000000     0.000000   815.742051       0.000000   \n",
      "25%     914.083212   919.781819   908.058605   918.456274  155564.000000   \n",
      "50%    1094.193817  1133.929945  1091.499238  1157.173141  197250.000000   \n",
      "75%    1362.078191  1373.784718  1345.294060  1366.009320  250082.000000   \n",
      "max    1637.594930  1682.763724  1624.226996  1638.574742  737680.000000   \n",
      "\n",
      "           S.CBT_OI   M.DCE_OPEN   M.DCE_HIGH    M.DCE_LOW  M.DCE_CLOSE  ...  \\\n",
      "count  1.577000e+03  1601.000000  1601.000000  1601.000000  1601.000000  ...   \n",
      "mean   7.513130e+05  3250.870155  3277.744499  3223.816031  3251.645418  ...   \n",
      "std    9.729950e+04   453.421118   461.578035   445.808282   454.685200  ...   \n",
      "min    3.315810e+05  2506.103489  2516.869716  2493.166235  2505.155482  ...   \n",
      "25%    6.724370e+05  2837.369967  2856.368594  2819.487992  2836.468019  ...   \n",
      "50%    7.412230e+05  3156.169283  3180.016914  3131.102805  3158.527918  ...   \n",
      "75%    8.233710e+05  3623.585393  3659.574740  3593.496608  3621.615324  ...   \n",
      "max    1.048094e+06  4336.947553  4405.699910  4288.496073  4328.241635  ...   \n",
      "\n",
      "        BZ.NYM_LOW  BZ.NYM_CLOSE  BZ.NYM_VOLUME      BZ.NYM_OI  FU.SHF_OPEN  \\\n",
      "count  1578.000000   1578.000000    1579.000000    1579.000000  1389.000000   \n",
      "mean     65.197413     67.553402   77171.552882  142952.308423  2712.824707   \n",
      "std      16.952525     14.878739   34187.683153   27714.816056   601.680172   \n",
      "min       0.000000      7.923979       0.000000       0.000000  1394.119062   \n",
      "25%      57.799134     59.744954   54853.000000  122604.000000  2282.446347   \n",
      "50%      66.799852     67.956713   70486.000000  144251.000000  2731.699098   \n",
      "75%      75.874597     76.860174   93233.000000  162395.000000  3097.281619   \n",
      "max     110.732941    113.221077  308717.000000  213623.000000  4385.339014   \n",
      "\n",
      "       FU.SHF_HIGH   FU.SHF_LOW  FU.SHF_CLOSE  FU.SHF_VOLUME     FU.SHF_OI  \n",
      "count  1389.000000  1389.000000   1389.000000   1.404000e+03  1.404000e+03  \n",
      "mean   2752.166678  2672.280494   2714.365590   1.205021e+06  5.594485e+05  \n",
      "std     612.292112   591.364774    604.200580   6.862822e+05  2.944087e+05  \n",
      "min    1437.441580  1348.088476   1407.424706   0.000000e+00  0.000000e+00  \n",
      "25%    2309.797658  2252.241326   2281.620643   8.248195e+05  3.846390e+05  \n",
      "50%    2771.486964  2692.594056   2734.354154   1.079322e+06  5.118790e+05  \n",
      "75%    3132.404188  3054.692221   3103.459029   1.386535e+06  6.603630e+05  \n",
      "max    4430.398626  4331.128230   4371.417554   5.919090e+06  1.976338e+06  \n",
      "\n",
      "[8 rows x 420 columns]\n"
     ]
    }
   ],
   "source": [
    "# 初始化一个空的DataFrame来存储所有统计值\n",
    "all_describe = pd.DataFrame()\n",
    "\n",
    "for code in filtered_codes_by_oi_mean:\n",
    "    file_path = f\"{code}_weighted.csv\"  # 构建文件路径\n",
    "    df = pd.read_csv(file_path)  # 加载数据\n",
    "    stats = df.describe()  # 获取基本统计值\n",
    "    \n",
    "    # 调整stats DataFrame，使其包含合约代码作为一部分信息\n",
    "    stats = stats.rename(columns=lambda x: f\"{code}_{x}\")\n",
    "    \n",
    "    # 将当前文件的统计值合并到总统计表中\n",
    "    if all_describe.empty:\n",
    "        all_describe = stats\n",
    "    else:\n",
    "        all_describe = pd.concat([all_describe, stats], axis=1)\n",
    "\n",
    "# 打印合并后的统计表和加总的count值\n",
    "print(\"合并后的统计表:\")\n",
    "print(all_describe)\n"
   ]
  },
  {
   "cell_type": "code",
   "execution_count": 5,
   "id": "5e0025c7",
   "metadata": {},
   "outputs": [
    {
     "name": "stdout",
     "output_type": "stream",
     "text": [
      "所有筛选后文件中OI列的count总和为: 101931.0\n"
     ]
    }
   ],
   "source": [
    "# 初始化OI列的count加总值\n",
    "total_oi_count = 0\n",
    "\n",
    "# 通过列名筛选出所有的_OI列\n",
    "oi_columns = [col for col in all_describe.columns if col.endswith('_OI')]\n",
    "\n",
    "# 只从'all_describe'的'count'行中获取这些_OI列的值进行加总\n",
    "total_oi_count = all_describe.loc['count', oi_columns].sum()\n",
    "\n",
    "print(f\"所有筛选后文件中OI列的count总和为: {total_oi_count}\")\n"
   ]
  },
  {
   "cell_type": "code",
   "execution_count": 6,
   "id": "a4843c63",
   "metadata": {},
   "outputs": [],
   "source": [
    "import pandas as pd\n",
    "import numpy as np\n",
    "\n",
    "\n",
    "for code in filtered_codes_by_oi_mean:\n",
    "    file_path = f\"{code}_weighted.csv\"  # 构建文件路径\n",
    "    df = pd.read_csv(file_path)  # 加载数据\n",
    "\n",
    "    # 在替换之前计算NaN的数量\n",
    "    initial_na_count = df.isna().sum().sum()\n",
    "\n",
    "    # 将所有的0值替换为NaN\n",
    "    df.replace(0, np.nan, inplace=True)\n",
    "\n",
    "    # 替换之后计算NaN的数量\n",
    "    post_replace_na_count = df.isna().sum().sum()\n",
    "\n",
    "    # 计算替换操作增加的NaN数量\n",
    "    replaced_na_count = post_replace_na_count - initial_na_count\n",
    "\n",
    "    # 报告替换了多少个NaN\n",
    "   # print(f\"文件 {code} 替换了 {replaced_na_count} 个0值为NaN。\")\n"
   ]
  },
  {
   "cell_type": "code",
   "execution_count": 7,
   "id": "40b5291c-03e3-43b0-bd85-ce13c95a594b",
   "metadata": {},
   "outputs": [],
   "source": [
    "import pandas as pd\n",
    "import numpy as np\n",
    "from tqdm import tqdm\n",
    "import talib\n",
    "\n",
    "def create_labels(df, col_name, window_size=11):\n",
    "    \"\"\"\n",
    "    Data is labeled as per the logic in research paper\n",
    "    Label code: BUY => 1, SELL => 0, HOLD => 2\n",
    "    params:\n",
    "        df => Dataframe with data\n",
    "        col_name => name of column which should be used to determine strategy\n",
    "    returns: numpy array with integer codes for labels with\n",
    "             size = total-(window_size)+1\n",
    "    \"\"\"\n",
    "    print(\"Calculating labels\")\n",
    "    total_rows = len(df)\n",
    "    labels = np.zeros(total_rows)\n",
    "    labels[:] = np.nan\n",
    "    pbar = tqdm(total=total_rows)\n",
    "    row_counter = 0\n",
    "\n",
    "    while row_counter < total_rows:\n",
    "        if row_counter >= window_size - 1:\n",
    "            window_begin = row_counter - (window_size - 1)\n",
    "            window_end = row_counter\n",
    "            window_middle = int((window_begin + window_end) / 2)\n",
    "\n",
    "            min_ = np.inf\n",
    "            min_index = -1\n",
    "            max_ = -np.inf\n",
    "            max_index = -1\n",
    "            for i in range(window_begin, window_end + 1):\n",
    "                price = df.iloc[i][col_name]\n",
    "                if price < min_:\n",
    "                    min_ = price\n",
    "                    min_index = i\n",
    "                if price > max_:\n",
    "                    max_ = price\n",
    "                    max_index = i\n",
    "\n",
    "            if max_index == window_middle:\n",
    "                labels[window_middle] = 0\n",
    "            elif min_index == window_middle:\n",
    "                labels[window_middle] = 1\n",
    "            else:\n",
    "                labels[window_middle] = 2\n",
    "\n",
    "        row_counter += 1\n",
    "        pbar.update(1)\n",
    "    pbar.close()\n",
    "    return labels"
   ]
  },
  {
   "cell_type": "code",
   "execution_count": 55,
   "id": "5b15ec66",
   "metadata": {
    "scrolled": true
   },
   "outputs": [
    {
     "name": "stdout",
     "output_type": "stream",
     "text": [
      "Calculating labels\n"
     ]
    },
    {
     "name": "stderr",
     "output_type": "stream",
     "text": [
      "100%|██████████| 1577/1577 [00:01<00:00, 1044.34it/s]\n"
     ]
    },
    {
     "name": "stdout",
     "output_type": "stream",
     "text": [
      "Calculating labels\n"
     ]
    },
    {
     "name": "stderr",
     "output_type": "stream",
     "text": [
      "100%|██████████| 1601/1601 [00:01<00:00, 1178.47it/s]\n"
     ]
    },
    {
     "name": "stdout",
     "output_type": "stream",
     "text": [
      "Calculating labels\n"
     ]
    },
    {
     "name": "stderr",
     "output_type": "stream",
     "text": [
      "100%|██████████| 1601/1601 [00:01<00:00, 1170.13it/s]\n"
     ]
    },
    {
     "name": "stdout",
     "output_type": "stream",
     "text": [
      "Calculating labels\n"
     ]
    },
    {
     "name": "stderr",
     "output_type": "stream",
     "text": [
      "100%|██████████| 1601/1601 [00:01<00:00, 1192.48it/s]\n"
     ]
    },
    {
     "name": "stdout",
     "output_type": "stream",
     "text": [
      "Calculating labels\n"
     ]
    },
    {
     "name": "stderr",
     "output_type": "stream",
     "text": [
      "100%|██████████| 1575/1575 [00:01<00:00, 1187.71it/s]\n"
     ]
    },
    {
     "name": "stdout",
     "output_type": "stream",
     "text": [
      "Calculating labels\n"
     ]
    },
    {
     "name": "stderr",
     "output_type": "stream",
     "text": [
      "100%|██████████| 1601/1601 [00:01<00:00, 1087.02it/s]\n"
     ]
    },
    {
     "name": "stdout",
     "output_type": "stream",
     "text": [
      "Calculating labels\n"
     ]
    },
    {
     "name": "stderr",
     "output_type": "stream",
     "text": [
      "100%|██████████| 1575/1575 [00:01<00:00, 1183.96it/s]\n"
     ]
    },
    {
     "name": "stdout",
     "output_type": "stream",
     "text": [
      "Calculating labels\n"
     ]
    },
    {
     "name": "stderr",
     "output_type": "stream",
     "text": [
      "100%|██████████| 1601/1601 [00:01<00:00, 1015.10it/s]\n"
     ]
    },
    {
     "name": "stdout",
     "output_type": "stream",
     "text": [
      "Calculating labels\n"
     ]
    },
    {
     "name": "stderr",
     "output_type": "stream",
     "text": [
      "100%|██████████| 1601/1601 [00:01<00:00, 1168.71it/s]\n"
     ]
    },
    {
     "name": "stdout",
     "output_type": "stream",
     "text": [
      "Calculating labels\n"
     ]
    },
    {
     "name": "stderr",
     "output_type": "stream",
     "text": [
      "100%|██████████| 1577/1577 [00:01<00:00, 1200.96it/s]\n"
     ]
    },
    {
     "name": "stdout",
     "output_type": "stream",
     "text": [
      "Calculating labels\n"
     ]
    },
    {
     "name": "stderr",
     "output_type": "stream",
     "text": [
      "100%|██████████| 1601/1601 [00:01<00:00, 1212.74it/s]\n"
     ]
    },
    {
     "name": "stdout",
     "output_type": "stream",
     "text": [
      "Calculating labels\n"
     ]
    },
    {
     "name": "stderr",
     "output_type": "stream",
     "text": [
      "100%|██████████| 1601/1601 [00:01<00:00, 1195.05it/s]\n"
     ]
    },
    {
     "name": "stdout",
     "output_type": "stream",
     "text": [
      "Calculating labels\n"
     ]
    },
    {
     "name": "stderr",
     "output_type": "stream",
     "text": [
      "100%|██████████| 1601/1601 [00:01<00:00, 1181.27it/s]\n"
     ]
    },
    {
     "name": "stdout",
     "output_type": "stream",
     "text": [
      "Calculating labels\n"
     ]
    },
    {
     "name": "stderr",
     "output_type": "stream",
     "text": [
      "100%|██████████| 1601/1601 [00:01<00:00, 1098.32it/s]\n"
     ]
    },
    {
     "name": "stdout",
     "output_type": "stream",
     "text": [
      "Calculating labels\n"
     ]
    },
    {
     "name": "stderr",
     "output_type": "stream",
     "text": [
      "100%|██████████| 1601/1601 [00:01<00:00, 1023.61it/s]\n"
     ]
    },
    {
     "name": "stdout",
     "output_type": "stream",
     "text": [
      "Calculating labels\n"
     ]
    },
    {
     "name": "stderr",
     "output_type": "stream",
     "text": [
      "100%|██████████| 777/777 [00:00<00:00, 1201.32it/s]\n"
     ]
    },
    {
     "name": "stdout",
     "output_type": "stream",
     "text": [
      "Calculating labels\n"
     ]
    },
    {
     "name": "stderr",
     "output_type": "stream",
     "text": [
      "100%|██████████| 761/761 [00:00<00:00, 1165.79it/s]\n"
     ]
    },
    {
     "name": "stdout",
     "output_type": "stream",
     "text": [
      "Calculating labels\n"
     ]
    },
    {
     "name": "stderr",
     "output_type": "stream",
     "text": [
      "100%|██████████| 1577/1577 [00:01<00:00, 1156.87it/s]\n"
     ]
    },
    {
     "name": "stdout",
     "output_type": "stream",
     "text": [
      "Calculating labels\n"
     ]
    },
    {
     "name": "stderr",
     "output_type": "stream",
     "text": [
      "100%|██████████| 1577/1577 [00:01<00:00, 1114.39it/s]\n"
     ]
    },
    {
     "name": "stdout",
     "output_type": "stream",
     "text": [
      "Calculating labels\n"
     ]
    },
    {
     "name": "stderr",
     "output_type": "stream",
     "text": [
      "100%|██████████| 1577/1577 [00:01<00:00, 1196.93it/s]\n"
     ]
    },
    {
     "name": "stdout",
     "output_type": "stream",
     "text": [
      "Calculating labels\n"
     ]
    },
    {
     "name": "stderr",
     "output_type": "stream",
     "text": [
      "100%|██████████| 1577/1577 [00:01<00:00, 1206.79it/s]\n"
     ]
    },
    {
     "name": "stdout",
     "output_type": "stream",
     "text": [
      "Calculating labels\n"
     ]
    },
    {
     "name": "stderr",
     "output_type": "stream",
     "text": [
      "100%|██████████| 1577/1577 [00:01<00:00, 1106.17it/s]\n"
     ]
    },
    {
     "name": "stdout",
     "output_type": "stream",
     "text": [
      "Calculating labels\n"
     ]
    },
    {
     "name": "stderr",
     "output_type": "stream",
     "text": [
      "100%|██████████| 1575/1575 [00:01<00:00, 1212.59it/s]\n"
     ]
    },
    {
     "name": "stdout",
     "output_type": "stream",
     "text": [
      "Calculating labels\n"
     ]
    },
    {
     "name": "stderr",
     "output_type": "stream",
     "text": [
      "100%|██████████| 1601/1601 [00:01<00:00, 1212.47it/s]\n"
     ]
    },
    {
     "name": "stdout",
     "output_type": "stream",
     "text": [
      "Calculating labels\n"
     ]
    },
    {
     "name": "stderr",
     "output_type": "stream",
     "text": [
      "100%|██████████| 1601/1601 [00:01<00:00, 1220.49it/s]\n"
     ]
    },
    {
     "name": "stdout",
     "output_type": "stream",
     "text": [
      "Calculating labels\n"
     ]
    },
    {
     "name": "stderr",
     "output_type": "stream",
     "text": [
      "100%|██████████| 1578/1578 [00:01<00:00, 1076.07it/s]\n"
     ]
    },
    {
     "name": "stdout",
     "output_type": "stream",
     "text": [
      "Calculating labels\n"
     ]
    },
    {
     "name": "stderr",
     "output_type": "stream",
     "text": [
      "100%|██████████| 1601/1601 [00:01<00:00, 1204.45it/s]\n"
     ]
    },
    {
     "name": "stdout",
     "output_type": "stream",
     "text": [
      "Calculating labels\n"
     ]
    },
    {
     "name": "stderr",
     "output_type": "stream",
     "text": [
      "100%|██████████| 1601/1601 [00:01<00:00, 1188.10it/s]\n"
     ]
    },
    {
     "name": "stdout",
     "output_type": "stream",
     "text": [
      "Calculating labels\n"
     ]
    },
    {
     "name": "stderr",
     "output_type": "stream",
     "text": [
      "100%|██████████| 1601/1601 [00:01<00:00, 1116.40it/s]\n"
     ]
    },
    {
     "name": "stdout",
     "output_type": "stream",
     "text": [
      "Calculating labels\n"
     ]
    },
    {
     "name": "stderr",
     "output_type": "stream",
     "text": [
      "100%|██████████| 1601/1601 [00:01<00:00, 1133.26it/s]\n"
     ]
    },
    {
     "name": "stdout",
     "output_type": "stream",
     "text": [
      "Calculating labels\n"
     ]
    },
    {
     "name": "stderr",
     "output_type": "stream",
     "text": [
      "100%|██████████| 186/186 [00:00<00:00, 1268.17it/s]\n"
     ]
    },
    {
     "name": "stdout",
     "output_type": "stream",
     "text": [
      "Calculating labels\n"
     ]
    },
    {
     "name": "stderr",
     "output_type": "stream",
     "text": [
      "100%|██████████| 1601/1601 [00:01<00:00, 1177.25it/s]\n"
     ]
    },
    {
     "name": "stdout",
     "output_type": "stream",
     "text": [
      "Calculating labels\n"
     ]
    },
    {
     "name": "stderr",
     "output_type": "stream",
     "text": [
      "100%|██████████| 1601/1601 [00:01<00:00, 1190.76it/s]\n"
     ]
    },
    {
     "name": "stdout",
     "output_type": "stream",
     "text": [
      "Calculating labels\n"
     ]
    },
    {
     "name": "stderr",
     "output_type": "stream",
     "text": [
      "100%|██████████| 1592/1592 [00:01<00:00, 1031.77it/s]\n"
     ]
    },
    {
     "name": "stdout",
     "output_type": "stream",
     "text": [
      "Calculating labels\n"
     ]
    },
    {
     "name": "stderr",
     "output_type": "stream",
     "text": [
      "100%|██████████| 1601/1601 [00:01<00:00, 1209.70it/s]\n"
     ]
    },
    {
     "name": "stdout",
     "output_type": "stream",
     "text": [
      "Calculating labels\n"
     ]
    },
    {
     "name": "stderr",
     "output_type": "stream",
     "text": [
      "100%|██████████| 1601/1601 [00:01<00:00, 1202.05it/s]\n"
     ]
    },
    {
     "name": "stdout",
     "output_type": "stream",
     "text": [
      "Calculating labels\n"
     ]
    },
    {
     "name": "stderr",
     "output_type": "stream",
     "text": [
      "100%|██████████| 303/303 [00:00<00:00, 1228.21it/s]\n"
     ]
    },
    {
     "name": "stdout",
     "output_type": "stream",
     "text": [
      "Calculating labels\n"
     ]
    },
    {
     "name": "stderr",
     "output_type": "stream",
     "text": [
      "100%|██████████| 1089/1089 [00:00<00:00, 1212.41it/s]\n"
     ]
    },
    {
     "name": "stdout",
     "output_type": "stream",
     "text": [
      "Calculating labels\n"
     ]
    },
    {
     "name": "stderr",
     "output_type": "stream",
     "text": [
      "100%|██████████| 1580/1580 [00:01<00:00, 1068.35it/s]\n"
     ]
    },
    {
     "name": "stdout",
     "output_type": "stream",
     "text": [
      "Calculating labels\n"
     ]
    },
    {
     "name": "stderr",
     "output_type": "stream",
     "text": [
      "100%|██████████| 1579/1579 [00:01<00:00, 1214.46it/s]\n"
     ]
    },
    {
     "name": "stdout",
     "output_type": "stream",
     "text": [
      "Calculating labels\n"
     ]
    },
    {
     "name": "stderr",
     "output_type": "stream",
     "text": [
      "100%|██████████| 1601/1601 [00:01<00:00, 1217.89it/s]\n"
     ]
    },
    {
     "name": "stdout",
     "output_type": "stream",
     "text": [
      "Calculating labels\n"
     ]
    },
    {
     "name": "stderr",
     "output_type": "stream",
     "text": [
      "100%|██████████| 1601/1601 [00:01<00:00, 1219.36it/s]\n"
     ]
    },
    {
     "name": "stdout",
     "output_type": "stream",
     "text": [
      "Calculating labels\n"
     ]
    },
    {
     "name": "stderr",
     "output_type": "stream",
     "text": [
      "100%|██████████| 1580/1580 [00:01<00:00, 1071.65it/s]\n"
     ]
    },
    {
     "name": "stdout",
     "output_type": "stream",
     "text": [
      "Calculating labels\n"
     ]
    },
    {
     "name": "stderr",
     "output_type": "stream",
     "text": [
      "100%|██████████| 1594/1594 [00:01<00:00, 1178.87it/s]\n"
     ]
    },
    {
     "name": "stdout",
     "output_type": "stream",
     "text": [
      "Calculating labels\n"
     ]
    },
    {
     "name": "stderr",
     "output_type": "stream",
     "text": [
      "100%|██████████| 1594/1594 [00:01<00:00, 1179.10it/s]\n"
     ]
    },
    {
     "name": "stdout",
     "output_type": "stream",
     "text": [
      "Calculating labels\n"
     ]
    },
    {
     "name": "stderr",
     "output_type": "stream",
     "text": [
      "100%|██████████| 912/912 [00:00<00:00, 1232.48it/s]\n"
     ]
    },
    {
     "name": "stdout",
     "output_type": "stream",
     "text": [
      "Calculating labels\n"
     ]
    },
    {
     "name": "stderr",
     "output_type": "stream",
     "text": [
      "100%|██████████| 1580/1580 [00:01<00:00, 1058.49it/s]\n"
     ]
    },
    {
     "name": "stdout",
     "output_type": "stream",
     "text": [
      "Calculating labels\n"
     ]
    },
    {
     "name": "stderr",
     "output_type": "stream",
     "text": [
      "100%|██████████| 1601/1601 [00:01<00:00, 1148.12it/s]\n"
     ]
    },
    {
     "name": "stdout",
     "output_type": "stream",
     "text": [
      "Calculating labels\n"
     ]
    },
    {
     "name": "stderr",
     "output_type": "stream",
     "text": [
      "100%|██████████| 1601/1601 [00:01<00:00, 1190.15it/s]\n"
     ]
    },
    {
     "name": "stdout",
     "output_type": "stream",
     "text": [
      "Calculating labels\n"
     ]
    },
    {
     "name": "stderr",
     "output_type": "stream",
     "text": [
      "100%|██████████| 840/840 [00:00<00:00, 1127.18it/s]\n"
     ]
    },
    {
     "name": "stdout",
     "output_type": "stream",
     "text": [
      "Calculating labels\n"
     ]
    },
    {
     "name": "stderr",
     "output_type": "stream",
     "text": [
      "100%|██████████| 1601/1601 [00:01<00:00, 1050.04it/s]\n"
     ]
    },
    {
     "name": "stdout",
     "output_type": "stream",
     "text": [
      "Calculating labels\n"
     ]
    },
    {
     "name": "stderr",
     "output_type": "stream",
     "text": [
      "100%|██████████| 1601/1601 [00:01<00:00, 1182.36it/s]\n"
     ]
    },
    {
     "name": "stdout",
     "output_type": "stream",
     "text": [
      "Calculating labels\n"
     ]
    },
    {
     "name": "stderr",
     "output_type": "stream",
     "text": [
      "100%|██████████| 1088/1088 [00:00<00:00, 1168.23it/s]\n"
     ]
    },
    {
     "name": "stdout",
     "output_type": "stream",
     "text": [
      "Calculating labels\n"
     ]
    },
    {
     "name": "stderr",
     "output_type": "stream",
     "text": [
      "100%|██████████| 1601/1601 [00:01<00:00, 1205.88it/s]\n"
     ]
    },
    {
     "name": "stdout",
     "output_type": "stream",
     "text": [
      "Calculating labels\n"
     ]
    },
    {
     "name": "stderr",
     "output_type": "stream",
     "text": [
      "100%|██████████| 1601/1601 [00:01<00:00, 1076.53it/s]\n"
     ]
    },
    {
     "name": "stdout",
     "output_type": "stream",
     "text": [
      "Calculating labels\n"
     ]
    },
    {
     "name": "stderr",
     "output_type": "stream",
     "text": [
      "100%|██████████| 1601/1601 [00:01<00:00, 1187.80it/s]\n"
     ]
    },
    {
     "name": "stdout",
     "output_type": "stream",
     "text": [
      "Calculating labels\n"
     ]
    },
    {
     "name": "stderr",
     "output_type": "stream",
     "text": [
      "100%|██████████| 1258/1258 [00:01<00:00, 1140.86it/s]\n"
     ]
    },
    {
     "name": "stdout",
     "output_type": "stream",
     "text": [
      "Calculating labels\n"
     ]
    },
    {
     "name": "stderr",
     "output_type": "stream",
     "text": [
      "100%|██████████| 1121/1121 [00:00<00:00, 1177.38it/s]\n"
     ]
    },
    {
     "name": "stdout",
     "output_type": "stream",
     "text": [
      "Calculating labels\n"
     ]
    },
    {
     "name": "stderr",
     "output_type": "stream",
     "text": [
      "100%|██████████| 968/968 [00:00<00:00, 1174.88it/s]\n"
     ]
    },
    {
     "name": "stdout",
     "output_type": "stream",
     "text": [
      "Calculating labels\n"
     ]
    },
    {
     "name": "stderr",
     "output_type": "stream",
     "text": [
      "100%|██████████| 1601/1601 [00:01<00:00, 1068.57it/s]\n"
     ]
    },
    {
     "name": "stdout",
     "output_type": "stream",
     "text": [
      "Calculating labels\n"
     ]
    },
    {
     "name": "stderr",
     "output_type": "stream",
     "text": [
      "100%|██████████| 1283/1283 [00:01<00:00, 1193.92it/s]\n"
     ]
    },
    {
     "name": "stdout",
     "output_type": "stream",
     "text": [
      "Calculating labels\n"
     ]
    },
    {
     "name": "stderr",
     "output_type": "stream",
     "text": [
      "100%|██████████| 1601/1601 [00:01<00:00, 1176.73it/s]\n"
     ]
    },
    {
     "name": "stdout",
     "output_type": "stream",
     "text": [
      "Calculating labels\n"
     ]
    },
    {
     "name": "stderr",
     "output_type": "stream",
     "text": [
      "100%|██████████| 1601/1601 [00:01<00:00, 1081.55it/s]\n"
     ]
    },
    {
     "name": "stdout",
     "output_type": "stream",
     "text": [
      "Calculating labels\n"
     ]
    },
    {
     "name": "stderr",
     "output_type": "stream",
     "text": [
      "100%|██████████| 1042/1042 [00:00<00:00, 1213.33it/s]\n"
     ]
    },
    {
     "name": "stdout",
     "output_type": "stream",
     "text": [
      "Calculating labels\n"
     ]
    },
    {
     "name": "stderr",
     "output_type": "stream",
     "text": [
      "100%|██████████| 1292/1292 [00:01<00:00, 1202.61it/s]\n"
     ]
    },
    {
     "name": "stdout",
     "output_type": "stream",
     "text": [
      "Calculating labels\n"
     ]
    },
    {
     "name": "stderr",
     "output_type": "stream",
     "text": [
      "100%|██████████| 1580/1580 [00:01<00:00, 1200.84it/s]\n"
     ]
    },
    {
     "name": "stdout",
     "output_type": "stream",
     "text": [
      "Calculating labels\n"
     ]
    },
    {
     "name": "stderr",
     "output_type": "stream",
     "text": [
      "100%|██████████| 1580/1580 [00:01<00:00, 1184.76it/s]\n"
     ]
    },
    {
     "name": "stdout",
     "output_type": "stream",
     "text": [
      "Calculating labels\n"
     ]
    },
    {
     "name": "stderr",
     "output_type": "stream",
     "text": [
      "100%|██████████| 1594/1594 [00:01<00:00, 1111.44it/s]\n"
     ]
    },
    {
     "name": "stdout",
     "output_type": "stream",
     "text": [
      "Calculating labels\n"
     ]
    },
    {
     "name": "stderr",
     "output_type": "stream",
     "text": [
      "100%|██████████| 1579/1579 [00:01<00:00, 1207.38it/s]\n"
     ]
    },
    {
     "name": "stdout",
     "output_type": "stream",
     "text": [
      "Calculating labels\n"
     ]
    },
    {
     "name": "stderr",
     "output_type": "stream",
     "text": [
      "100%|██████████| 1404/1404 [00:01<00:00, 1179.74it/s]\n"
     ]
    }
   ],
   "source": [
    "import pandas as pd\n",
    "import talib\n",
    "\n",
    "#for code in filtered_codes_by_oi_mean:\n",
    "for code in filtered_codes_by_oi_mean:\n",
    "    file_path = f\"{code}_weighted.csv\"  # 构建文件路径\n",
    "    df = pd.read_csv(file_path)  # 加载数据\n",
    "\n",
    "    # 将所有的0值替换为NaN\n",
    "    df.replace(0, np.nan, inplace=True)\n",
    "    \n",
    "    df = df.sort_index(ascending=True)\n",
    "    # 计算SMA 20日移动平均\n",
    "    df['SMA_20'] = talib.SMA(df['CLOSE'], timeperiod=20)\n",
    "\n",
    "     # 计算SMA 20日移动平均\n",
    "    df['SMA_100'] = talib.SMA(df['CLOSE'], timeperiod=100)\n",
    "\n",
    "     # 计算SMA 20日移动平均\n",
    "    df['SMA_200'] = talib.SMA(df['CLOSE'], timeperiod=200)\n",
    "    \n",
    "    \n",
    "    # 计算RSI 14日相对强弱指数\n",
    "    df['RSI_14'] = talib.RSI(df['CLOSE'], timeperiod=14)\n",
    "\n",
    "    # 计算RSI 14日相对强弱指数\n",
    "    df['RSI_30'] = talib.RSI(df['CLOSE'], timeperiod=30)\n",
    "    \n",
    "    # 计算布林带\n",
    "    df['upper_band'], df['middle_band'], df['lower_band'] = talib.BBANDS(df['CLOSE'], timeperiod=40, nbdevup=2, nbdevdn=2, matype=0)\n",
    "    \n",
    "    # MACD\n",
    "    df['macd'], df['macdsignal'], df['macdhist'] = talib.MACD(df['CLOSE'], fastperiod=12, slowperiod=26, signalperiod=9)\n",
    "    \n",
    "    # On-Balance Volume\n",
    "    df['obv'] = talib.OBV(df['CLOSE'], df['VOLUME'])\n",
    "    \n",
    "    # Average True Range\n",
    "    df['atr'] = talib.ATR(df['HIGH'], df['LOW'], df['CLOSE'], timeperiod=14)\n",
    "    \n",
    "    df['label'] = create_labels(df, 'CLOSE', window_size=11)\n",
    "    \n",
    "    df_cleaned = df.dropna()\n",
    "    \n",
    "    df_cleaned.to_csv(f\"{code}_technical.csv\", index=False)\n",
    "\n",
    "\n",
    "\n"
   ]
  },
  {
   "cell_type": "code",
   "execution_count": 56,
   "id": "17d6bf55-f8da-499b-92c0-9df9d57eba2a",
   "metadata": {},
   "outputs": [
    {
     "data": {
      "image/png": "[encoded data removed]",
      "text/plain": [
       "<Figure size 1400x800 with 1 Axes>"
      ]
     },
     "metadata": {},
     "output_type": "display_data"
    }
   ],
   "source": [
    "import pandas as pd\n",
    "import matplotlib.pyplot as plt\n",
    "\n",
    "# 初始化一个空字典来存储每个合约的标签分布\n",
    "label_distributions = {}\n",
    "\n",
    "# 遍历每个合约代码，加载数据，计算标签分布\n",
    "for code in filtered_codes_by_oi_mean:\n",
    "    file_path = f\"{code}_technical.csv\"  # 假设标签数据保存在这些文件中\n",
    "    data = pd.read_csv(file_path)\n",
    "    label_distribution = data['label'].value_counts()  # 计算标签的绝对数\n",
    "    label_distributions[code] = label_distribution\n",
    "\n",
    "# 创建一个新的DataFrame来存储所有合约的标签分布数据\n",
    "df_distributions = pd.DataFrame(label_distributions).T.fillna(0)\n",
    "\n",
    "# 绘制条形图\n",
    "df_distributions.plot(kind='bar', figsize=(14, 8), width=0.8)\n",
    "plt.title('Label Distribution Across Different Contracts')\n",
    "plt.ylabel('Counts')\n",
    "plt.xlabel('Contracts')\n",
    "plt.legend(title='Labels')\n",
    "plt.grid(axis='y', linestyle='--', linewidth=0.7)\n",
    "plt.tight_layout()\n",
    "plt.show()"
   ]
  },
  {
   "cell_type": "code",
   "execution_count": 57,
   "id": "7cee4caf-4d7c-40be-a578-ee5c07bee321",
   "metadata": {},
   "outputs": [
    {
     "name": "stdout",
     "output_type": "stream",
     "text": [
      "数据集 S.CBT 太小，无法创建有效的训练集。跳过此数据集。\n",
      "数据集 C.CBT 太小，无法创建有效的训练集。跳过此数据集。\n",
      "数据集 BO.CBT 太小，无法创建有效的训练集。跳过此数据集。\n",
      "数据集 SM.CBT 太小，无法创建有效的训练集。跳过此数据集。\n",
      "数据集 W.CBT 太小，无法创建有效的训练集。跳过此数据集。\n",
      "数据集 LC.CME 太小，无法创建有效的训练集。跳过此数据集。\n",
      "数据集 LH.CME 太小，无法创建有效的训练集。跳过此数据集。\n",
      "数据集 B.DCE 太小，无法创建有效的训练集。跳过此数据集。\n",
      "数据集 AO.SHF 太小，无法创建有效的训练集。跳过此数据集。\n",
      "数据集 FU.SHF 太小，无法创建有效的训练集。跳过此数据集。\n"
     ]
    }
   ],
   "source": [
    "import numpy as np\n",
    "import pandas as pd\n",
    "from sklearn.preprocessing import MinMaxScaler\n",
    "from sklearn.model_selection import train_test_split\n",
    "\n",
    "\n",
    "# 初始化存储容器\n",
    "scalers = {}  # 用于存储每个品种的scaler\n",
    "all_X_train = []\n",
    "all_X_test = []\n",
    "all_y_train = []\n",
    "all_y_test = []\n",
    "all_dates = []  # 保存每个样本的日期范围\n",
    "all_varieties = []  # 保存每个样本的品种信息\n",
    "\n",
    "lookback_days = 20\n",
    "\n",
    "for code in  filtered_codes_by_oi_mean:\n",
    "    file_path = f\"{code}_technical.csv\"\n",
    "    try:\n",
    "        data = pd.read_csv(file_path)\n",
    "    except FileNotFoundError:\n",
    "        print(f\"文件 {file_path} 未找到，跳过此文件。\")\n",
    "        continue\n",
    "\n",
    "    # 转换第一列为日期格式并按日期排序\n",
    "    data.iloc[:, 0] = pd.to_datetime(data.iloc[:, 0])\n",
    "    data = data.sort_values(data.columns[0])\n",
    "\n",
    "    if len(data) < lookback_days:  # 如果数据量小于回溯天数\n",
    "        print(f\"数据集 {code} 太小，无法创建有效的训练集。跳过此数据集。\")\n",
    "        continue\n",
    "        \n",
    "    # 添加品种代码作为特征\n",
    "    data['Variety'] = code\n",
    "\n",
    "    features = []\n",
    "    labels = []\n",
    "    \n",
    "    # 选择除了标签、变化百分比和日期之外的所有列作为特征\n",
    "    feature_columns = data.columns[1:-2]\n",
    "\n",
    "    # 创建输入-输出对\n",
    "    for i in range(lookback_days, len(data)):\n",
    "        window = data.iloc[i - lookback_days:i][feature_columns].values\n",
    "        label = data.iloc[i, -2]\n",
    "        features.append(window)\n",
    "        labels.append(label)\n",
    "        start_date = data.iloc[i - lookback_days, 0]  # 起始日期\n",
    "        all_dates.append(start_date.strftime('%Y-%m-%d'))  # 转换为字符串格式\n",
    "        all_varieties.append(code)  # 保存品种\n",
    "        \n",
    "    X = np.array(features)\n",
    "    y = np.array(labels)\n",
    "\n",
    "    # 分割数据集\n",
    "    X_train, X_test, y_train, y_test = train_test_split(X, y, test_size=0.3, shuffle=False)\n",
    "\n",
    "    # 初始化StandardScaler\n",
    "    scaler =MinMaxScaler()\n",
    "\n",
    "    # Fit and transform the training data\n",
    "    X_train_scaled = scaler.fit_transform(X_train.reshape(-1, X_train.shape[2])).reshape(X_train.shape)\n",
    "\n",
    "    # Transform the test data using the same scaler\n",
    "    X_test_scaled = scaler.transform(X_test.reshape(-1, X_test.shape[2])).reshape(X_test.shape)\n",
    "    \n",
    "     # 添加一个额外的维度以表示单通道\n",
    "    X_train_scaled = X_train_scaled.reshape((*X_train_scaled.shape, 1))\n",
    "    X_test_scaled = X_test_scaled.reshape((*X_test_scaled.shape, 1))\n",
    "    \n",
    "    # 保存scaler\n",
    "    scalers[code] = scaler\n",
    "    \n",
    "    # 将处理后的数据添加到列表中\n",
    "    all_X_train.append(X_train_scaled)\n",
    "    all_X_test.append(X_test_scaled)\n",
    "    all_y_train.append(y_train)\n",
    "    all_y_test.append(y_test)\n",
    "\n",
    "# 使用np.concatenate来合并数据\n",
    "X_train_combined = np.concatenate(all_X_train, axis=0)\n",
    "X_test_combined = np.concatenate(all_X_test, axis=0)\n",
    "y_train_combined = np.concatenate(all_y_train, axis=0)\n",
    "y_test_combined = np.concatenate(all_y_test, axis=0)"
   ]
  },
  {
   "cell_type": "code",
   "execution_count": 58,
   "id": "3a7e8b87-c06a-48ee-b938-fd57fc63a8f2",
   "metadata": {},
   "outputs": [
    {
     "data": {
      "text/plain": [
       "((43690, 20, 19, 1), (18785, 20, 19, 1), (43690,), (18785,))"
      ]
     },
     "execution_count": 58,
     "metadata": {},
     "output_type": "execute_result"
    }
   ],
   "source": [
    "# Check the shapes of the resulting arrays\n",
    "X_train_combined.shape, X_test_combined.shape, y_train_combined.shape, y_test_combined.shape"
   ]
  },
  {
   "cell_type": "code",
   "execution_count": 59,
   "id": "76d3edf1-fe85-4e27-b999-eecba91fab20",
   "metadata": {},
   "outputs": [
    {
     "data": {
      "image/png": "[encoded data removed]",
      "text/plain": [
       "<Figure size 1000x500 with 3 Axes>"
      ]
     },
     "metadata": {},
     "output_type": "display_data"
    }
   ],
   "source": [
    "import matplotlib.pyplot as plt\n",
    "import numpy as np\n",
    "\n",
    "# 随机选择三个样本的索引\n",
    "indices = np.random.choice(X_train_combined.shape[0], 3, replace=False)\n",
    "\n",
    "# 创建一个图和三个子图 (axs) 的网格\n",
    "fig, axs = plt.subplots(1, 3, figsize=(10, 5))\n",
    "\n",
    "# 遍历所选的每个索引和对应的子图\n",
    "for i, ax in zip(indices, axs.flatten()):\n",
    "    # 从训练集中获取对应的样本\n",
    "    # 注意: 我们需要使用squeeze()方法去掉大小为1的维度，使得imshow能够正常工作\n",
    "    image = X_train_combined[i].squeeze()\n",
    "    \n",
    "    # 使用灰度色彩映射显示图像\n",
    "    ax.imshow(image, cmap='viridis')\n",
    "    \n",
    "    title = f'{all_varieties[i]}\\n{all_dates[i]}'\n",
    "    # 设置图像的标题为样本的索引\n",
    "    ax.set_title(title)\n",
    "    \n",
    "    # 关闭坐标轴显示\n",
    "    ax.axis('off')\n",
    "\n",
    "# 显示图像\n",
    "plt.show()\n"
   ]
  },
  {
   "cell_type": "code",
   "execution_count": 60,
   "id": "5936d79d-bc7e-41fe-9ff1-ba7e96f2ca6f",
   "metadata": {},
   "outputs": [
    {
     "name": "stdout",
     "output_type": "stream",
     "text": [
      "真实类权重为 [5.56915233 5.44016934 0.37927323] [0 1 2]\n",
      "值计数 (array([0, 1, 2]), array([ 2615,  2677, 38398], dtype=int64))\n"
     ]
    }
   ],
   "source": [
    "import numpy as np\n",
    "from sklearn.utils.class_weight import compute_class_weight\n",
    "\n",
    "def get_sample_weights(y):\n",
    "    \"\"\"\n",
    "    计算基于类权重的样本权重。用于处理不平衡数据和一热编码预测的模型。\n",
    "\n",
    "    参数:\n",
    "        y: 类标签为整数\n",
    "    \"\"\"\n",
    "\n",
    "    y_int = y.astype(int)  # compute_class_weight需要整数标签\n",
    "    class_weights = compute_class_weight('balanced', classes=np.unique(y_int), y=y_int)\n",
    "\n",
    "    print(\"真实类权重为 {}\".format(class_weights), np.unique(y_int))\n",
    "    print(\"值计数\", np.unique(y_int, return_counts=True))\n",
    "    \n",
    "    sample_weights = np.array([class_weights[class_label] for class_label in y_int])\n",
    "\n",
    "    return sample_weights\n",
    "    \n",
    "sample_weights =  get_sample_weights(y_train_combined)\n"
   ]
  },
  {
   "cell_type": "code",
   "execution_count": 63,
   "id": "ab66f334-958c-4b86-b745-5611d33a4904",
   "metadata": {},
   "outputs": [],
   "source": [
    "import torch\n",
    "import torch.nn as nn\n",
    "import torch.nn.functional as F\n",
    "from torch.utils.data import TensorDataset, DataLoader\n",
    "\n",
    "\n",
    "#  y_train_combined 和 y_test_combined 已经是整数标签\n",
    "y_train_tensor = torch.tensor(y_train_combined, dtype=torch.long)\n",
    "y_test_tensor = torch.tensor(y_test_combined, dtype=torch.long)\n",
    "X_train_tensor = torch.tensor(X_train_combined, dtype=torch.float32)\n",
    "X_test_tensor = torch.tensor(X_test_combined, dtype=torch.float32)\n",
    "\n",
    "X_train_tensor = X_train_tensor.permute(0, 3, 1, 2)  # 从 [batch, height, width, channels] 转换为 [batch, channels, height, width]\n",
    "X_test_tensor = X_test_tensor.permute(0, 3, 1, 2)    # 同上\n",
    "\n",
    "# 然后创建TensorDataset和DataLoader，如之前所示\n",
    "\n",
    "\n",
    "# Create TensorDatasets and DataLoaders\n",
    "train_dataset = TensorDataset(X_train_tensor, y_train_tensor)\n",
    "test_dataset = TensorDataset(X_test_tensor, y_test_tensor)\n",
    "\n",
    "batch_size = 64\n",
    "train_loader = DataLoader(dataset=train_dataset, batch_size=batch_size, shuffle=True, drop_last=True)\n",
    "test_loader = DataLoader(dataset=test_dataset, batch_size=batch_size, shuffle=False, drop_last=True)\n"
   ]
  },
  {
   "cell_type": "code",
   "execution_count": 64,
   "id": "ab002e29-4e77-47a3-8d74-fc6b68bc8f62",
   "metadata": {},
   "outputs": [
    {
     "name": "stdout",
     "output_type": "stream",
     "text": [
      "Training samples: 43690, Batches: 682\n",
      "Testing samples: 18785, Batches: 293\n"
     ]
    }
   ],
   "source": [
    "print(f\"Training samples: {len(train_dataset)}, Batches: {len(train_loader)}\")\n",
    "print(f\"Testing samples: {len(test_dataset)}, Batches: {len(test_loader)}\")"
   ]
  },
  {
   "cell_type": "code",
   "execution_count": 68,
   "id": "b9b29127-c226-4c65-8062-17e516a1360a",
   "metadata": {},
   "outputs": [],
   "source": [
    "\n",
    "import torch.optim as optim\n",
    "from torch.utils.data import DataLoader, TensorDataset, WeightedRandomSampler\n",
    "\n",
    "class SimpleCNN(nn.Module):\n",
    "    def __init__(self):\n",
    "        super(SimpleCNN, self).__init__()\n",
    "        self.conv1 = nn.Conv2d(1, 16, kernel_size=3, padding=1)  # 假设输入通道为1\n",
    "        self.pool = nn.MaxPool2d(2, 2)\n",
    "        self.conv2 = nn.Conv2d(16, 32, kernel_size=3, padding=1)\n",
    "        self.fc1 = nn.Linear(32 *5 * 4, 120)  # 根据池化层后的维度调整\n",
    "        self.fc2 = nn.Linear(120, 3)  # 有3个类别\n",
    "        self.dropout = nn.Dropout(0.3)\n",
    "    \n",
    "    def forward(self, x):\n",
    "        x = self.pool(F.relu(self.conv1(x)))\n",
    "        x = self.pool(F.relu(self.conv2(x)))\n",
    "        x = x.view(-1, 32 * 5 * 4)  # 调整尺寸以匹配全连接层的输入\n",
    "        x = F.relu(self.fc1(x))\n",
    "        x = self.dropout(x)\n",
    "        x = self.fc2(x)\n",
    "        return x\n"
   ]
  },
  {
   "cell_type": "code",
   "execution_count": 69,
   "id": "19c17ca5-d6dd-40e0-852d-2d05f1f90e48",
   "metadata": {},
   "outputs": [
    {
     "name": "stdout",
     "output_type": "stream",
     "text": [
      "Epoch 1, Loss: 1.1843363046646118\n",
      "Epoch 2, Loss: 0.9001965522766113\n",
      "Epoch 3, Loss: 0.873399019241333\n",
      "Epoch 4, Loss: 0.7811712622642517\n",
      "Epoch 5, Loss: 0.9382631182670593\n",
      "Epoch 6, Loss: 0.9037982225418091\n",
      "Epoch 7, Loss: 0.7754673957824707\n",
      "Epoch 8, Loss: 0.7971494793891907\n",
      "Epoch 9, Loss: 0.8619864583015442\n",
      "Epoch 10, Loss: 0.9466421008110046\n",
      "Epoch 11, Loss: 0.8775619268417358\n",
      "Epoch 12, Loss: 0.8198288679122925\n",
      "Epoch 13, Loss: 0.9149169921875\n",
      "Epoch 14, Loss: 0.7599552869796753\n",
      "Epoch 15, Loss: 0.6766330003738403\n",
      "Epoch 16, Loss: 0.7442353367805481\n",
      "Epoch 17, Loss: 0.6500023007392883\n",
      "Epoch 18, Loss: 0.8241535425186157\n",
      "Epoch 19, Loss: 0.6967796683311462\n",
      "Epoch 20, Loss: 0.7673464417457581\n",
      "Epoch 21, Loss: 0.8439542055130005\n",
      "Epoch 22, Loss: 0.6070125102996826\n",
      "Epoch 23, Loss: 0.7872725129127502\n",
      "Epoch 24, Loss: 0.7554147839546204\n",
      "Epoch 25, Loss: 0.7606785893440247\n",
      "Epoch 26, Loss: 0.8012162446975708\n",
      "Epoch 27, Loss: 0.7605980038642883\n",
      "Epoch 28, Loss: 0.6716945171356201\n",
      "Epoch 29, Loss: 0.7458126544952393\n",
      "Epoch 30, Loss: 0.7896985411643982\n",
      "Epoch 31, Loss: 0.6040518879890442\n",
      "Epoch 32, Loss: 0.722968339920044\n",
      "Epoch 33, Loss: 0.6873568296432495\n",
      "Epoch 34, Loss: 0.5050759315490723\n",
      "Epoch 35, Loss: 0.6942915916442871\n",
      "Epoch 36, Loss: 0.44223785400390625\n",
      "Epoch 37, Loss: 0.7039962410926819\n",
      "Epoch 38, Loss: 0.5564932227134705\n",
      "Epoch 39, Loss: 0.6650557518005371\n",
      "Epoch 40, Loss: 0.5369398593902588\n",
      "Epoch 41, Loss: 0.485058456659317\n",
      "Epoch 42, Loss: 0.5596935153007507\n",
      "Epoch 43, Loss: 0.6226963996887207\n",
      "Epoch 44, Loss: 0.6788439750671387\n",
      "Epoch 45, Loss: 0.57054203748703\n",
      "Epoch 46, Loss: 0.48894762992858887\n",
      "Epoch 47, Loss: 0.610603928565979\n",
      "Epoch 48, Loss: 0.671288251876831\n",
      "Epoch 49, Loss: 0.49510324001312256\n",
      "Epoch 50, Loss: 0.5082058906555176\n",
      "Epoch 51, Loss: 0.5179751515388489\n",
      "Epoch 52, Loss: 0.5450512170791626\n",
      "Epoch 53, Loss: 0.5416247248649597\n",
      "Epoch 54, Loss: 0.5888088941574097\n",
      "Epoch 55, Loss: 0.46561118960380554\n",
      "Epoch 56, Loss: 0.6699498295783997\n",
      "Epoch 57, Loss: 0.6229516267776489\n",
      "Epoch 58, Loss: 0.5814405083656311\n",
      "Epoch 59, Loss: 0.5503463745117188\n",
      "Epoch 60, Loss: 0.5210999846458435\n",
      "Epoch 61, Loss: 0.48919644951820374\n",
      "Epoch 62, Loss: 0.4229884445667267\n",
      "Epoch 63, Loss: 0.6104467511177063\n",
      "Epoch 64, Loss: 0.5127261877059937\n",
      "Epoch 65, Loss: 0.5235819816589355\n",
      "Epoch 66, Loss: 0.48801445960998535\n",
      "Epoch 67, Loss: 0.492472380399704\n",
      "Epoch 68, Loss: 0.46290022134780884\n",
      "Epoch 69, Loss: 0.5397247076034546\n",
      "Epoch 70, Loss: 0.4853268265724182\n",
      "Epoch 71, Loss: 0.4424618184566498\n",
      "Epoch 72, Loss: 0.47426101565361023\n",
      "Epoch 73, Loss: 0.5385727286338806\n",
      "Epoch 74, Loss: 0.3839856684207916\n",
      "Epoch 75, Loss: 0.39751800894737244\n",
      "Epoch 76, Loss: 0.6025025844573975\n",
      "Epoch 77, Loss: 0.3608696758747101\n",
      "Epoch 78, Loss: 0.5730462670326233\n",
      "Epoch 79, Loss: 0.43053966760635376\n",
      "Epoch 80, Loss: 0.44462889432907104\n",
      "Epoch 81, Loss: 0.42406171560287476\n",
      "Epoch 82, Loss: 0.4574258029460907\n",
      "Epoch 83, Loss: 0.383739709854126\n",
      "Epoch 84, Loss: 0.5800016522407532\n",
      "Epoch 85, Loss: 0.3308357000350952\n",
      "Epoch 86, Loss: 0.39694419503211975\n",
      "Epoch 87, Loss: 0.7088293433189392\n",
      "Epoch 88, Loss: 0.3743788003921509\n",
      "Epoch 89, Loss: 0.34864938259124756\n",
      "Epoch 90, Loss: 0.3892347812652588\n",
      "Epoch 91, Loss: 0.4016695022583008\n",
      "Epoch 92, Loss: 0.20992156863212585\n",
      "Epoch 93, Loss: 0.36721158027648926\n",
      "Epoch 94, Loss: 0.624247133731842\n",
      "Epoch 95, Loss: 0.48887133598327637\n",
      "Epoch 96, Loss: 0.5209186673164368\n",
      "Epoch 97, Loss: 0.36872196197509766\n",
      "Epoch 98, Loss: 0.2795937955379486\n",
      "Epoch 99, Loss: 0.47990211844444275\n",
      "Epoch 100, Loss: 0.4124021530151367\n",
      "Epoch 101, Loss: 0.4450750946998596\n",
      "Epoch 102, Loss: 0.29876402020454407\n",
      "Epoch 103, Loss: 0.29476505517959595\n",
      "Epoch 104, Loss: 0.4243651032447815\n",
      "Epoch 105, Loss: 0.2614472806453705\n",
      "Epoch 106, Loss: 0.29752659797668457\n",
      "Epoch 107, Loss: 0.3210473656654358\n",
      "Epoch 108, Loss: 0.4424223303794861\n",
      "Epoch 109, Loss: 0.5116511583328247\n",
      "Epoch 110, Loss: 0.4632105529308319\n",
      "Epoch 111, Loss: 0.3823636472225189\n",
      "Epoch 112, Loss: 0.37538090348243713\n",
      "Epoch 113, Loss: 0.4145006537437439\n",
      "Epoch 114, Loss: 0.47013479471206665\n",
      "Epoch 115, Loss: 0.4513346254825592\n",
      "Epoch 116, Loss: 0.4544740319252014\n",
      "Epoch 117, Loss: 0.39737674593925476\n",
      "Epoch 118, Loss: 0.46144309639930725\n",
      "Epoch 119, Loss: 0.3247586786746979\n",
      "Epoch 120, Loss: 0.40290772914886475\n",
      "Epoch 121, Loss: 0.5316227674484253\n",
      "Epoch 122, Loss: 0.4001564383506775\n",
      "Epoch 123, Loss: 0.3683105707168579\n",
      "Epoch 124, Loss: 0.3019865155220032\n",
      "Epoch 125, Loss: 0.43523839116096497\n",
      "Epoch 126, Loss: 0.2529401183128357\n",
      "Epoch 127, Loss: 0.24192680418491364\n",
      "Epoch 128, Loss: 0.4218865931034088\n"
     ]
    }
   ],
   "source": [
    "from torch.utils.data import DataLoader, TensorDataset, WeightedRandomSampler\n",
    "\n",
    "# 假设X_train_tensor, y_train_tensor已经准备好\n",
    "# sample_weights是从您的get_sample_weights函数计算得到的\n",
    "\n",
    "# 将样本权重转换为Tensor\n",
    "sample_weights_tensor = torch.from_numpy(sample_weights).double()\n",
    "\n",
    "# 使用WeightedRandomSampler\n",
    "sampler = WeightedRandomSampler(sample_weights_tensor, len(sample_weights_tensor), replacement=True)\n",
    "\n",
    "# 创建TensorDataset\n",
    "train_dataset = TensorDataset(X_train_tensor, y_train_tensor)\n",
    "\n",
    "# 创建带有sampler的DataLoader\n",
    "train_loader = DataLoader(dataset=train_dataset, batch_size=64, sampler=sampler)\n",
    "\n",
    "# 实例化模型、定义损失函数和优化器\n",
    "model = SimpleCNN()\n",
    "criterion = nn.CrossEntropyLoss()\n",
    "optimizer = optim.Adam(model.parameters(), lr=0.001)\n",
    "\n",
    "# 训练模型\n",
    "num_epochs = 128\n",
    "for epoch in range(num_epochs):\n",
    "    for inputs, labels in train_loader:\n",
    "        optimizer.zero_grad()\n",
    "        outputs = model(inputs)\n",
    "        loss = criterion(outputs, labels)\n",
    "        loss.backward()\n",
    "        optimizer.step()\n",
    "    print(f'Epoch {epoch+1}, Loss: {loss.item()}')\n"
   ]
  },
  {
   "cell_type": "code",
   "execution_count": 70,
   "id": "302c3ad1-9376-44e4-8981-36a6a39bc8b4",
   "metadata": {},
   "outputs": [
    {
     "name": "stdout",
     "output_type": "stream",
     "text": [
      "Accuracy on test set: 0.6859\n"
     ]
    }
   ],
   "source": [
    "model.eval()  # 设置模型为评估模式\n",
    "correct = 0\n",
    "total = 0\n",
    "with torch.no_grad():  # 在评估阶段不计算梯度\n",
    "    for data, targets in test_loader:\n",
    "        outputs = model(data)\n",
    "        _, predicted = torch.max(outputs.data, 1)\n",
    "        total += targets.size(0)\n",
    "        correct += (predicted == targets).sum().item()\n",
    "\n",
    "accuracy = correct / total\n",
    "print(f'Accuracy on test set: {accuracy:.4f}')\n"
   ]
  },
  {
   "cell_type": "code",
   "execution_count": 71,
   "id": "9783fe44-badd-4124-a04b-24baa6da944a",
   "metadata": {},
   "outputs": [
    {
     "data": {
      "image/png": "[encoded data removed]",
      "text/plain": [
       "<Figure size 640x480 with 2 Axes>"
      ]
     },
     "metadata": {},
     "output_type": "display_data"
    }
   ],
   "source": [
    "\n",
    "from sklearn.metrics import confusion_matrix\n",
    "import seaborn as sns\n",
    "import matplotlib.pyplot as plt\n",
    "\n",
    "# 确保模型处于评估模式\n",
    "model.eval()\n",
    "\n",
    "# 收集所有预测和标签\n",
    "all_preds = []\n",
    "all_targets = []\n",
    "\n",
    "with torch.no_grad():\n",
    "    for data, targets in test_loader:\n",
    "        outputs = model(data)\n",
    "        _, preds = torch.max(outputs, 1)\n",
    "        all_preds.extend(preds.cpu().numpy())\n",
    "        all_targets.extend(targets.cpu().numpy())\n",
    "\n",
    "# 计算混淆矩阵\n",
    "cm = confusion_matrix(all_targets, all_preds)\n",
    "\n",
    "# 假设您知道每个整数标签对应的原始类别名称\n",
    "original_classes = ['sell', 'buy', 'hold']\n",
    "\n",
    "# 直接使用原始类别名称作为混淆矩阵的轴标签\n",
    "sns.heatmap(cm, annot=True, fmt='d', cmap='Blues', \n",
    "            xticklabels=original_classes, yticklabels=original_classes)\n",
    "plt.xlabel('Predicted labels')\n",
    "plt.ylabel('True labels')\n",
    "plt.title('Confusion Matrix')\n",
    "plt.show()\n"
   ]
  },
  {
   "cell_type": "code",
   "execution_count": null,
   "id": "949c1199-e8b4-43de-9bf5-49e165fa2707",
   "metadata": {},
   "outputs": [],
   "source": []
  }
 ],
 "metadata": {
  "kernelspec": {
   "display_name": "Python 3 (ipykernel)",
   "language": "python",
   "name": "python3"
  },
  "language_info": {
   "codemirror_mode": {
    "name": "ipython",
    "version": 3
   },
   "file_extension": ".py",
   "mimetype": "text/x-python",
   "name": "python",
   "nbconvert_exporter": "python",
   "pygments_lexer": "ipython3",
   "version": "3.8.18"
  }
 },
 "nbformat": 4,
 "nbformat_minor": 5
}
