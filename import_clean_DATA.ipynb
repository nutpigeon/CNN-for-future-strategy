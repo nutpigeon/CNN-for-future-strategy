{
 "cells": [
  {
   "cell_type": "code",
   "execution_count": 3,
   "id": "8b8a8205-c9d8-4ce9-b6ba-88802b6575e4",
   "metadata": {
    "scrolled": true
   },
   "outputs": [],
   "source": [
    "import pandas as pd\n",
    "#from WindPy import w\n",
    "import numpy as np\n",
    "#w.start()\n",
    "\n",
    "\n",
    "\n"
   ]
  },
  {
   "cell_type": "raw",
   "id": "e6de073b-5958-4c85-8df0-5baaff94201d",
   "metadata": {},
   "source": [
    "def process_future_contract(future_code, exc):\n",
    "    data_frames = []\n",
    "\n",
    "    # 第一次提取最近800个交易日的数据\n",
    "    for i in range(12):  # 尝试处理最多12个月份的合约\n",
    "        contract_code = f\"{future_code}{i:02d}.{exc}\"\n",
    "        data = w.wsd(contract_code, \"open,high,low,close,volume,oi\", \"ED-800TD\", \"2024-03-22\", \"\")\n",
    "        \n",
    "        if data.ErrorCode == 0:\n",
    "            df = pd.DataFrame(data.Data, index=data.Fields, columns=data.Times).T\n",
    "            df['CONTRACT'] = contract_code\n",
    "            data_frames.append(df)\n",
    "        else:\n",
    "            print(f\"Error or no data for {contract_code}: {data.ErrorCode}\")\n",
    "            continue\n",
    "\n",
    "    # 如果没有获取到任何合约数据，则返回空DataFrame\n",
    "    if not data_frames:\n",
    "        return pd.DataFrame()\n",
    "\n",
    "    combined_df_first = pd.concat(data_frames)\n",
    "    earliest_date = combined_df_first.index.min()  # 获取最早的交易日\n",
    "\n",
    "    # 从最早的交易日向前再提取800个交易日的数据\n",
    "    data_frames_second = []\n",
    "    for i in range(12):\n",
    "        contract_code = f\"{future_code}{i:02d}.{exc}\"\n",
    "        data = w.wsd(contract_code, \"open,high,low,close,volume,oi\", \"ED-800TD\", earliest_date, \"Fill=Previous\")\n",
    "        \n",
    "        if data.ErrorCode == 0:\n",
    "            df = pd.DataFrame(data.Data, index=data.Fields, columns=data.Times).T\n",
    "            df['CONTRACT'] = contract_code\n",
    "            data_frames_second.append(df)\n",
    "        else:\n",
    "            print(f\"Error or no data for {contract_code}: {data.ErrorCode}\")\n",
    "            continue\n",
    "\n",
    "    combined_df_second = pd.concat(data_frames_second)\n",
    "\n",
    "    # 合并两次提取的数据\n",
    "    combined_df = pd.concat([combined_df_first, combined_df_second]).drop_duplicates()\n",
    "    \n",
    "    \n",
    "        # 初始化DataFrame\n",
    "    weighted_df = pd.DataFrame(index=combined_df.index.unique())\n",
    "    \n",
    "    # 计算加权平均\n",
    "    for column in ['OPEN', 'HIGH', 'LOW', 'CLOSE']:\n",
    "        weighted_values = combined_df.groupby(combined_df.index).apply(\n",
    "            lambda x: np.nan if x['OI'].sum() == 0 else (x[column] * x['OI']).sum() / x['OI'].sum()\n",
    "        )\n",
    "        weighted_df[column] = weighted_values\n",
    "    \n",
    "    # 计算总和\n",
    "    for column in ['VOLUME', 'OI']:\n",
    "        total_values = combined_df.groupby(combined_df.index)[column].sum()\n",
    "        weighted_df[column] = total_values\n",
    "    \n",
    "    weighted_df.sort_index(ascending=True, inplace=True)\n",
    "\n",
    "    \n",
    "    return weighted_df\n",
    "\n"
   ]
  },
  {
   "cell_type": "raw",
   "id": "d3be62f3-44e6-44ea-ba58-7da6c9e9d0fe",
   "metadata": {},
   "source": [
    "future_codes = [\"A.DCE\", \"AG.SHF\", \"AU.SHF\", \"AL.SHF\", \"C.DCE\", \"CU.SHF\", \"HC.SHF\", \"NI.SHF\", \"RB.SHF\", \"SA.CZC\", \"SP.SHF\", \"SR.CZC\", \"TA.CZC\", \"Y.DCE\",\n",
    "    \"ZN.SHF\", \"I.DCE\", \"AU.SHF\", \"AP.CZC\", \"EB.DCE\", \"EG.DCE\", \"FG.CZC\"]\n",
    "\n",
    "for code in future_codes:\n",
    "    base_code, exc = code.split('.')  # 分割字符串以获取基础代码和交易所代码\n",
    "    weighted_df = process_future_contract(base_code, exc)\n",
    "    # 将加权平均数据保存到文件以便以后使用\n",
    "    weighted_df.to_csv(f\"{code}_weighted.csv\")"
   ]
  },
  {
   "cell_type": "code",
   "execution_count": 4,
   "id": "2952e6a9-13ac-4da9-a876-9597d0f51ff9",
   "metadata": {},
   "outputs": [],
   "source": [
    "# 定义原始代码列表和需要移除的代码列表\n",
    "original_codes = [\n",
    "    \"S.CBT\"\n",
    "    , \"M.DCE\", \"Y.DCE\", \"P.DCE\", \"SB.NYB\", \"SR.CZC\", \"CT.NYB\", \"CF.CZC\", \"RM.CZC\",\n",
    "    \"C.CBT\", \"C.DCE\", \"CS.DCE\", \"JD.DCE\", \"OI.CZC\", \"A.DCE\", \"LH.DCE\", \"PK.CZC\", \"RR.DCE\",\n",
    "    \"BO.CBT\", \"SM.CBT\", \"W.CBT\", \"RR.CBT\", \"LC.CME\", \"LH.CME\", \"O.CBT\", \"YK.CBT\", \"YC.CBT\",\n",
    "    \"YW.CBT\", \"FC.CME\", \"DA.CME\", \"OJ.NYB\", \"CC.NYB\", \"KC.NYB\", \"TT.NYM\", \"YO.NYM\", \"CJ.NYM\",\n",
    "    \"KT.NYM\", \"BB.DCE\", \"FB.DCE\", \"RI.CZC\", \"LR.CZC\", \"JR.CZC\", \"PM.CZC\", \"WH.CZC\", \"RS.CZC\",\n",
    "    \"B.DCE\", \"CJ.CZC\", \"CA.LME\", \"CU.SHF\", \"BC.INE\", \"HG.CMX\", \"ZS.LME\", \"ZN.SHF\", \"NI.LME\",\n",
    "    \"NI.SHF\", \"RB.SHF\", \"AH.LME\", \"AL.SHF\", \"AO.SHF\", \"SN.LME\", \"SN.SHF\", \"PB.LME\", \"PB.SHF\",\n",
    "    \"HC.SHF\", \"CO.LME\", \n",
    "    \"I.DCE\"\n",
    "    , \"FEF.SG\", \"AA.LME\", \"LRAF.HK\", \"LRZF.HK\", \"LRSF.HK\", \"LRPF.HK\",\n",
    "    \"LRNF.HK\", \"LRCF.HK\", \"SM.CZC\", \"SF.CZC\", \"SI.GFE\", \"WR.SHF\", \"SS.SHF\", \"SPTAUUSDOZ.IDC\",\n",
    "    \"SPTAGUSDOZ.IDC\", \"GC.CMX\", \"SI.CMX\", \"AU.SHF\", \"AG.SHF\", \"AU(T+D).SGE\", \"AG(T+D).SGE\",\n",
    "    \"AU9999.SGE\", \"SPTPTUSDOZ.IDC\", \"SPTPDUSDOZ.IDC\", \"PL.NYM\", \"PA.NYM\", \"MGC.CMX\", \"QO.CMX\",\n",
    "    \"QI.CMX\", \"CL.NYM\", \"B.IPE\", \"T.IPE\", \"SC.INE\", \"LU.INE\", \"NG.NYM\", \"BU.SHF\", \"L.DCE\", \"PF.CZC\",\n",
    "    \"TA.CZC\", \"PP.DCE\", \"EB.DCE\", \"RU.SHF\", \"NR.INE\", \"JM.DCE\", \"J.DCE\", \"ZC.CZC\", \"UR.CZC\",\n",
    "    \"PG.DCE\", \"MA.CZC\", \"EG.DCE\", \"V.DCE\", \"FG.CZC\", \"SA.CZC\", \"SP.SHF\", \"RB.NYM\", \"HO.NYM\",\n",
    "    \"QG.NYM\", \"QM.NYM\", \"N.IPE\", \"G.IPE\", \"BZ.NYM\", \"O.IPE\", \"ZE.CBT\", \"ATW.IPE\", \"AFR.IPE\", \"FU.SHF\"\n",
    "]\n",
    "\n",
    "\n",
    "\n"
   ]
  },
  {
   "cell_type": "raw",
   "id": "d1528fbf-67be-453f-8bd6-38e5a66625cd",
   "metadata": {
    "scrolled": true
   },
   "source": [
    "for code in filtered_codes:\n",
    "    base_code, exc = code.split('.')  # 分割字符串以获取基础代码和交易所代码\n",
    "    weighted_df = process_future_contract(base_code, exc)\n",
    "    # 将加权平均数据保存到文件以便以后使用\n",
    "    weighted_df.to_csv(f\"{code}_weighted.csv\")\n"
   ]
  },
  {
   "cell_type": "raw",
   "id": "203947b0-ff53-4dbe-a097-ed38d44a749b",
   "metadata": {},
   "source": [
    "def fetch_contract_info(codes):\n",
    "    # 初始化一个空的DataFrame用于存储结果\n",
    "    contracts_info_list = []\n",
    "    \n",
    "    for code in codes:\n",
    "        # 对每个代码调用API获取信息\n",
    "        data = w.wsd(code, \"sec_name,curr,exch_eng,sec_englishname\", \"2024-02-24\", \"2024-03-24\", \"\")\n",
    "        \n",
    "        # 检查API调用是否成功\n",
    "        if data.ErrorCode == 0:\n",
    "            # 构建一个临时字典存储当前合约的信息\n",
    "            temp_dict = {\n",
    "                'Code': [code],\n",
    "                'Security Name': [data.Data[0][0]],\n",
    "                'Currency': [data.Data[1][0]],\n",
    "                'Exchange': [data.Data[2][0]],\n",
    "                'Security English Name': [data.Data[3][0]]\n",
    "            }\n",
    "            # 将字典转换为DataFrame，并添加到列表中\n",
    "            contracts_info_list.append(pd.DataFrame.from_dict(temp_dict))\n",
    "        else:\n",
    "            print(f\"Error fetching data for {code}: {data.ErrorCode}\")\n",
    "    \n",
    "    # 使用pd.concat合并所有的DataFrame\n",
    "    contracts_info_df = pd.concat(contracts_info_list, ignore_index=True)\n",
    "    \n",
    "    return contracts_info_df\n",
    "\n",
    "\n",
    "\n",
    "# 获取信息并存储在DataFrame中\n",
    "contracts_info_df = fetch_contract_info(original_codes)\n",
    "\n",
    "# 显示结果\n",
    "print(contracts_info_df)\n"
   ]
  },
  {
   "cell_type": "code",
   "execution_count": 5,
   "id": "3592de78",
   "metadata": {},
   "outputs": [
    {
     "name": "stdout",
     "output_type": "stream",
     "text": [
      "文件 SPTAUUSDOZ.IDC_weighted.csv 未找到，跳过并继续。\n"
     ]
    }
   ],
   "source": [
    "filtered_codes_by_oi_mean = []\n",
    "\n",
    "# 存放OI均值大于100000的合约\n",
    "filtered_codes_by_oi_mean = []\n",
    "\n",
    "for code in original_codes:\n",
    "    file_path = f\"{code}_weighted.csv\"  # 构建文件路径\n",
    "    try:\n",
    "        df = pd.read_csv(file_path)  # 尝试加载数据\n",
    "        oi_mean = df['OI'].mean()  # 计算OI的均值\n",
    "        if oi_mean > 100000:  # 判断OI均值是否大于100000\n",
    "            filtered_codes_by_oi_mean.append(code)  # 如果是，则添加到筛选列表中\n",
    "    except FileNotFoundError:\n",
    "        print(f\"文件 {file_path} 未找到，跳过并继续。\")  # 打印错误消息并继续\n"
   ]
  },
  {
   "cell_type": "code",
   "execution_count": 10,
   "id": "b652654b",
   "metadata": {},
   "outputs": [
    {
     "name": "stdout",
     "output_type": "stream",
     "text": [
      "合并后的统计表:\n",
      "        S.CBT_OPEN   S.CBT_HIGH    S.CBT_LOW  S.CBT_CLOSE   S.CBT_VOLUME  \\\n",
      "count  1577.000000  1577.000000  1577.000000  1577.000000    1577.000000   \n",
      "mean   1133.977612  1144.217322  1124.596238  1158.598403  206832.089410   \n",
      "std     280.911254   284.680749   277.360904   238.633155   76566.749942   \n",
      "min       0.000000     0.000000     0.000000   815.742051       0.000000   \n",
      "25%     914.083212   919.781819   908.058605   918.456274  155564.000000   \n",
      "50%    1094.193817  1133.929945  1091.499238  1157.173141  197250.000000   \n",
      "75%    1362.078191  1373.784718  1345.294060  1366.009320  250082.000000   \n",
      "max    1637.594930  1682.763724  1624.226996  1638.574742  737680.000000   \n",
      "\n",
      "           S.CBT_OI   M.DCE_OPEN   M.DCE_HIGH    M.DCE_LOW  M.DCE_CLOSE  ...  \\\n",
      "count  1.577000e+03  1601.000000  1601.000000  1601.000000  1601.000000  ...   \n",
      "mean   7.513130e+05  3250.870155  3277.744499  3223.816031  3251.645418  ...   \n",
      "std    9.729950e+04   453.421118   461.578035   445.808282   454.685200  ...   \n",
      "min    3.315810e+05  2506.103489  2516.869716  2493.166235  2505.155482  ...   \n",
      "25%    6.724370e+05  2837.369967  2856.368594  2819.487992  2836.468019  ...   \n",
      "50%    7.412230e+05  3156.169283  3180.016914  3131.102805  3158.527918  ...   \n",
      "75%    8.233710e+05  3623.585393  3659.574740  3593.496608  3621.615324  ...   \n",
      "max    1.048094e+06  4336.947553  4405.699910  4288.496073  4328.241635  ...   \n",
      "\n",
      "        BZ.NYM_LOW  BZ.NYM_CLOSE  BZ.NYM_VOLUME      BZ.NYM_OI  FU.SHF_OPEN  \\\n",
      "count  1578.000000   1578.000000    1579.000000    1579.000000  1389.000000   \n",
      "mean     65.197413     67.553402   77171.552882  142952.308423  2712.824707   \n",
      "std      16.952525     14.878739   34187.683153   27714.816056   601.680172   \n",
      "min       0.000000      7.923979       0.000000       0.000000  1394.119062   \n",
      "25%      57.799134     59.744954   54853.000000  122604.000000  2282.446347   \n",
      "50%      66.799852     67.956713   70486.000000  144251.000000  2731.699098   \n",
      "75%      75.874597     76.860174   93233.000000  162395.000000  3097.281619   \n",
      "max     110.732941    113.221077  308717.000000  213623.000000  4385.339014   \n",
      "\n",
      "       FU.SHF_HIGH   FU.SHF_LOW  FU.SHF_CLOSE  FU.SHF_VOLUME     FU.SHF_OI  \n",
      "count  1389.000000  1389.000000   1389.000000   1.404000e+03  1.404000e+03  \n",
      "mean   2752.166678  2672.280494   2714.365590   1.205021e+06  5.594485e+05  \n",
      "std     612.292112   591.364774    604.200580   6.862822e+05  2.944087e+05  \n",
      "min    1437.441580  1348.088476   1407.424706   0.000000e+00  0.000000e+00  \n",
      "25%    2309.797658  2252.241326   2281.620643   8.248195e+05  3.846390e+05  \n",
      "50%    2771.486964  2692.594056   2734.354154   1.079322e+06  5.118790e+05  \n",
      "75%    3132.404188  3054.692221   3103.459029   1.386535e+06  6.603630e+05  \n",
      "max    4430.398626  4331.128230   4371.417554   5.919090e+06  1.976338e+06  \n",
      "\n",
      "[8 rows x 420 columns]\n"
     ]
    }
   ],
   "source": [
    "# 初始化一个空的DataFrame来存储所有统计值\n",
    "all_describe = pd.DataFrame()\n",
    "\n",
    "for code in filtered_codes_by_oi_mean:\n",
    "    file_path = f\"{code}_weighted.csv\"  # 构建文件路径\n",
    "    df = pd.read_csv(file_path)  # 加载数据\n",
    "    stats = df.describe()  # 获取基本统计值\n",
    "    \n",
    "    # 调整stats DataFrame，使其包含合约代码作为一部分信息\n",
    "    stats = stats.rename(columns=lambda x: f\"{code}_{x}\")\n",
    "    \n",
    "    # 将当前文件的统计值合并到总统计表中\n",
    "    if all_describe.empty:\n",
    "        all_describe = stats\n",
    "    else:\n",
    "        all_describe = pd.concat([all_describe, stats], axis=1)\n",
    "\n",
    "# 打印合并后的统计表和加总的count值\n",
    "print(\"合并后的统计表:\")\n",
    "print(all_describe)\n"
   ]
  },
  {
   "cell_type": "code",
   "execution_count": 13,
   "id": "5e0025c7",
   "metadata": {},
   "outputs": [
    {
     "name": "stdout",
     "output_type": "stream",
     "text": [
      "所有筛选后文件中OI列的count总和为: 101931.0\n"
     ]
    }
   ],
   "source": [
    "# 初始化OI列的count加总值\n",
    "total_oi_count = 0\n",
    "\n",
    "# 通过列名筛选出所有的_OI列\n",
    "oi_columns = [col for col in all_describe.columns if col.endswith('_OI')]\n",
    "\n",
    "# 只从'all_describe'的'count'行中获取这些_OI列的值进行加总\n",
    "total_oi_count = all_describe.loc['count', oi_columns].sum()\n",
    "\n",
    "print(f\"所有筛选后文件中OI列的count总和为: {total_oi_count}\")\n"
   ]
  },
  {
   "cell_type": "code",
   "execution_count": 55,
   "id": "a4843c63",
   "metadata": {},
   "outputs": [],
   "source": [
    "import pandas as pd\n",
    "import numpy as np\n",
    "\n",
    "\n",
    "for code in filtered_codes_by_oi_mean:\n",
    "    file_path = f\"{code}_weighted.csv\"  # 构建文件路径\n",
    "    df = pd.read_csv(file_path)  # 加载数据\n",
    "\n",
    "    # 在替换之前计算NaN的数量\n",
    "    initial_na_count = df.isna().sum().sum()\n",
    "\n",
    "    # 将所有的0值替换为NaN\n",
    "    df.replace(0, np.nan, inplace=True)\n",
    "\n",
    "    # 替换之后计算NaN的数量\n",
    "    post_replace_na_count = df.isna().sum().sum()\n",
    "\n",
    "    # 计算替换操作增加的NaN数量\n",
    "    replaced_na_count = post_replace_na_count - initial_na_count\n",
    "\n",
    "    # 报告替换了多少个NaN\n",
    "   # print(f\"文件 {code} 替换了 {replaced_na_count} 个0值为NaN。\")\n"
   ]
  },
  {
   "cell_type": "code",
   "execution_count": 31,
   "id": "40b5291c-03e3-43b0-bd85-ce13c95a594b",
   "metadata": {},
   "outputs": [],
   "source": [
    "import pandas as pd\n",
    "import numpy as np\n",
    "from tqdm import tqdm\n",
    "import talib\n",
    "\n",
    "def create_labels(df, col_name, window_size=11):\n",
    "    \"\"\"\n",
    "    Data is labeled as per the logic in research paper\n",
    "    Label code: BUY => 1, SELL => 0, HOLD => 2\n",
    "    params:\n",
    "        df => Dataframe with data\n",
    "        col_name => name of column which should be used to determine strategy\n",
    "    returns: numpy array with integer codes for labels with\n",
    "             size = total-(window_size)+1\n",
    "    \"\"\"\n",
    "    print(\"Calculating labels\")\n",
    "    total_rows = len(df)\n",
    "    labels = np.zeros(total_rows)\n",
    "    labels[:] = np.nan\n",
    "    pbar = tqdm(total=total_rows)\n",
    "    row_counter = 0\n",
    "\n",
    "    while row_counter < total_rows:\n",
    "        if row_counter >= window_size - 1:\n",
    "            window_begin = row_counter - (window_size - 1)\n",
    "            window_end = row_counter\n",
    "            window_middle = int((window_begin + window_end) / 2)\n",
    "\n",
    "            min_ = np.inf\n",
    "            min_index = -1\n",
    "            max_ = -np.inf\n",
    "            max_index = -1\n",
    "            for i in range(window_begin, window_end + 1):\n",
    "                price = df.iloc[i][col_name]\n",
    "                if price < min_:\n",
    "                    min_ = price\n",
    "                    min_index = i\n",
    "                if price > max_:\n",
    "                    max_ = price\n",
    "                    max_index = i\n",
    "\n",
    "            if max_index == window_middle:\n",
    "                labels[window_middle] = 0\n",
    "            elif min_index == window_middle:\n",
    "                labels[window_middle] = 1\n",
    "            else:\n",
    "                labels[window_middle] = 2\n",
    "\n",
    "        row_counter += 1\n",
    "        pbar.update(1)\n",
    "    pbar.close()\n",
    "    return labels"
   ]
  },
  {
   "cell_type": "code",
   "execution_count": 37,
   "id": "5b15ec66",
   "metadata": {
    "scrolled": true
   },
   "outputs": [
    {
     "name": "stdout",
     "output_type": "stream",
     "text": [
      "Calculating labels\n"
     ]
    },
    {
     "name": "stderr",
     "output_type": "stream",
     "text": [
      "100%|██████████| 1577/1577 [00:01<00:00, 1471.89it/s]\n"
     ]
    },
    {
     "name": "stdout",
     "output_type": "stream",
     "text": [
      "Calculating labels\n"
     ]
    },
    {
     "name": "stderr",
     "output_type": "stream",
     "text": [
      "100%|██████████| 1601/1601 [00:00<00:00, 1696.75it/s]\n"
     ]
    },
    {
     "name": "stdout",
     "output_type": "stream",
     "text": [
      "Calculating labels\n"
     ]
    },
    {
     "name": "stderr",
     "output_type": "stream",
     "text": [
      "100%|██████████| 1601/1601 [00:00<00:00, 1652.69it/s]\n"
     ]
    },
    {
     "name": "stdout",
     "output_type": "stream",
     "text": [
      "Calculating labels\n"
     ]
    },
    {
     "name": "stderr",
     "output_type": "stream",
     "text": [
      "100%|██████████| 1601/1601 [00:00<00:00, 1680.78it/s]\n"
     ]
    },
    {
     "name": "stdout",
     "output_type": "stream",
     "text": [
      "Calculating labels\n"
     ]
    },
    {
     "name": "stderr",
     "output_type": "stream",
     "text": [
      "100%|██████████| 1575/1575 [00:00<00:00, 1664.41it/s]\n"
     ]
    },
    {
     "name": "stdout",
     "output_type": "stream",
     "text": [
      "Calculating labels\n"
     ]
    },
    {
     "name": "stderr",
     "output_type": "stream",
     "text": [
      "100%|██████████| 1601/1601 [00:00<00:00, 1627.51it/s]\n"
     ]
    },
    {
     "name": "stdout",
     "output_type": "stream",
     "text": [
      "Calculating labels\n"
     ]
    },
    {
     "name": "stderr",
     "output_type": "stream",
     "text": [
      "100%|██████████| 1575/1575 [00:00<00:00, 1585.24it/s]\n"
     ]
    },
    {
     "name": "stdout",
     "output_type": "stream",
     "text": [
      "Calculating labels\n"
     ]
    },
    {
     "name": "stderr",
     "output_type": "stream",
     "text": [
      "100%|██████████| 1601/1601 [00:00<00:00, 1609.93it/s]\n"
     ]
    },
    {
     "name": "stdout",
     "output_type": "stream",
     "text": [
      "Calculating labels\n"
     ]
    },
    {
     "name": "stderr",
     "output_type": "stream",
     "text": [
      "100%|██████████| 1601/1601 [00:00<00:00, 1685.37it/s]\n"
     ]
    },
    {
     "name": "stdout",
     "output_type": "stream",
     "text": [
      "Calculating labels\n"
     ]
    },
    {
     "name": "stderr",
     "output_type": "stream",
     "text": [
      "100%|██████████| 1577/1577 [00:00<00:00, 1602.37it/s]\n"
     ]
    },
    {
     "name": "stdout",
     "output_type": "stream",
     "text": [
      "Calculating labels\n"
     ]
    },
    {
     "name": "stderr",
     "output_type": "stream",
     "text": [
      "100%|██████████| 1601/1601 [00:01<00:00, 1418.32it/s]\n"
     ]
    },
    {
     "name": "stdout",
     "output_type": "stream",
     "text": [
      "Calculating labels\n"
     ]
    },
    {
     "name": "stderr",
     "output_type": "stream",
     "text": [
      "100%|██████████| 1601/1601 [00:01<00:00, 1560.50it/s]\n"
     ]
    },
    {
     "name": "stdout",
     "output_type": "stream",
     "text": [
      "Calculating labels\n"
     ]
    },
    {
     "name": "stderr",
     "output_type": "stream",
     "text": [
      "100%|██████████| 1601/1601 [00:01<00:00, 1525.11it/s]\n"
     ]
    },
    {
     "name": "stdout",
     "output_type": "stream",
     "text": [
      "Calculating labels\n"
     ]
    },
    {
     "name": "stderr",
     "output_type": "stream",
     "text": [
      "100%|██████████| 1601/1601 [00:01<00:00, 1500.74it/s]\n"
     ]
    },
    {
     "name": "stdout",
     "output_type": "stream",
     "text": [
      "Calculating labels\n"
     ]
    },
    {
     "name": "stderr",
     "output_type": "stream",
     "text": [
      "100%|██████████| 1601/1601 [00:01<00:00, 1558.77it/s]\n"
     ]
    },
    {
     "name": "stdout",
     "output_type": "stream",
     "text": [
      "Calculating labels\n"
     ]
    },
    {
     "name": "stderr",
     "output_type": "stream",
     "text": [
      "100%|██████████| 777/777 [00:00<00:00, 1597.66it/s]\n"
     ]
    },
    {
     "name": "stdout",
     "output_type": "stream",
     "text": [
      "Calculating labels\n"
     ]
    },
    {
     "name": "stderr",
     "output_type": "stream",
     "text": [
      "100%|██████████| 761/761 [00:00<00:00, 1539.54it/s]\n"
     ]
    },
    {
     "name": "stdout",
     "output_type": "stream",
     "text": [
      "Calculating labels\n"
     ]
    },
    {
     "name": "stderr",
     "output_type": "stream",
     "text": [
      "100%|██████████| 1577/1577 [00:00<00:00, 1586.03it/s]\n"
     ]
    },
    {
     "name": "stdout",
     "output_type": "stream",
     "text": [
      "Calculating labels\n"
     ]
    },
    {
     "name": "stderr",
     "output_type": "stream",
     "text": [
      "100%|██████████| 1577/1577 [00:00<00:00, 1587.76it/s]\n"
     ]
    },
    {
     "name": "stdout",
     "output_type": "stream",
     "text": [
      "Calculating labels\n"
     ]
    },
    {
     "name": "stderr",
     "output_type": "stream",
     "text": [
      "100%|██████████| 1577/1577 [00:00<00:00, 1577.91it/s]\n"
     ]
    },
    {
     "name": "stdout",
     "output_type": "stream",
     "text": [
      "Calculating labels\n"
     ]
    },
    {
     "name": "stderr",
     "output_type": "stream",
     "text": [
      "100%|██████████| 1577/1577 [00:00<00:00, 1643.79it/s]\n"
     ]
    },
    {
     "name": "stdout",
     "output_type": "stream",
     "text": [
      "Calculating labels\n"
     ]
    },
    {
     "name": "stderr",
     "output_type": "stream",
     "text": [
      "100%|██████████| 1577/1577 [00:01<00:00, 1528.73it/s]\n"
     ]
    },
    {
     "name": "stdout",
     "output_type": "stream",
     "text": [
      "Calculating labels\n"
     ]
    },
    {
     "name": "stderr",
     "output_type": "stream",
     "text": [
      "100%|██████████| 1575/1575 [00:00<00:00, 1681.78it/s]\n"
     ]
    },
    {
     "name": "stdout",
     "output_type": "stream",
     "text": [
      "Calculating labels\n"
     ]
    },
    {
     "name": "stderr",
     "output_type": "stream",
     "text": [
      "100%|██████████| 1601/1601 [00:00<00:00, 1648.98it/s]\n"
     ]
    },
    {
     "name": "stdout",
     "output_type": "stream",
     "text": [
      "Calculating labels\n"
     ]
    },
    {
     "name": "stderr",
     "output_type": "stream",
     "text": [
      "100%|██████████| 1601/1601 [00:00<00:00, 1630.97it/s]\n"
     ]
    },
    {
     "name": "stdout",
     "output_type": "stream",
     "text": [
      "Calculating labels\n"
     ]
    },
    {
     "name": "stderr",
     "output_type": "stream",
     "text": [
      "100%|██████████| 1578/1578 [00:00<00:00, 1625.11it/s]\n"
     ]
    },
    {
     "name": "stdout",
     "output_type": "stream",
     "text": [
      "Calculating labels\n"
     ]
    },
    {
     "name": "stderr",
     "output_type": "stream",
     "text": [
      "100%|██████████| 1601/1601 [00:00<00:00, 1656.04it/s]\n"
     ]
    },
    {
     "name": "stdout",
     "output_type": "stream",
     "text": [
      "Calculating labels\n"
     ]
    },
    {
     "name": "stderr",
     "output_type": "stream",
     "text": [
      "100%|██████████| 1601/1601 [00:00<00:00, 1646.58it/s]\n"
     ]
    },
    {
     "name": "stdout",
     "output_type": "stream",
     "text": [
      "Calculating labels\n"
     ]
    },
    {
     "name": "stderr",
     "output_type": "stream",
     "text": [
      "100%|██████████| 1601/1601 [00:01<00:00, 1589.81it/s]\n"
     ]
    },
    {
     "name": "stdout",
     "output_type": "stream",
     "text": [
      "Calculating labels\n"
     ]
    },
    {
     "name": "stderr",
     "output_type": "stream",
     "text": [
      "100%|██████████| 1601/1601 [00:01<00:00, 1556.12it/s]\n"
     ]
    },
    {
     "name": "stdout",
     "output_type": "stream",
     "text": [
      "Calculating labels\n"
     ]
    },
    {
     "name": "stderr",
     "output_type": "stream",
     "text": [
      "100%|██████████| 186/186 [00:00<00:00, 1495.77it/s]\n"
     ]
    },
    {
     "name": "stdout",
     "output_type": "stream",
     "text": [
      "Calculating labels\n"
     ]
    },
    {
     "name": "stderr",
     "output_type": "stream",
     "text": [
      "100%|██████████| 1601/1601 [00:01<00:00, 1596.61it/s]\n"
     ]
    },
    {
     "name": "stdout",
     "output_type": "stream",
     "text": [
      "Calculating labels\n"
     ]
    },
    {
     "name": "stderr",
     "output_type": "stream",
     "text": [
      "100%|██████████| 1601/1601 [00:01<00:00, 1547.18it/s]\n"
     ]
    },
    {
     "name": "stdout",
     "output_type": "stream",
     "text": [
      "Calculating labels\n"
     ]
    },
    {
     "name": "stderr",
     "output_type": "stream",
     "text": [
      "100%|██████████| 1592/1592 [00:00<00:00, 1699.06it/s]\n"
     ]
    },
    {
     "name": "stdout",
     "output_type": "stream",
     "text": [
      "Calculating labels\n"
     ]
    },
    {
     "name": "stderr",
     "output_type": "stream",
     "text": [
      "100%|██████████| 1601/1601 [00:00<00:00, 1645.40it/s]\n"
     ]
    },
    {
     "name": "stdout",
     "output_type": "stream",
     "text": [
      "Calculating labels\n"
     ]
    },
    {
     "name": "stderr",
     "output_type": "stream",
     "text": [
      "100%|██████████| 1601/1601 [00:00<00:00, 1650.16it/s]\n"
     ]
    },
    {
     "name": "stdout",
     "output_type": "stream",
     "text": [
      "Calculating labels\n"
     ]
    },
    {
     "name": "stderr",
     "output_type": "stream",
     "text": [
      "100%|██████████| 303/303 [00:00<00:00, 1466.55it/s]\n"
     ]
    },
    {
     "name": "stdout",
     "output_type": "stream",
     "text": [
      "Calculating labels\n"
     ]
    },
    {
     "name": "stderr",
     "output_type": "stream",
     "text": [
      "100%|██████████| 1089/1089 [00:00<00:00, 1686.50it/s]\n"
     ]
    },
    {
     "name": "stdout",
     "output_type": "stream",
     "text": [
      "Calculating labels\n"
     ]
    },
    {
     "name": "stderr",
     "output_type": "stream",
     "text": [
      "100%|██████████| 1580/1580 [00:00<00:00, 1651.58it/s]\n"
     ]
    },
    {
     "name": "stdout",
     "output_type": "stream",
     "text": [
      "Calculating labels\n"
     ]
    },
    {
     "name": "stderr",
     "output_type": "stream",
     "text": [
      "100%|██████████| 1579/1579 [00:00<00:00, 1651.40it/s]\n"
     ]
    },
    {
     "name": "stdout",
     "output_type": "stream",
     "text": [
      "Calculating labels\n"
     ]
    },
    {
     "name": "stderr",
     "output_type": "stream",
     "text": [
      "100%|██████████| 1601/1601 [00:00<00:00, 1621.06it/s]\n"
     ]
    },
    {
     "name": "stdout",
     "output_type": "stream",
     "text": [
      "Calculating labels\n"
     ]
    },
    {
     "name": "stderr",
     "output_type": "stream",
     "text": [
      "100%|██████████| 1601/1601 [00:00<00:00, 1658.68it/s]\n"
     ]
    },
    {
     "name": "stdout",
     "output_type": "stream",
     "text": [
      "Calculating labels\n"
     ]
    },
    {
     "name": "stderr",
     "output_type": "stream",
     "text": [
      "100%|██████████| 1580/1580 [00:00<00:00, 1687.98it/s]\n"
     ]
    },
    {
     "name": "stdout",
     "output_type": "stream",
     "text": [
      "Calculating labels\n"
     ]
    },
    {
     "name": "stderr",
     "output_type": "stream",
     "text": [
      "100%|██████████| 1594/1594 [00:01<00:00, 1480.49it/s]\n"
     ]
    },
    {
     "name": "stdout",
     "output_type": "stream",
     "text": [
      "Calculating labels\n"
     ]
    },
    {
     "name": "stderr",
     "output_type": "stream",
     "text": [
      "100%|██████████| 1594/1594 [00:00<00:00, 1639.50it/s]\n"
     ]
    },
    {
     "name": "stdout",
     "output_type": "stream",
     "text": [
      "Calculating labels\n"
     ]
    },
    {
     "name": "stderr",
     "output_type": "stream",
     "text": [
      "100%|██████████| 912/912 [00:00<00:00, 1618.88it/s]\n"
     ]
    },
    {
     "name": "stdout",
     "output_type": "stream",
     "text": [
      "Calculating labels\n"
     ]
    },
    {
     "name": "stderr",
     "output_type": "stream",
     "text": [
      "100%|██████████| 1580/1580 [00:00<00:00, 1643.09it/s]\n"
     ]
    },
    {
     "name": "stdout",
     "output_type": "stream",
     "text": [
      "Calculating labels\n"
     ]
    },
    {
     "name": "stderr",
     "output_type": "stream",
     "text": [
      "100%|██████████| 1601/1601 [00:01<00:00, 1575.86it/s]\n"
     ]
    },
    {
     "name": "stdout",
     "output_type": "stream",
     "text": [
      "Calculating labels\n"
     ]
    },
    {
     "name": "stderr",
     "output_type": "stream",
     "text": [
      "100%|██████████| 1601/1601 [00:01<00:00, 1568.44it/s]\n"
     ]
    },
    {
     "name": "stdout",
     "output_type": "stream",
     "text": [
      "Calculating labels\n"
     ]
    },
    {
     "name": "stderr",
     "output_type": "stream",
     "text": [
      "100%|██████████| 840/840 [00:00<00:00, 1719.36it/s]\n"
     ]
    },
    {
     "name": "stdout",
     "output_type": "stream",
     "text": [
      "Calculating labels\n"
     ]
    },
    {
     "name": "stderr",
     "output_type": "stream",
     "text": [
      "100%|██████████| 1601/1601 [00:01<00:00, 1479.51it/s]\n"
     ]
    },
    {
     "name": "stdout",
     "output_type": "stream",
     "text": [
      "Calculating labels\n"
     ]
    },
    {
     "name": "stderr",
     "output_type": "stream",
     "text": [
      "100%|██████████| 1601/1601 [00:00<00:00, 1637.61it/s]\n"
     ]
    },
    {
     "name": "stdout",
     "output_type": "stream",
     "text": [
      "Calculating labels\n"
     ]
    },
    {
     "name": "stderr",
     "output_type": "stream",
     "text": [
      "100%|██████████| 1088/1088 [00:00<00:00, 1646.60it/s]\n"
     ]
    },
    {
     "name": "stdout",
     "output_type": "stream",
     "text": [
      "Calculating labels\n"
     ]
    },
    {
     "name": "stderr",
     "output_type": "stream",
     "text": [
      "100%|██████████| 1601/1601 [00:00<00:00, 1643.66it/s]\n"
     ]
    },
    {
     "name": "stdout",
     "output_type": "stream",
     "text": [
      "Calculating labels\n"
     ]
    },
    {
     "name": "stderr",
     "output_type": "stream",
     "text": [
      "100%|██████████| 1601/1601 [00:00<00:00, 1625.63it/s]\n"
     ]
    },
    {
     "name": "stdout",
     "output_type": "stream",
     "text": [
      "Calculating labels\n"
     ]
    },
    {
     "name": "stderr",
     "output_type": "stream",
     "text": [
      "100%|██████████| 1601/1601 [00:00<00:00, 1658.44it/s]\n"
     ]
    },
    {
     "name": "stdout",
     "output_type": "stream",
     "text": [
      "Calculating labels\n"
     ]
    },
    {
     "name": "stderr",
     "output_type": "stream",
     "text": [
      "100%|██████████| 1258/1258 [00:00<00:00, 1560.74it/s]\n"
     ]
    },
    {
     "name": "stdout",
     "output_type": "stream",
     "text": [
      "Calculating labels\n"
     ]
    },
    {
     "name": "stderr",
     "output_type": "stream",
     "text": [
      "100%|██████████| 1121/1121 [00:00<00:00, 1687.57it/s]\n"
     ]
    },
    {
     "name": "stdout",
     "output_type": "stream",
     "text": [
      "Calculating labels\n"
     ]
    },
    {
     "name": "stderr",
     "output_type": "stream",
     "text": [
      "100%|██████████| 968/968 [00:00<00:00, 1623.63it/s]\n"
     ]
    },
    {
     "name": "stdout",
     "output_type": "stream",
     "text": [
      "Calculating labels\n"
     ]
    },
    {
     "name": "stderr",
     "output_type": "stream",
     "text": [
      "100%|██████████| 1601/1601 [00:01<00:00, 1540.49it/s]\n"
     ]
    },
    {
     "name": "stdout",
     "output_type": "stream",
     "text": [
      "Calculating labels\n"
     ]
    },
    {
     "name": "stderr",
     "output_type": "stream",
     "text": [
      "100%|██████████| 1283/1283 [00:00<00:00, 1631.01it/s]\n"
     ]
    },
    {
     "name": "stdout",
     "output_type": "stream",
     "text": [
      "Calculating labels\n"
     ]
    },
    {
     "name": "stderr",
     "output_type": "stream",
     "text": [
      "100%|██████████| 1601/1601 [00:01<00:00, 1477.07it/s]\n"
     ]
    },
    {
     "name": "stdout",
     "output_type": "stream",
     "text": [
      "Calculating labels\n"
     ]
    },
    {
     "name": "stderr",
     "output_type": "stream",
     "text": [
      "100%|██████████| 1601/1601 [00:00<00:00, 1630.26it/s]\n"
     ]
    },
    {
     "name": "stdout",
     "output_type": "stream",
     "text": [
      "Calculating labels\n"
     ]
    },
    {
     "name": "stderr",
     "output_type": "stream",
     "text": [
      "100%|██████████| 1042/1042 [00:00<00:00, 1672.68it/s]\n"
     ]
    },
    {
     "name": "stdout",
     "output_type": "stream",
     "text": [
      "Calculating labels\n"
     ]
    },
    {
     "name": "stderr",
     "output_type": "stream",
     "text": [
      "100%|██████████| 1292/1292 [00:00<00:00, 1601.53it/s]\n"
     ]
    },
    {
     "name": "stdout",
     "output_type": "stream",
     "text": [
      "Calculating labels\n"
     ]
    },
    {
     "name": "stderr",
     "output_type": "stream",
     "text": [
      "100%|██████████| 1580/1580 [00:01<00:00, 1413.28it/s]\n"
     ]
    },
    {
     "name": "stdout",
     "output_type": "stream",
     "text": [
      "Calculating labels\n"
     ]
    },
    {
     "name": "stderr",
     "output_type": "stream",
     "text": [
      "100%|██████████| 1580/1580 [00:00<00:00, 1679.94it/s]\n"
     ]
    },
    {
     "name": "stdout",
     "output_type": "stream",
     "text": [
      "Calculating labels\n"
     ]
    },
    {
     "name": "stderr",
     "output_type": "stream",
     "text": [
      "100%|██████████| 1594/1594 [00:00<00:00, 1711.94it/s]\n"
     ]
    },
    {
     "name": "stdout",
     "output_type": "stream",
     "text": [
      "Calculating labels\n"
     ]
    },
    {
     "name": "stderr",
     "output_type": "stream",
     "text": [
      "100%|██████████| 1579/1579 [00:00<00:00, 1680.65it/s]\n"
     ]
    },
    {
     "name": "stdout",
     "output_type": "stream",
     "text": [
      "Calculating labels\n"
     ]
    },
    {
     "name": "stderr",
     "output_type": "stream",
     "text": [
      "100%|██████████| 1404/1404 [00:00<00:00, 1641.70it/s]\n"
     ]
    }
   ],
   "source": [
    "import pandas as pd\n",
    "import talib\n",
    "\n",
    "#for code in filtered_codes_by_oi_mean:\n",
    "for code in filtered_codes_by_oi_mean:\n",
    "    file_path = f\"{code}_weighted.csv\"  # 构建文件路径\n",
    "    df = pd.read_csv(file_path)  # 加载数据\n",
    "\n",
    "    # 将所有的0值替换为NaN\n",
    "    df.replace(0, np.nan, inplace=True)\n",
    "    \n",
    "    df = df.sort_index(ascending=True)\n",
    "    # 计算SMA 20日移动平均\n",
    "    df['SMA_20'] = talib.SMA(df['CLOSE'], timeperiod=20)\n",
    "    \n",
    "    # 计算RSI 14日相对强弱指数\n",
    "    df['RSI_14'] = talib.RSI(df['CLOSE'], timeperiod=14)\n",
    "    \n",
    "    # 计算布林带\n",
    "    df['upper_band'], df['middle_band'], df['lower_band'] = talib.BBANDS(df['CLOSE'], timeperiod=20, nbdevup=2, nbdevdn=2, matype=0)\n",
    "    \n",
    "    # MACD\n",
    "    df['macd'], df['macdsignal'], df['macdhist'] = talib.MACD(df['CLOSE'], fastperiod=12, slowperiod=26, signalperiod=9)\n",
    "    \n",
    "    # On-Balance Volume\n",
    "    df['obv'] = talib.OBV(df['CLOSE'], df['VOLUME'])\n",
    "    \n",
    "    # Average True Range\n",
    "    df['atr'] = talib.ATR(df['HIGH'], df['LOW'], df['CLOSE'], timeperiod=14)\n",
    "    \n",
    "    df['label'] = create_labels(df, 'CLOSE', window_size=11)\n",
    "    \n",
    "    df_cleaned = df.dropna()\n",
    "    \n",
    "    df_cleaned.to_csv(f\"{code}_technical.csv\", index=False)\n",
    "\n",
    "\n",
    "\n"
   ]
  },
  {
   "cell_type": "code",
   "execution_count": 40,
   "id": "17d6bf55-f8da-499b-92c0-9df9d57eba2a",
   "metadata": {},
   "outputs": [
    {
     "data": {
      "image/png": "[encoded data removed]",
      "text/plain": [
       "<Figure size 1400x800 with 1 Axes>"
      ]
     },
     "metadata": {},
     "output_type": "display_data"
    }
   ],
   "source": [
    "import pandas as pd\n",
    "import matplotlib.pyplot as plt\n",
    "\n",
    "# 初始化一个空字典来存储每个合约的标签分布\n",
    "label_distributions = {}\n",
    "\n",
    "# 遍历每个合约代码，加载数据，计算标签分布\n",
    "for code in filtered_codes_by_oi_mean:\n",
    "    file_path = f\"{code}_technical.csv\"  # 假设标签数据保存在这些文件中\n",
    "    data = pd.read_csv(file_path)\n",
    "    label_distribution = data['label'].value_counts()  # 计算标签的绝对数\n",
    "    label_distributions[code] = label_distribution\n",
    "\n",
    "# 创建一个新的DataFrame来存储所有合约的标签分布数据\n",
    "df_distributions = pd.DataFrame(label_distributions).T.fillna(0)\n",
    "\n",
    "# 绘制条形图\n",
    "df_distributions.plot(kind='bar', figsize=(14, 8), width=0.8)\n",
    "plt.title('Label Distribution Across Different Contracts')\n",
    "plt.ylabel('Counts')\n",
    "plt.xlabel('Contracts')\n",
    "plt.legend(title='Labels')\n",
    "plt.grid(axis='y', linestyle='--', linewidth=0.7)\n",
    "plt.tight_layout()\n",
    "plt.show()"
   ]
  },
  {
   "cell_type": "code",
   "execution_count": 58,
   "id": "7cee4caf-4d7c-40be-a578-ee5c07bee321",
   "metadata": {},
   "outputs": [
    {
     "name": "stdout",
     "output_type": "stream",
     "text": [
      "数据集 B.DCE 太小，无法创建有效的训练集。跳过此数据集。\n",
      "数据集 FU.SHF 太小，无法创建有效的训练集。跳过此数据集。\n"
     ]
    }
   ],
   "source": [
    "import numpy as np\n",
    "import pandas as pd\n",
    "from sklearn.preprocessing import MinMaxScaler\n",
    "from sklearn.model_selection import train_test_split\n",
    "\n",
    "# 初始化存储容器\n",
    "scalers = {}  # 用于存储每个品种的scaler\n",
    "all_X_train = []\n",
    "all_X_test = []\n",
    "all_y_train = []\n",
    "all_y_test = []\n",
    "all_dates = []  # 保存每个样本的日期范围\n",
    "all_varieties = []  # 保存每个样本的品种信息\n",
    "\n",
    "for code in  filtered_codes_by_oi_mean:\n",
    "    file_path = f\"{code}_technical.csv\"\n",
    "    try:\n",
    "        data = pd.read_csv(file_path)\n",
    "    except FileNotFoundError:\n",
    "        print(f\"文件 {file_path} 未找到，跳过此文件。\")\n",
    "        continue\n",
    "\n",
    "    # 转换第一列为日期格式并按日期排序\n",
    "    data.iloc[:, 0] = pd.to_datetime(data.iloc[:, 0])\n",
    "    data = data.sort_values(data.columns[0])\n",
    "\n",
    "    if len(data) < lookback_days:  # 如果数据量小于回溯天数\n",
    "        print(f\"数据集 {code} 太小，无法创建有效的训练集。跳过此数据集。\")\n",
    "        continue\n",
    "        \n",
    "    # 添加品种代码作为特征\n",
    "    data['Variety'] = code\n",
    "\n",
    "    lookback_days = 50\n",
    "    features = []\n",
    "    labels = []\n",
    "    \n",
    "    # 选择除了标签、变化百分比和日期之外的所有列作为特征\n",
    "    feature_columns = data.columns[1:-2]\n",
    "\n",
    "    # 创建输入-输出对\n",
    "    for i in range(lookback_days, len(data)):\n",
    "        window = data.iloc[i - lookback_days:i][feature_columns].values\n",
    "        label = data.iloc[i, -2]\n",
    "        features.append(window)\n",
    "        labels.append(label)\n",
    "        start_date = data.iloc[i - lookback_days, 0]  # 起始日期\n",
    "        all_dates.append(start_date.strftime('%Y-%m-%d'))  # 转换为字符串格式\n",
    "        all_varieties.append(code)  # 保存品种\n",
    "        \n",
    "    X = np.array(features)\n",
    "    y = np.array(labels)\n",
    "\n",
    "    # 分割数据集\n",
    "    X_train, X_test, y_train, y_test = train_test_split(X, y, test_size=0.3, shuffle=False)\n",
    "\n",
    "    # 初始化StandardScaler\n",
    "    scaler =MinMaxScaler()\n",
    "\n",
    "    # Fit and transform the training data\n",
    "    X_train_scaled = scaler.fit_transform(X_train.reshape(-1, X_train.shape[2])).reshape(X_train.shape)\n",
    "\n",
    "    # Transform the test data using the same scaler\n",
    "    X_test_scaled = scaler.transform(X_test.reshape(-1, X_test.shape[2])).reshape(X_test.shape)\n",
    "    \n",
    "     # 添加一个额外的维度以表示单通道\n",
    "    X_train_scaled = X_train_scaled.reshape((*X_train_scaled.shape, 1))\n",
    "    X_test_scaled = X_test_scaled.reshape((*X_test_scaled.shape, 1))\n",
    "    \n",
    "    # 保存scaler\n",
    "    scalers[code] = scaler\n",
    "    \n",
    "    # 将处理后的数据添加到列表中\n",
    "    all_X_train.append(X_train_scaled)\n",
    "    all_X_test.append(X_test_scaled)\n",
    "    all_y_train.append(y_train)\n",
    "    all_y_test.append(y_test)\n",
    "\n",
    "# 使用np.concatenate来合并数据\n",
    "X_train_combined = np.concatenate(all_X_train, axis=0)\n",
    "X_test_combined = np.concatenate(all_X_test, axis=0)\n",
    "y_train_combined = np.concatenate(all_y_train, axis=0)\n",
    "y_test_combined = np.concatenate(all_y_test, axis=0)"
   ]
  },
  {
   "cell_type": "code",
   "execution_count": 59,
   "id": "3a7e8b87-c06a-48ee-b938-fd57fc63a8f2",
   "metadata": {},
   "outputs": [
    {
     "data": {
      "text/plain": [
       "((50095, 50, 16, 1), (21498, 50, 16, 1), (50095,), (21498,))"
      ]
     },
     "execution_count": 59,
     "metadata": {},
     "output_type": "execute_result"
    }
   ],
   "source": [
    "# Check the shapes of the resulting arrays\n",
    "X_train_combined.shape, X_test_combined.shape, y_train_combined.shape, y_test_combined.shape"
   ]
  },
  {
   "cell_type": "code",
   "execution_count": 60,
   "id": "76d3edf1-fe85-4e27-b999-eecba91fab20",
   "metadata": {},
   "outputs": [
    {
     "data": {
      "image/png": "[encoded data removed]",
      "text/plain": [
       "<Figure size 1000x500 with 3 Axes>"
      ]
     },
     "metadata": {},
     "output_type": "display_data"
    }
   ],
   "source": [
    "import matplotlib.pyplot as plt\n",
    "import numpy as np\n",
    "\n",
    "# 随机选择三个样本的索引\n",
    "indices = np.random.choice(X_train_combined.shape[0], 3, replace=False)\n",
    "\n",
    "# 创建一个图和三个子图 (axs) 的网格\n",
    "fig, axs = plt.subplots(1, 3, figsize=(10, 5))\n",
    "\n",
    "# 遍历所选的每个索引和对应的子图\n",
    "for i, ax in zip(indices, axs.flatten()):\n",
    "    # 从训练集中获取对应的样本\n",
    "    # 注意: 我们需要使用squeeze()方法去掉大小为1的维度，使得imshow能够正常工作\n",
    "    image = X_train_combined[i].squeeze()\n",
    "    \n",
    "    # 使用灰度色彩映射显示图像\n",
    "    ax.imshow(image, cmap='viridis')\n",
    "    \n",
    "    title = f'{all_varieties[i]}\\n{all_dates[i]}'\n",
    "    # 设置图像的标题为样本的索引\n",
    "    ax.set_title(title)\n",
    "    \n",
    "    # 关闭坐标轴显示\n",
    "    ax.axis('off')\n",
    "\n",
    "# 显示图像\n",
    "plt.show()\n"
   ]
  },
  {
   "cell_type": "code",
   "execution_count": null,
   "id": "5936d79d-bc7e-41fe-9ff1-ba7e96f2ca6f",
   "metadata": {},
   "outputs": [],
   "source": []
  },
  {
   "cell_type": "code",
   "execution_count": null,
   "id": "b9b29127-c226-4c65-8062-17e516a1360a",
   "metadata": {},
   "outputs": [],
   "source": []
  }
 ],
 "metadata": {
  "kernelspec": {
   "display_name": "Python 3 (ipykernel)",
   "language": "python",
   "name": "python3"
  },
  "language_info": {
   "codemirror_mode": {
    "name": "ipython",
    "version": 3
   },
   "file_extension": ".py",
   "mimetype": "text/x-python",
   "name": "python",
   "nbconvert_exporter": "python",
   "pygments_lexer": "ipython3",
   "version": "3.8.18"
  }
 },
 "nbformat": 4,
 "nbformat_minor": 5
}
