{
 "cells": [
  {
   "cell_type": "code",
   "execution_count": 2,
   "id": "8b8a8205-c9d8-4ce9-b6ba-88802b6575e4",
   "metadata": {
    "scrolled": true
   },
   "outputs": [],
   "source": [
    "import pandas as pd\n",
    "#from WindPy import w\n",
    "import numpy as np\n",
    "#w.start()\n",
    "\n",
    "\n",
    "\n"
   ]
  },
  {
   "cell_type": "raw",
   "id": "e6de073b-5958-4c85-8df0-5baaff94201d",
   "metadata": {},
   "source": [
    "def process_future_contract(future_code, exc):\n",
    "    data_frames = []\n",
    "\n",
    "    # 第一次提取最近800个交易日的数据\n",
    "    for i in range(12):  # 尝试处理最多12个月份的合约\n",
    "        contract_code = f\"{future_code}{i:02d}.{exc}\"\n",
    "        data = w.wsd(contract_code, \"open,high,low,close,volume,oi\", \"ED-800TD\", \"2024-03-22\", \"\")\n",
    "        \n",
    "        if data.ErrorCode == 0:\n",
    "            df = pd.DataFrame(data.Data, index=data.Fields, columns=data.Times).T\n",
    "            df['CONTRACT'] = contract_code\n",
    "            data_frames.append(df)\n",
    "        else:\n",
    "            print(f\"Error or no data for {contract_code}: {data.ErrorCode}\")\n",
    "            continue\n",
    "\n",
    "    # 如果没有获取到任何合约数据，则返回空DataFrame\n",
    "    if not data_frames:\n",
    "        return pd.DataFrame()\n",
    "\n",
    "    combined_df_first = pd.concat(data_frames)\n",
    "    earliest_date = combined_df_first.index.min()  # 获取最早的交易日\n",
    "\n",
    "    # 从最早的交易日向前再提取800个交易日的数据\n",
    "    data_frames_second = []\n",
    "    for i in range(12):\n",
    "        contract_code = f\"{future_code}{i:02d}.{exc}\"\n",
    "        data = w.wsd(contract_code, \"open,high,low,close,volume,oi\", \"ED-800TD\", earliest_date, \"Fill=Previous\")\n",
    "        \n",
    "        if data.ErrorCode == 0:\n",
    "            df = pd.DataFrame(data.Data, index=data.Fields, columns=data.Times).T\n",
    "            df['CONTRACT'] = contract_code\n",
    "            data_frames_second.append(df)\n",
    "        else:\n",
    "            print(f\"Error or no data for {contract_code}: {data.ErrorCode}\")\n",
    "            continue\n",
    "\n",
    "    combined_df_second = pd.concat(data_frames_second)\n",
    "\n",
    "    # 合并两次提取的数据\n",
    "    combined_df = pd.concat([combined_df_first, combined_df_second]).drop_duplicates()\n",
    "    \n",
    "    \n",
    "        # 初始化DataFrame\n",
    "    weighted_df = pd.DataFrame(index=combined_df.index.unique())\n",
    "    \n",
    "    # 计算加权平均\n",
    "    for column in ['OPEN', 'HIGH', 'LOW', 'CLOSE']:\n",
    "        weighted_values = combined_df.groupby(combined_df.index).apply(\n",
    "            lambda x: np.nan if x['OI'].sum() == 0 else (x[column] * x['OI']).sum() / x['OI'].sum()\n",
    "        )\n",
    "        weighted_df[column] = weighted_values\n",
    "    \n",
    "    # 计算总和\n",
    "    for column in ['VOLUME', 'OI']:\n",
    "        total_values = combined_df.groupby(combined_df.index)[column].sum()\n",
    "        weighted_df[column] = total_values\n",
    "    \n",
    "    weighted_df.sort_index(ascending=True, inplace=True)\n",
    "\n",
    "    \n",
    "    return weighted_df\n",
    "\n"
   ]
  },
  {
   "cell_type": "raw",
   "id": "d3be62f3-44e6-44ea-ba58-7da6c9e9d0fe",
   "metadata": {},
   "source": [
    "future_codes = [\"A.DCE\", \"AG.SHF\", \"AU.SHF\", \"AL.SHF\", \"C.DCE\", \"CU.SHF\", \"HC.SHF\", \"NI.SHF\", \"RB.SHF\", \"SA.CZC\", \"SP.SHF\", \"SR.CZC\", \"TA.CZC\", \"Y.DCE\",\n",
    "    \"ZN.SHF\", \"I.DCE\", \"AU.SHF\", \"AP.CZC\", \"EB.DCE\", \"EG.DCE\", \"FG.CZC\"]\n",
    "\n",
    "for code in future_codes:\n",
    "    base_code, exc = code.split('.')  # 分割字符串以获取基础代码和交易所代码\n",
    "    weighted_df = process_future_contract(base_code, exc)\n",
    "    # 将加权平均数据保存到文件以便以后使用\n",
    "    weighted_df.to_csv(f\"{code}_weighted.csv\")"
   ]
  },
  {
   "cell_type": "code",
   "execution_count": 3,
   "id": "2952e6a9-13ac-4da9-a876-9597d0f51ff9",
   "metadata": {},
   "outputs": [],
   "source": [
    "# 定义原始代码列表和需要移除的代码列表\n",
    "original_codes = [\n",
    "    \"S.CBT\"\n",
    "    , \"M.DCE\", \"Y.DCE\", \"P.DCE\", \"SB.NYB\", \"SR.CZC\", \"CT.NYB\", \"CF.CZC\", \"RM.CZC\",\n",
    "    \"C.CBT\", \"C.DCE\", \"CS.DCE\", \"JD.DCE\", \"OI.CZC\", \"A.DCE\", \"LH.DCE\", \"PK.CZC\", \"RR.DCE\",\n",
    "    \"BO.CBT\", \"SM.CBT\", \"W.CBT\", \"RR.CBT\", \"LC.CME\", \"LH.CME\", \"O.CBT\", \"YK.CBT\", \"YC.CBT\",\n",
    "    \"YW.CBT\", \"FC.CME\", \"DA.CME\", \"OJ.NYB\", \"CC.NYB\", \"KC.NYB\", \"TT.NYM\", \"YO.NYM\", \"CJ.NYM\",\n",
    "    \"KT.NYM\", \"BB.DCE\", \"FB.DCE\", \"RI.CZC\", \"LR.CZC\", \"JR.CZC\", \"PM.CZC\", \"WH.CZC\", \"RS.CZC\",\n",
    "    \"B.DCE\", \"CJ.CZC\", \"CA.LME\", \"CU.SHF\", \"BC.INE\", \"HG.CMX\", \"ZS.LME\", \"ZN.SHF\", \"NI.LME\",\n",
    "    \"NI.SHF\", \"RB.SHF\", \"AH.LME\", \"AL.SHF\", \"AO.SHF\", \"SN.LME\", \"SN.SHF\", \"PB.LME\", \"PB.SHF\",\n",
    "    \"HC.SHF\", \"CO.LME\", \n",
    "    \"I.DCE\"\n",
    "    , \"FEF.SG\", \"AA.LME\", \"LRAF.HK\", \"LRZF.HK\", \"LRSF.HK\", \"LRPF.HK\",\n",
    "    \"LRNF.HK\", \"LRCF.HK\", \"SM.CZC\", \"SF.CZC\", \"SI.GFE\", \"WR.SHF\", \"SS.SHF\", \"SPTAUUSDOZ.IDC\",\n",
    "    \"SPTAGUSDOZ.IDC\", \"GC.CMX\", \"SI.CMX\", \"AU.SHF\", \"AG.SHF\", \"AU(T+D).SGE\", \"AG(T+D).SGE\",\n",
    "    \"AU9999.SGE\", \"SPTPTUSDOZ.IDC\", \"SPTPDUSDOZ.IDC\", \"PL.NYM\", \"PA.NYM\", \"MGC.CMX\", \"QO.CMX\",\n",
    "    \"QI.CMX\", \"CL.NYM\", \"B.IPE\", \"T.IPE\", \"SC.INE\", \"LU.INE\", \"NG.NYM\", \"BU.SHF\", \"L.DCE\", \"PF.CZC\",\n",
    "    \"TA.CZC\", \"PP.DCE\", \"EB.DCE\", \"RU.SHF\", \"NR.INE\", \"JM.DCE\", \"J.DCE\", \"ZC.CZC\", \"UR.CZC\",\n",
    "    \"PG.DCE\", \"MA.CZC\", \"EG.DCE\", \"V.DCE\", \"FG.CZC\", \"SA.CZC\", \"SP.SHF\", \"RB.NYM\", \"HO.NYM\",\n",
    "    \"QG.NYM\", \"QM.NYM\", \"N.IPE\", \"G.IPE\", \"BZ.NYM\", \"O.IPE\", \"ZE.CBT\", \"ATW.IPE\", \"AFR.IPE\", \"FU.SHF\"\n",
    "]\n",
    "\n",
    "\n",
    "\n"
   ]
  },
  {
   "cell_type": "raw",
   "id": "d1528fbf-67be-453f-8bd6-38e5a66625cd",
   "metadata": {
    "scrolled": true
   },
   "source": [
    "for code in filtered_codes:\n",
    "    base_code, exc = code.split('.')  # 分割字符串以获取基础代码和交易所代码\n",
    "    weighted_df = process_future_contract(base_code, exc)\n",
    "    # 将加权平均数据保存到文件以便以后使用\n",
    "    weighted_df.to_csv(f\"{code}_weighted.csv\")\n"
   ]
  },
  {
   "cell_type": "raw",
   "id": "203947b0-ff53-4dbe-a097-ed38d44a749b",
   "metadata": {},
   "source": [
    "def fetch_contract_info(codes):\n",
    "    # 初始化一个空的DataFrame用于存储结果\n",
    "    contracts_info_list = []\n",
    "    \n",
    "    for code in codes:\n",
    "        # 对每个代码调用API获取信息\n",
    "        data = w.wsd(code, \"sec_name,curr,exch_eng,sec_englishname\", \"2024-02-24\", \"2024-03-24\", \"\")\n",
    "        \n",
    "        # 检查API调用是否成功\n",
    "        if data.ErrorCode == 0:\n",
    "            # 构建一个临时字典存储当前合约的信息\n",
    "            temp_dict = {\n",
    "                'Code': [code],\n",
    "                'Security Name': [data.Data[0][0]],\n",
    "                'Currency': [data.Data[1][0]],\n",
    "                'Exchange': [data.Data[2][0]],\n",
    "                'Security English Name': [data.Data[3][0]]\n",
    "            }\n",
    "            # 将字典转换为DataFrame，并添加到列表中\n",
    "            contracts_info_list.append(pd.DataFrame.from_dict(temp_dict))\n",
    "        else:\n",
    "            print(f\"Error fetching data for {code}: {data.ErrorCode}\")\n",
    "    \n",
    "    # 使用pd.concat合并所有的DataFrame\n",
    "    contracts_info_df = pd.concat(contracts_info_list, ignore_index=True)\n",
    "    \n",
    "    return contracts_info_df\n",
    "\n",
    "\n",
    "\n",
    "# 获取信息并存储在DataFrame中\n",
    "contracts_info_df = fetch_contract_info(original_codes)\n",
    "\n",
    "# 显示结果\n",
    "print(contracts_info_df)\n"
   ]
  },
  {
   "cell_type": "code",
   "execution_count": 4,
   "id": "3592de78",
   "metadata": {},
   "outputs": [
    {
     "name": "stdout",
     "output_type": "stream",
     "text": [
      "文件 SPTAUUSDOZ.IDC_weighted.csv 未找到，跳过并继续。\n"
     ]
    }
   ],
   "source": [
    "filtered_codes_by_oi_mean = []\n",
    "\n",
    "# 存放OI均值大于100000的合约\n",
    "filtered_codes_by_oi_mean = []\n",
    "\n",
    "for code in original_codes:\n",
    "    file_path = f\"{code}_weighted.csv\"  # 构建文件路径\n",
    "    try:\n",
    "        df = pd.read_csv(file_path)  # 尝试加载数据\n",
    "        oi_mean = df['OI'].mean()  # 计算OI的均值\n",
    "        if oi_mean > 100000:  # 判断OI均值是否大于100000\n",
    "            filtered_codes_by_oi_mean.append(code)  # 如果是，则添加到筛选列表中\n",
    "    except FileNotFoundError:\n",
    "        print(f\"文件 {file_path} 未找到，跳过并继续。\")  # 打印错误消息并继续\n"
   ]
  },
  {
   "cell_type": "code",
   "execution_count": 5,
   "id": "b652654b",
   "metadata": {},
   "outputs": [
    {
     "name": "stdout",
     "output_type": "stream",
     "text": [
      "合并后的统计表:\n",
      "        S.CBT_OPEN   S.CBT_HIGH    S.CBT_LOW  S.CBT_CLOSE   S.CBT_VOLUME  \\\n",
      "count  1577.000000  1577.000000  1577.000000  1577.000000    1577.000000   \n",
      "mean   1133.977612  1144.217322  1124.596238  1158.598403  206832.089410   \n",
      "std     280.911254   284.680749   277.360904   238.633155   76566.749942   \n",
      "min       0.000000     0.000000     0.000000   815.742051       0.000000   \n",
      "25%     914.083212   919.781819   908.058605   918.456274  155564.000000   \n",
      "50%    1094.193817  1133.929945  1091.499238  1157.173141  197250.000000   \n",
      "75%    1362.078191  1373.784718  1345.294060  1366.009320  250082.000000   \n",
      "max    1637.594930  1682.763724  1624.226996  1638.574742  737680.000000   \n",
      "\n",
      "           S.CBT_OI   M.DCE_OPEN   M.DCE_HIGH    M.DCE_LOW  M.DCE_CLOSE  ...  \\\n",
      "count  1.577000e+03  1601.000000  1601.000000  1601.000000  1601.000000  ...   \n",
      "mean   7.513130e+05  3250.870155  3277.744499  3223.816031  3251.645418  ...   \n",
      "std    9.729950e+04   453.421118   461.578035   445.808282   454.685200  ...   \n",
      "min    3.315810e+05  2506.103489  2516.869716  2493.166235  2505.155482  ...   \n",
      "25%    6.724370e+05  2837.369967  2856.368594  2819.487992  2836.468019  ...   \n",
      "50%    7.412230e+05  3156.169283  3180.016914  3131.102805  3158.527918  ...   \n",
      "75%    8.233710e+05  3623.585393  3659.574740  3593.496608  3621.615324  ...   \n",
      "max    1.048094e+06  4336.947553  4405.699910  4288.496073  4328.241635  ...   \n",
      "\n",
      "        BZ.NYM_LOW  BZ.NYM_CLOSE  BZ.NYM_VOLUME      BZ.NYM_OI  FU.SHF_OPEN  \\\n",
      "count  1578.000000   1578.000000    1579.000000    1579.000000  1389.000000   \n",
      "mean     65.197413     67.553402   77171.552882  142952.308423  2712.824707   \n",
      "std      16.952525     14.878739   34187.683153   27714.816056   601.680172   \n",
      "min       0.000000      7.923979       0.000000       0.000000  1394.119062   \n",
      "25%      57.799134     59.744954   54853.000000  122604.000000  2282.446347   \n",
      "50%      66.799852     67.956713   70486.000000  144251.000000  2731.699098   \n",
      "75%      75.874597     76.860174   93233.000000  162395.000000  3097.281619   \n",
      "max     110.732941    113.221077  308717.000000  213623.000000  4385.339014   \n",
      "\n",
      "       FU.SHF_HIGH   FU.SHF_LOW  FU.SHF_CLOSE  FU.SHF_VOLUME     FU.SHF_OI  \n",
      "count  1389.000000  1389.000000   1389.000000   1.404000e+03  1.404000e+03  \n",
      "mean   2752.166678  2672.280494   2714.365590   1.205021e+06  5.594485e+05  \n",
      "std     612.292112   591.364774    604.200580   6.862822e+05  2.944087e+05  \n",
      "min    1437.441580  1348.088476   1407.424706   0.000000e+00  0.000000e+00  \n",
      "25%    2309.797658  2252.241326   2281.620643   8.248195e+05  3.846390e+05  \n",
      "50%    2771.486964  2692.594056   2734.354154   1.079322e+06  5.118790e+05  \n",
      "75%    3132.404188  3054.692221   3103.459029   1.386535e+06  6.603630e+05  \n",
      "max    4430.398626  4331.128230   4371.417554   5.919090e+06  1.976338e+06  \n",
      "\n",
      "[8 rows x 420 columns]\n"
     ]
    }
   ],
   "source": [
    "# 初始化一个空的DataFrame来存储所有统计值\n",
    "all_describe = pd.DataFrame()\n",
    "\n",
    "for code in filtered_codes_by_oi_mean:\n",
    "    file_path = f\"{code}_weighted.csv\"  # 构建文件路径\n",
    "    df = pd.read_csv(file_path)  # 加载数据\n",
    "    stats = df.describe()  # 获取基本统计值\n",
    "    \n",
    "    # 调整stats DataFrame，使其包含合约代码作为一部分信息\n",
    "    stats = stats.rename(columns=lambda x: f\"{code}_{x}\")\n",
    "    \n",
    "    # 将当前文件的统计值合并到总统计表中\n",
    "    if all_describe.empty:\n",
    "        all_describe = stats\n",
    "    else:\n",
    "        all_describe = pd.concat([all_describe, stats], axis=1)\n",
    "\n",
    "# 打印合并后的统计表和加总的count值\n",
    "print(\"合并后的统计表:\")\n",
    "print(all_describe)\n"
   ]
  },
  {
   "cell_type": "code",
   "execution_count": 6,
   "id": "5e0025c7",
   "metadata": {},
   "outputs": [
    {
     "name": "stdout",
     "output_type": "stream",
     "text": [
      "所有筛选后文件中OI列的count总和为: 101931.0\n"
     ]
    }
   ],
   "source": [
    "# 初始化OI列的count加总值\n",
    "total_oi_count = 0\n",
    "\n",
    "# 通过列名筛选出所有的_OI列\n",
    "oi_columns = [col for col in all_describe.columns if col.endswith('_OI')]\n",
    "\n",
    "# 只从'all_describe'的'count'行中获取这些_OI列的值进行加总\n",
    "total_oi_count = all_describe.loc['count', oi_columns].sum()\n",
    "\n",
    "print(f\"所有筛选后文件中OI列的count总和为: {total_oi_count}\")\n"
   ]
  },
  {
   "cell_type": "code",
   "execution_count": 7,
   "id": "a4843c63",
   "metadata": {},
   "outputs": [],
   "source": [
    "import pandas as pd\n",
    "import numpy as np\n",
    "\n",
    "\n",
    "for code in filtered_codes_by_oi_mean:\n",
    "    file_path = f\"{code}_weighted.csv\"  # 构建文件路径\n",
    "    df = pd.read_csv(file_path)  # 加载数据\n",
    "\n",
    "    # 在替换之前计算NaN的数量\n",
    "    initial_na_count = df.isna().sum().sum()\n",
    "\n",
    "    # 将所有的0值替换为NaN\n",
    "    df.replace(0, np.nan, inplace=True)\n",
    "\n",
    "    # 替换之后计算NaN的数量\n",
    "    post_replace_na_count = df.isna().sum().sum()\n",
    "\n",
    "    # 计算替换操作增加的NaN数量\n",
    "    replaced_na_count = post_replace_na_count - initial_na_count\n",
    "\n",
    "    # 报告替换了多少个NaN\n",
    "   # print(f\"文件 {code} 替换了 {replaced_na_count} 个0值为NaN。\")\n"
   ]
  },
  {
   "cell_type": "code",
   "execution_count": 8,
   "id": "40b5291c-03e3-43b0-bd85-ce13c95a594b",
   "metadata": {},
   "outputs": [],
   "source": [
    "import pandas as pd\n",
    "import numpy as np\n",
    "from tqdm import tqdm\n",
    "import talib\n",
    "\n",
    "def create_labels(df, col_name, window_size=11):\n",
    "    \"\"\"\n",
    "    Data is labeled as per the logic in research paper\n",
    "    Label code: BUY => 1, SELL => 0, HOLD => 2\n",
    "    params:\n",
    "        df => Dataframe with data\n",
    "        col_name => name of column which should be used to determine strategy\n",
    "    returns: numpy array with integer codes for labels with\n",
    "             size = total-(window_size)+1\n",
    "    \"\"\"\n",
    "    print(\"Calculating labels\")\n",
    "    total_rows = len(df)\n",
    "    labels = np.zeros(total_rows)\n",
    "    labels[:] = np.nan\n",
    "    pbar = tqdm(total=total_rows)\n",
    "    row_counter = 0\n",
    "\n",
    "    while row_counter < total_rows:\n",
    "        if row_counter >= window_size - 1:\n",
    "            window_begin = row_counter - (window_size - 1)\n",
    "            window_end = row_counter\n",
    "            window_middle = int((window_begin + window_end) / 2)\n",
    "\n",
    "            min_ = np.inf\n",
    "            min_index = -1\n",
    "            max_ = -np.inf\n",
    "            max_index = -1\n",
    "            for i in range(window_begin, window_end + 1):\n",
    "                price = df.iloc[i][col_name]\n",
    "                if price < min_:\n",
    "                    min_ = price\n",
    "                    min_index = i\n",
    "                if price > max_:\n",
    "                    max_ = price\n",
    "                    max_index = i\n",
    "\n",
    "            if max_index == window_middle:\n",
    "                labels[window_middle] = 0\n",
    "            elif min_index == window_middle:\n",
    "                labels[window_middle] = 1\n",
    "            else:\n",
    "                labels[window_middle] = 2\n",
    "\n",
    "        row_counter += 1\n",
    "        pbar.update(1)\n",
    "    pbar.close()\n",
    "    return labels"
   ]
  },
  {
   "cell_type": "code",
   "execution_count": 19,
   "id": "5b15ec66",
   "metadata": {
    "scrolled": true
   },
   "outputs": [
    {
     "name": "stdout",
     "output_type": "stream",
     "text": [
      "Calculating labels\n"
     ]
    },
    {
     "name": "stderr",
     "output_type": "stream",
     "text": [
      "100%|██████████| 1577/1577 [00:01<00:00, 1432.61it/s]\n"
     ]
    },
    {
     "name": "stdout",
     "output_type": "stream",
     "text": [
      "Calculating labels\n"
     ]
    },
    {
     "name": "stderr",
     "output_type": "stream",
     "text": [
      "100%|██████████| 1601/1601 [00:00<00:00, 1620.92it/s]\n"
     ]
    },
    {
     "name": "stdout",
     "output_type": "stream",
     "text": [
      "Calculating labels\n"
     ]
    },
    {
     "name": "stderr",
     "output_type": "stream",
     "text": [
      "100%|██████████| 1601/1601 [00:01<00:00, 1588.19it/s]\n"
     ]
    },
    {
     "name": "stdout",
     "output_type": "stream",
     "text": [
      "Calculating labels\n"
     ]
    },
    {
     "name": "stderr",
     "output_type": "stream",
     "text": [
      "100%|██████████| 1601/1601 [00:01<00:00, 1522.27it/s]\n"
     ]
    },
    {
     "name": "stdout",
     "output_type": "stream",
     "text": [
      "Calculating labels\n"
     ]
    },
    {
     "name": "stderr",
     "output_type": "stream",
     "text": [
      "100%|██████████| 1575/1575 [00:01<00:00, 1484.62it/s]\n"
     ]
    },
    {
     "name": "stdout",
     "output_type": "stream",
     "text": [
      "Calculating labels\n"
     ]
    },
    {
     "name": "stderr",
     "output_type": "stream",
     "text": [
      "100%|██████████| 1601/1601 [00:01<00:00, 1553.06it/s]\n"
     ]
    },
    {
     "name": "stdout",
     "output_type": "stream",
     "text": [
      "Calculating labels\n"
     ]
    },
    {
     "name": "stderr",
     "output_type": "stream",
     "text": [
      "100%|██████████| 1575/1575 [00:00<00:00, 1611.67it/s]\n"
     ]
    },
    {
     "name": "stdout",
     "output_type": "stream",
     "text": [
      "Calculating labels\n"
     ]
    },
    {
     "name": "stderr",
     "output_type": "stream",
     "text": [
      "100%|██████████| 1601/1601 [00:01<00:00, 1595.18it/s]\n"
     ]
    },
    {
     "name": "stdout",
     "output_type": "stream",
     "text": [
      "Calculating labels\n"
     ]
    },
    {
     "name": "stderr",
     "output_type": "stream",
     "text": [
      "100%|██████████| 1601/1601 [00:00<00:00, 1629.18it/s]\n"
     ]
    },
    {
     "name": "stdout",
     "output_type": "stream",
     "text": [
      "Calculating labels\n"
     ]
    },
    {
     "name": "stderr",
     "output_type": "stream",
     "text": [
      "100%|██████████| 1577/1577 [00:01<00:00, 1466.39it/s]\n"
     ]
    },
    {
     "name": "stdout",
     "output_type": "stream",
     "text": [
      "Calculating labels\n"
     ]
    },
    {
     "name": "stderr",
     "output_type": "stream",
     "text": [
      "100%|██████████| 1601/1601 [00:01<00:00, 1565.92it/s]\n"
     ]
    },
    {
     "name": "stdout",
     "output_type": "stream",
     "text": [
      "Calculating labels\n"
     ]
    },
    {
     "name": "stderr",
     "output_type": "stream",
     "text": [
      "100%|██████████| 1601/1601 [00:00<00:00, 1613.68it/s]\n"
     ]
    },
    {
     "name": "stdout",
     "output_type": "stream",
     "text": [
      "Calculating labels\n"
     ]
    },
    {
     "name": "stderr",
     "output_type": "stream",
     "text": [
      "100%|██████████| 1601/1601 [00:00<00:00, 1605.91it/s]\n"
     ]
    },
    {
     "name": "stdout",
     "output_type": "stream",
     "text": [
      "Calculating labels\n"
     ]
    },
    {
     "name": "stderr",
     "output_type": "stream",
     "text": [
      "100%|██████████| 1601/1601 [00:01<00:00, 1565.84it/s]\n"
     ]
    },
    {
     "name": "stdout",
     "output_type": "stream",
     "text": [
      "Calculating labels\n"
     ]
    },
    {
     "name": "stderr",
     "output_type": "stream",
     "text": [
      "100%|██████████| 1601/1601 [00:01<00:00, 1577.67it/s]\n"
     ]
    },
    {
     "name": "stdout",
     "output_type": "stream",
     "text": [
      "Calculating labels\n"
     ]
    },
    {
     "name": "stderr",
     "output_type": "stream",
     "text": [
      "100%|██████████| 777/777 [00:00<00:00, 1660.71it/s]\n"
     ]
    },
    {
     "name": "stdout",
     "output_type": "stream",
     "text": [
      "Calculating labels\n"
     ]
    },
    {
     "name": "stderr",
     "output_type": "stream",
     "text": [
      "100%|██████████| 761/761 [00:00<00:00, 1557.55it/s]\n"
     ]
    },
    {
     "name": "stdout",
     "output_type": "stream",
     "text": [
      "Calculating labels\n"
     ]
    },
    {
     "name": "stderr",
     "output_type": "stream",
     "text": [
      "100%|██████████| 1577/1577 [00:00<00:00, 1598.68it/s]\n"
     ]
    },
    {
     "name": "stdout",
     "output_type": "stream",
     "text": [
      "Calculating labels\n"
     ]
    },
    {
     "name": "stderr",
     "output_type": "stream",
     "text": [
      "100%|██████████| 1577/1577 [00:00<00:00, 1645.98it/s]\n"
     ]
    },
    {
     "name": "stdout",
     "output_type": "stream",
     "text": [
      "Calculating labels\n"
     ]
    },
    {
     "name": "stderr",
     "output_type": "stream",
     "text": [
      "100%|██████████| 1577/1577 [00:01<00:00, 1404.18it/s]\n"
     ]
    },
    {
     "name": "stdout",
     "output_type": "stream",
     "text": [
      "Calculating labels\n"
     ]
    },
    {
     "name": "stderr",
     "output_type": "stream",
     "text": [
      "100%|██████████| 1577/1577 [00:00<00:00, 1635.71it/s]\n"
     ]
    },
    {
     "name": "stdout",
     "output_type": "stream",
     "text": [
      "Calculating labels\n"
     ]
    },
    {
     "name": "stderr",
     "output_type": "stream",
     "text": [
      "100%|██████████| 1577/1577 [00:00<00:00, 1639.82it/s]\n"
     ]
    },
    {
     "name": "stdout",
     "output_type": "stream",
     "text": [
      "Calculating labels\n"
     ]
    },
    {
     "name": "stderr",
     "output_type": "stream",
     "text": [
      "100%|██████████| 1575/1575 [00:01<00:00, 1539.58it/s]\n"
     ]
    },
    {
     "name": "stdout",
     "output_type": "stream",
     "text": [
      "Calculating labels\n"
     ]
    },
    {
     "name": "stderr",
     "output_type": "stream",
     "text": [
      "100%|██████████| 1601/1601 [00:00<00:00, 1615.98it/s]\n"
     ]
    },
    {
     "name": "stdout",
     "output_type": "stream",
     "text": [
      "Calculating labels\n"
     ]
    },
    {
     "name": "stderr",
     "output_type": "stream",
     "text": [
      "100%|██████████| 1601/1601 [00:00<00:00, 1632.04it/s]\n"
     ]
    },
    {
     "name": "stdout",
     "output_type": "stream",
     "text": [
      "Calculating labels\n"
     ]
    },
    {
     "name": "stderr",
     "output_type": "stream",
     "text": [
      "100%|██████████| 1578/1578 [00:00<00:00, 1614.22it/s]\n"
     ]
    },
    {
     "name": "stdout",
     "output_type": "stream",
     "text": [
      "Calculating labels\n"
     ]
    },
    {
     "name": "stderr",
     "output_type": "stream",
     "text": [
      "100%|██████████| 1601/1601 [00:00<00:00, 1650.09it/s]\n"
     ]
    },
    {
     "name": "stdout",
     "output_type": "stream",
     "text": [
      "Calculating labels\n"
     ]
    },
    {
     "name": "stderr",
     "output_type": "stream",
     "text": [
      "100%|██████████| 1601/1601 [00:00<00:00, 1626.44it/s]\n"
     ]
    },
    {
     "name": "stdout",
     "output_type": "stream",
     "text": [
      "Calculating labels\n"
     ]
    },
    {
     "name": "stderr",
     "output_type": "stream",
     "text": [
      "100%|██████████| 1601/1601 [00:01<00:00, 1522.11it/s]\n"
     ]
    },
    {
     "name": "stdout",
     "output_type": "stream",
     "text": [
      "Calculating labels\n"
     ]
    },
    {
     "name": "stderr",
     "output_type": "stream",
     "text": [
      "100%|██████████| 1601/1601 [00:01<00:00, 1526.39it/s]\n"
     ]
    },
    {
     "name": "stdout",
     "output_type": "stream",
     "text": [
      "Calculating labels\n"
     ]
    },
    {
     "name": "stderr",
     "output_type": "stream",
     "text": [
      "100%|██████████| 186/186 [00:00<00:00, 1758.31it/s]\n"
     ]
    },
    {
     "name": "stdout",
     "output_type": "stream",
     "text": [
      "Calculating labels\n"
     ]
    },
    {
     "name": "stderr",
     "output_type": "stream",
     "text": [
      "100%|██████████| 1601/1601 [00:01<00:00, 1556.23it/s]\n"
     ]
    },
    {
     "name": "stdout",
     "output_type": "stream",
     "text": [
      "Calculating labels\n"
     ]
    },
    {
     "name": "stderr",
     "output_type": "stream",
     "text": [
      "100%|██████████| 1601/1601 [00:00<00:00, 1631.55it/s]\n"
     ]
    },
    {
     "name": "stdout",
     "output_type": "stream",
     "text": [
      "Calculating labels\n"
     ]
    },
    {
     "name": "stderr",
     "output_type": "stream",
     "text": [
      "100%|██████████| 1592/1592 [00:00<00:00, 1614.95it/s]\n"
     ]
    },
    {
     "name": "stdout",
     "output_type": "stream",
     "text": [
      "Calculating labels\n"
     ]
    },
    {
     "name": "stderr",
     "output_type": "stream",
     "text": [
      "100%|██████████| 1601/1601 [00:01<00:00, 1582.62it/s]\n"
     ]
    },
    {
     "name": "stdout",
     "output_type": "stream",
     "text": [
      "Calculating labels\n"
     ]
    },
    {
     "name": "stderr",
     "output_type": "stream",
     "text": [
      "100%|██████████| 1601/1601 [00:00<00:00, 1617.66it/s]\n"
     ]
    },
    {
     "name": "stdout",
     "output_type": "stream",
     "text": [
      "Calculating labels\n"
     ]
    },
    {
     "name": "stderr",
     "output_type": "stream",
     "text": [
      "100%|██████████| 303/303 [00:00<00:00, 1659.84it/s]\n"
     ]
    },
    {
     "name": "stdout",
     "output_type": "stream",
     "text": [
      "Calculating labels\n"
     ]
    },
    {
     "name": "stderr",
     "output_type": "stream",
     "text": [
      "100%|██████████| 1089/1089 [00:00<00:00, 1615.94it/s]\n"
     ]
    },
    {
     "name": "stdout",
     "output_type": "stream",
     "text": [
      "Calculating labels\n"
     ]
    },
    {
     "name": "stderr",
     "output_type": "stream",
     "text": [
      "100%|██████████| 1580/1580 [00:00<00:00, 1582.13it/s]\n"
     ]
    },
    {
     "name": "stdout",
     "output_type": "stream",
     "text": [
      "Calculating labels\n"
     ]
    },
    {
     "name": "stderr",
     "output_type": "stream",
     "text": [
      "100%|██████████| 1579/1579 [00:00<00:00, 1637.20it/s]\n"
     ]
    },
    {
     "name": "stdout",
     "output_type": "stream",
     "text": [
      "Calculating labels\n"
     ]
    },
    {
     "name": "stderr",
     "output_type": "stream",
     "text": [
      "100%|██████████| 1601/1601 [00:01<00:00, 1583.66it/s]\n"
     ]
    },
    {
     "name": "stdout",
     "output_type": "stream",
     "text": [
      "Calculating labels\n"
     ]
    },
    {
     "name": "stderr",
     "output_type": "stream",
     "text": [
      "100%|██████████| 1601/1601 [00:01<00:00, 1568.19it/s]\n"
     ]
    },
    {
     "name": "stdout",
     "output_type": "stream",
     "text": [
      "Calculating labels\n"
     ]
    },
    {
     "name": "stderr",
     "output_type": "stream",
     "text": [
      "100%|██████████| 1580/1580 [00:01<00:00, 1275.19it/s]\n"
     ]
    },
    {
     "name": "stdout",
     "output_type": "stream",
     "text": [
      "Calculating labels\n"
     ]
    },
    {
     "name": "stderr",
     "output_type": "stream",
     "text": [
      "100%|██████████| 1594/1594 [00:01<00:00, 1486.14it/s]\n"
     ]
    },
    {
     "name": "stdout",
     "output_type": "stream",
     "text": [
      "Calculating labels\n"
     ]
    },
    {
     "name": "stderr",
     "output_type": "stream",
     "text": [
      "100%|██████████| 1594/1594 [00:01<00:00, 1518.74it/s]\n"
     ]
    },
    {
     "name": "stdout",
     "output_type": "stream",
     "text": [
      "Calculating labels\n"
     ]
    },
    {
     "name": "stderr",
     "output_type": "stream",
     "text": [
      "100%|██████████| 912/912 [00:00<00:00, 1552.92it/s]\n"
     ]
    },
    {
     "name": "stdout",
     "output_type": "stream",
     "text": [
      "Calculating labels\n"
     ]
    },
    {
     "name": "stderr",
     "output_type": "stream",
     "text": [
      "100%|██████████| 1580/1580 [00:00<00:00, 1626.94it/s]\n"
     ]
    },
    {
     "name": "stdout",
     "output_type": "stream",
     "text": [
      "Calculating labels\n"
     ]
    },
    {
     "name": "stderr",
     "output_type": "stream",
     "text": [
      "100%|██████████| 1601/1601 [00:00<00:00, 1608.17it/s]\n"
     ]
    },
    {
     "name": "stdout",
     "output_type": "stream",
     "text": [
      "Calculating labels\n"
     ]
    },
    {
     "name": "stderr",
     "output_type": "stream",
     "text": [
      "100%|██████████| 1601/1601 [00:01<00:00, 1359.14it/s]\n"
     ]
    },
    {
     "name": "stdout",
     "output_type": "stream",
     "text": [
      "Calculating labels\n"
     ]
    },
    {
     "name": "stderr",
     "output_type": "stream",
     "text": [
      "100%|██████████| 840/840 [00:00<00:00, 1554.60it/s]\n"
     ]
    },
    {
     "name": "stdout",
     "output_type": "stream",
     "text": [
      "Calculating labels\n"
     ]
    },
    {
     "name": "stderr",
     "output_type": "stream",
     "text": [
      "100%|██████████| 1601/1601 [00:01<00:00, 1373.98it/s]\n"
     ]
    },
    {
     "name": "stdout",
     "output_type": "stream",
     "text": [
      "Calculating labels\n"
     ]
    },
    {
     "name": "stderr",
     "output_type": "stream",
     "text": [
      "100%|██████████| 1601/1601 [00:01<00:00, 1500.80it/s]\n"
     ]
    },
    {
     "name": "stdout",
     "output_type": "stream",
     "text": [
      "Calculating labels\n"
     ]
    },
    {
     "name": "stderr",
     "output_type": "stream",
     "text": [
      "100%|██████████| 1088/1088 [00:00<00:00, 1412.95it/s]\n"
     ]
    },
    {
     "name": "stdout",
     "output_type": "stream",
     "text": [
      "Calculating labels\n"
     ]
    },
    {
     "name": "stderr",
     "output_type": "stream",
     "text": [
      "100%|██████████| 1601/1601 [00:01<00:00, 1512.27it/s]\n"
     ]
    },
    {
     "name": "stdout",
     "output_type": "stream",
     "text": [
      "Calculating labels\n"
     ]
    },
    {
     "name": "stderr",
     "output_type": "stream",
     "text": [
      "100%|██████████| 1601/1601 [00:01<00:00, 1487.26it/s]\n"
     ]
    },
    {
     "name": "stdout",
     "output_type": "stream",
     "text": [
      "Calculating labels\n"
     ]
    },
    {
     "name": "stderr",
     "output_type": "stream",
     "text": [
      "100%|██████████| 1601/1601 [00:01<00:00, 1506.40it/s]\n"
     ]
    },
    {
     "name": "stdout",
     "output_type": "stream",
     "text": [
      "Calculating labels\n"
     ]
    },
    {
     "name": "stderr",
     "output_type": "stream",
     "text": [
      "100%|██████████| 1258/1258 [00:00<00:00, 1545.21it/s]\n"
     ]
    },
    {
     "name": "stdout",
     "output_type": "stream",
     "text": [
      "Calculating labels\n"
     ]
    },
    {
     "name": "stderr",
     "output_type": "stream",
     "text": [
      "100%|██████████| 1121/1121 [00:00<00:00, 1481.62it/s]\n"
     ]
    },
    {
     "name": "stdout",
     "output_type": "stream",
     "text": [
      "Calculating labels\n"
     ]
    },
    {
     "name": "stderr",
     "output_type": "stream",
     "text": [
      "100%|██████████| 968/968 [00:00<00:00, 1348.78it/s]\n"
     ]
    },
    {
     "name": "stdout",
     "output_type": "stream",
     "text": [
      "Calculating labels\n"
     ]
    },
    {
     "name": "stderr",
     "output_type": "stream",
     "text": [
      "100%|██████████| 1601/1601 [00:01<00:00, 1368.50it/s]\n"
     ]
    },
    {
     "name": "stdout",
     "output_type": "stream",
     "text": [
      "Calculating labels\n"
     ]
    },
    {
     "name": "stderr",
     "output_type": "stream",
     "text": [
      "100%|██████████| 1283/1283 [00:00<00:00, 1423.28it/s]\n"
     ]
    },
    {
     "name": "stdout",
     "output_type": "stream",
     "text": [
      "Calculating labels\n"
     ]
    },
    {
     "name": "stderr",
     "output_type": "stream",
     "text": [
      "100%|██████████| 1601/1601 [00:01<00:00, 1418.46it/s]\n"
     ]
    },
    {
     "name": "stdout",
     "output_type": "stream",
     "text": [
      "Calculating labels\n"
     ]
    },
    {
     "name": "stderr",
     "output_type": "stream",
     "text": [
      "100%|██████████| 1601/1601 [00:01<00:00, 1584.40it/s]\n"
     ]
    },
    {
     "name": "stdout",
     "output_type": "stream",
     "text": [
      "Calculating labels\n"
     ]
    },
    {
     "name": "stderr",
     "output_type": "stream",
     "text": [
      "100%|██████████| 1042/1042 [00:00<00:00, 1604.24it/s]\n"
     ]
    },
    {
     "name": "stdout",
     "output_type": "stream",
     "text": [
      "Calculating labels\n"
     ]
    },
    {
     "name": "stderr",
     "output_type": "stream",
     "text": [
      "100%|██████████| 1292/1292 [00:00<00:00, 1567.42it/s]\n"
     ]
    },
    {
     "name": "stdout",
     "output_type": "stream",
     "text": [
      "Calculating labels\n"
     ]
    },
    {
     "name": "stderr",
     "output_type": "stream",
     "text": [
      "100%|██████████| 1580/1580 [00:01<00:00, 1538.51it/s]\n"
     ]
    },
    {
     "name": "stdout",
     "output_type": "stream",
     "text": [
      "Calculating labels\n"
     ]
    },
    {
     "name": "stderr",
     "output_type": "stream",
     "text": [
      "100%|██████████| 1580/1580 [00:00<00:00, 1642.59it/s]\n"
     ]
    },
    {
     "name": "stdout",
     "output_type": "stream",
     "text": [
      "Calculating labels\n"
     ]
    },
    {
     "name": "stderr",
     "output_type": "stream",
     "text": [
      "100%|██████████| 1594/1594 [00:01<00:00, 1576.52it/s]\n"
     ]
    },
    {
     "name": "stdout",
     "output_type": "stream",
     "text": [
      "Calculating labels\n"
     ]
    },
    {
     "name": "stderr",
     "output_type": "stream",
     "text": [
      "100%|██████████| 1579/1579 [00:00<00:00, 1635.40it/s]\n"
     ]
    },
    {
     "name": "stdout",
     "output_type": "stream",
     "text": [
      "Calculating labels\n"
     ]
    },
    {
     "name": "stderr",
     "output_type": "stream",
     "text": [
      "100%|██████████| 1404/1404 [00:00<00:00, 1490.18it/s]\n"
     ]
    }
   ],
   "source": [
    "import os\n",
    "import joblib\n",
    "import pandas as pd\n",
    "import numpy as np\n",
    "import talib\n",
    "from sklearn.preprocessing import MinMaxScaler\n",
    "\n",
    "#for code in filtered_codes_by_oi_mean:\n",
    "for code in filtered_codes_by_oi_mean:\n",
    "    file_path = f\"{code}_weighted.csv\"  # 构建文件路径\n",
    "    df = pd.read_csv(file_path)  # 加载数据\n",
    "\n",
    "    # 将所有的0值替换为NaN\n",
    "    df.replace(0, np.nan, inplace=True)\n",
    "    \n",
    "    df = df.sort_index(ascending=True)\n",
    "    # 计算SMA 20日移动平均\n",
    "    df['SMA_20'] = talib.SMA(df['CLOSE'], timeperiod=20)\n",
    "\n",
    "     # 计算SMA 20日移动平均\n",
    "    df['SMA_100'] = talib.SMA(df['CLOSE'], timeperiod=50)\n",
    "\n",
    "     # 计算SMA 20日移动平均\n",
    "    df['SMA_200'] = talib.SMA(df['CLOSE'], timeperiod=150)\n",
    "    \n",
    "    \n",
    "    # 计算RSI 14日相对强弱指数\n",
    "    df['RSI_14'] = talib.RSI(df['CLOSE'], timeperiod=14)\n",
    "\n",
    "    # 计算RSI 14日相对强弱指数\n",
    "    df['RSI_30'] = talib.RSI(df['CLOSE'], timeperiod=30)\n",
    "    \n",
    "    # 计算布林带\n",
    "    df['upper_band'], df['middle_band'], df['lower_band'] = talib.BBANDS(df['CLOSE'], timeperiod=40, nbdevup=2, nbdevdn=2, matype=0)\n",
    "    \n",
    "    # MACD\n",
    "    df['macd'], df['macdsignal'], df['macdhist'] = talib.MACD(df['CLOSE'], fastperiod=12, slowperiod=26, signalperiod=9)\n",
    "    \n",
    "    # On-Balance Volume\n",
    "    df['obv'] = talib.OBV(df['CLOSE'], df['VOLUME'])\n",
    "    \n",
    "    # Average True Range\n",
    "    df['atr'] = talib.ATR(df['HIGH'], df['LOW'], df['CLOSE'], timeperiod=14)\n",
    "    \n",
    "    df['label'] = create_labels(df, 'CLOSE', window_size=11)\n",
    "    \n",
    "    df_cleaned = df.dropna()\n",
    "    \n",
    "    df_cleaned.to_csv(f\"{code}_technical.csv\", index=False)\n",
    "\n",
    "    scalers_directory = 'scalers'\n",
    "    if not os.path.exists(scalers_directory):\n",
    "        os.makedirs(scalers_directory)\n",
    "\n",
    "    feature_columns = df.columns[1:-1]  # 选择需要缩放的特征列\n",
    "\n",
    "    for feature in feature_columns:\n",
    "        if df[feature].notnull().any():  # 确保特征列不全是NaN\n",
    "            scaler = MinMaxScaler()\n",
    "            df[feature] = scaler.fit_transform(df[[feature]].fillna(0))  # 使用fillna(0)处理NaN\n",
    "\n",
    "            # 保存每个特征的Scaler到指定文件夹\n",
    "            scaler_filename = os.path.join(scalers_directory, f\"{code}_{feature}_scaler.pkl\")\n",
    "            joblib.dump(scaler, scaler_filename)\n",
    "\n",
    "    df_cleaned = df.dropna()\n",
    "    df_cleaned.to_csv(f\"{code}_technical.csv\", index=False)\n",
    "\n",
    "\n"
   ]
  },
  {
   "cell_type": "code",
   "execution_count": 20,
   "id": "17d6bf55-f8da-499b-92c0-9df9d57eba2a",
   "metadata": {},
   "outputs": [
    {
     "data": {
      "image/png": "[encoded data removed]",
      "text/plain": [
       "<Figure size 1400x800 with 1 Axes>"
      ]
     },
     "metadata": {},
     "output_type": "display_data"
    }
   ],
   "source": [
    "import pandas as pd\n",
    "import matplotlib.pyplot as plt\n",
    "\n",
    "# 初始化一个空字典来存储每个合约的标签分布\n",
    "label_distributions = {}\n",
    "\n",
    "# 遍历每个合约代码，加载数据，计算标签分布\n",
    "for code in filtered_codes_by_oi_mean:\n",
    "    file_path = f\"{code}_technical.csv\"  # 假设标签数据保存在这些文件中\n",
    "    data = pd.read_csv(file_path)\n",
    "    label_distribution = data['label'].value_counts()  # 计算标签的绝对数\n",
    "    label_distributions[code] = label_distribution\n",
    "\n",
    "# 创建一个新的DataFrame来存储所有合约的标签分布数据\n",
    "df_distributions = pd.DataFrame(label_distributions).T.fillna(0)\n",
    "\n",
    "# 绘制条形图\n",
    "df_distributions.plot(kind='bar', figsize=(14, 8), width=0.8)\n",
    "plt.title('Label Distribution Across Different Contracts')\n",
    "plt.ylabel('Counts')\n",
    "plt.xlabel('Contracts')\n",
    "plt.legend(title='Labels')\n",
    "plt.grid(axis='y', linestyle='--', linewidth=0.7)\n",
    "plt.tight_layout()\n",
    "plt.show()"
   ]
  },
  {
   "cell_type": "code",
   "execution_count": 34,
   "id": "7cee4caf-4d7c-40be-a578-ee5c07bee321",
   "metadata": {},
   "outputs": [
    {
     "name": "stdout",
     "output_type": "stream",
     "text": [
      "数据集 FU.SHF 太小，无法创建有效的训练集。跳过此数据集。\n"
     ]
    }
   ],
   "source": [
    "import numpy as np\n",
    "import pandas as pd\n",
    "from sklearn.preprocessing import MinMaxScaler\n",
    "from sklearn.model_selection import train_test_split\n",
    "from collections import defaultdict\n",
    "\n",
    "# 初始化字典来存储每个品种的数据\n",
    "data_dict = defaultdict(lambda: defaultdict(list))\n",
    "\n",
    "\n",
    "# 初始化存储容器\n",
    "scalers = {}  # 用于存储每个品种的scaler\n",
    "all_X_train = []\n",
    "all_X_test = []\n",
    "all_y_train = []\n",
    "all_y_test = []\n",
    "all_dates = []  # 保存每个样本的日期范围\n",
    "all_varieties = []  # 保存每个样本的品种信息\n",
    "\n",
    "lookback_days = 20\n",
    "\n",
    "for code in  filtered_codes_by_oi_mean:\n",
    "    file_path = f\"{code}_technical.csv\"\n",
    "    try:\n",
    "        data = pd.read_csv(file_path)\n",
    "    except FileNotFoundError:\n",
    "        print(f\"文件 {file_path} 未找到，跳过此文件。\")\n",
    "        continue\n",
    "\n",
    "    # 转换第一列为日期格式并按日期排序\n",
    "    data.iloc[:, 0] = pd.to_datetime(data.iloc[:, 0])\n",
    "    data = data.sort_values(data.columns[0])\n",
    "\n",
    "    if len(data) < lookback_days:  # 如果数据量小于回溯天数\n",
    "        print(f\"数据集 {code} 太小，无法创建有效的训练集。跳过此数据集。\")\n",
    "        continue\n",
    "        \n",
    "    # 添加品种代码作为特征\n",
    "    data['Variety'] = code\n",
    "\n",
    "    features = []\n",
    "    labels = []\n",
    "  \n",
    "    # 选择除了标签、变化百分比和日期之外的所有列作为特征\n",
    "    feature_columns = data.columns[1:-2]\n",
    "    local_dates = []\n",
    "    # 创建输入-输出对\n",
    "    for i in range(lookback_days, len(data)):\n",
    "        window = data.iloc[i - lookback_days:i][feature_columns].values\n",
    "        label = data.iloc[i, -2]\n",
    "        features.append(window)\n",
    "        labels.append(label)\n",
    "        end_date = data.iloc[i, 0]  # 窗口结束日期\n",
    "        local_dates.append(end_date.strftime('%Y-%m-%d'))  # 转换为字符串格式并保存\n",
    "        all_dates.append(end_date.strftime('%Y-%m-%d')) \n",
    "        all_varieties.append(code)  # 保存品种\n",
    "    data_dict[code]['dates'] = local_dates     \n",
    "    X = np.array(features)\n",
    "    y = np.array(labels)\n",
    "\n",
    "    # 分割数据集\n",
    "    X_train, X_test, y_train, y_test = train_test_split(X, y, test_size=0.3, shuffle=False)\n",
    "    X_train = X_train.reshape((*X_train.shape, 1))\n",
    "    X_test = X_test.reshape((*X_test.shape, 1))\n",
    "    # 将处理后的数据添加到列表中\n",
    "    all_X_train.append(X_train)\n",
    "    all_X_test.append(X_test)\n",
    "    all_y_train.append(y_train)\n",
    "    all_y_test.append(y_test)\n",
    "     # 保存数据\n",
    "    data_dict[code]['X_train'] = X_train\n",
    "    data_dict[code]['X_test'] = X_test\n",
    "    data_dict[code]['y_train'] = y_train\n",
    "    data_dict[code]['y_test'] = y_test\n",
    "    # 由于切片操作会减少数据量，需要对日期进行相应的切分以保持一致\n",
    "    split_index = len(y) - len(y_test)  # 计算切分点\n",
    "    data_dict[code]['dates_train'] = data_dict[code]['dates'][:split_index]\n",
    "    data_dict[code]['dates_test'] = data_dict[code]['dates'][split_index:]\n",
    "\n",
    "# 使用np.concatenate来合并数据\n",
    "X_train_combined = np.concatenate(all_X_train, axis=0)\n",
    "X_test_combined = np.concatenate(all_X_test, axis=0)\n",
    "y_train_combined = np.concatenate(all_y_train, axis=0)\n",
    "y_test_combined = np.concatenate(all_y_test, axis=0)"
   ]
  },
  {
   "cell_type": "code",
   "execution_count": 35,
   "id": "3a7e8b87-c06a-48ee-b938-fd57fc63a8f2",
   "metadata": {},
   "outputs": [
    {
     "data": {
      "text/plain": [
       "((68879, 20, 19, 1), (29578, 20, 19, 1), (68879,), (29578,))"
      ]
     },
     "execution_count": 35,
     "metadata": {},
     "output_type": "execute_result"
    }
   ],
   "source": [
    "# Check the shapes of the resulting arrays\n",
    "X_train_combined.shape, X_test_combined.shape, y_train_combined.shape, y_test_combined.shape"
   ]
  },
  {
   "cell_type": "code",
   "execution_count": 36,
   "id": "76d3edf1-fe85-4e27-b999-eecba91fab20",
   "metadata": {},
   "outputs": [
    {
     "data": {
      "image/png": "[encoded data removed]",
      "text/plain": [
       "<Figure size 1000x500 with 3 Axes>"
      ]
     },
     "metadata": {},
     "output_type": "display_data"
    }
   ],
   "source": [
    "import matplotlib.pyplot as plt\n",
    "import numpy as np\n",
    "from scipy.ndimage import zoom\n",
    "\n",
    "# 随机选择三个样本的索引\n",
    "indices = np.random.choice(X_train_combined.shape[0], 3, replace=False)\n",
    "\n",
    "# 创建一个图和三个子图 (axs) 的网格\n",
    "fig, axs = plt.subplots(1, 3, figsize=(10, 5))\n",
    "\n",
    "# 遍历所选的每个索引和对应的子图\n",
    "for i, ax in zip(indices, axs.flatten()):\n",
    "    # 从训练集中获取对应的样本\n",
    "    # 注意: 我们需要使用squeeze()方法去掉大小为1的维度，使得imshow能够正常工作\n",
    "    image = X_train_combined[i].squeeze()\n",
    "\n",
    "    # 将图像数据从0-1缩放到0-255，并转换为整数\n",
    "    image_scaled = (image * 255).astype(np.uint8)\n",
    "    \n",
    "    # 使用灰度色彩映射显示图像\n",
    "    ax.imshow(image_scaled, cmap='viridis')\n",
    "    \n",
    "    title = f'{all_varieties[i]}\\n{all_dates[i]}'\n",
    "    # 设置图像的标题为样本的索引\n",
    "    ax.set_title(title)\n",
    "    \n",
    "    # 关闭坐标轴显示\n",
    "    ax.axis('off')\n",
    "\n",
    "# 显示图像\n",
    "plt.show()\n"
   ]
  },
  {
   "cell_type": "code",
   "execution_count": 37,
   "id": "5936d79d-bc7e-41fe-9ff1-ba7e96f2ca6f",
   "metadata": {},
   "outputs": [
    {
     "name": "stdout",
     "output_type": "stream",
     "text": [
      "真实类权重为 [5.49537259 5.42268934 0.37970573] [0 1 2]\n",
      "值计数 (array([0, 1, 2]), array([ 4178,  4234, 60467], dtype=int64))\n"
     ]
    }
   ],
   "source": [
    "import numpy as np\n",
    "from sklearn.utils.class_weight import compute_class_weight\n",
    "\n",
    "def get_sample_weights(y):\n",
    "    \"\"\"\n",
    "    计算基于类权重的样本权重。用于处理不平衡数据和一热编码预测的模型。\n",
    "\n",
    "    参数:\n",
    "        y: 类标签为整数\n",
    "    \"\"\"\n",
    "\n",
    "    y_int = y.astype(int)  # compute_class_weight需要整数标签\n",
    "    class_weights = compute_class_weight('balanced', classes=np.unique(y_int), y=y_int)\n",
    "\n",
    "    print(\"真实类权重为 {}\".format(class_weights), np.unique(y_int))\n",
    "    print(\"值计数\", np.unique(y_int, return_counts=True))\n",
    "    \n",
    "    sample_weights = np.array([class_weights[class_label] for class_label in y_int])\n",
    "\n",
    "    return sample_weights\n",
    "    \n",
    "sample_weights =  get_sample_weights(y_train_combined)\n"
   ]
  },
  {
   "cell_type": "code",
   "execution_count": 38,
   "id": "ab66f334-958c-4b86-b745-5611d33a4904",
   "metadata": {},
   "outputs": [],
   "source": [
    "import torch\n",
    "import torch.nn as nn\n",
    "import torch.nn.functional as F\n",
    "from torch.utils.data import TensorDataset, DataLoader\n",
    "\n",
    "\n",
    "#  y_train_combined 和 y_test_combined 已经是整数标签\n",
    "y_train_tensor = torch.tensor(y_train_combined, dtype=torch.long)\n",
    "y_test_tensor = torch.tensor(y_test_combined, dtype=torch.long)\n",
    "X_train_tensor = torch.tensor(X_train_combined, dtype=torch.float32)\n",
    "X_test_tensor = torch.tensor(X_test_combined, dtype=torch.float32)\n",
    "\n",
    "X_train_tensor = X_train_tensor.permute(0, 3, 1, 2)  # 从 [batch, height, width, channels] 转换为 [batch, channels, height, width]\n",
    "X_test_tensor = X_test_tensor.permute(0, 3, 1, 2)    # 同上\n",
    "\n",
    "# 然后创建TensorDataset和DataLoader，如之前所示\n",
    "\n",
    "\n",
    "# Create TensorDatasets and DataLoaders\n",
    "train_dataset = TensorDataset(X_train_tensor, y_train_tensor)\n",
    "test_dataset = TensorDataset(X_test_tensor, y_test_tensor)\n",
    "\n",
    "batch_size = 64\n",
    "train_loader = DataLoader(dataset=train_dataset, batch_size=batch_size, shuffle=True, drop_last=True)\n",
    "test_loader = DataLoader(dataset=test_dataset, batch_size=batch_size, shuffle=False, drop_last=True)\n"
   ]
  },
  {
   "cell_type": "code",
   "execution_count": 39,
   "id": "ab002e29-4e77-47a3-8d74-fc6b68bc8f62",
   "metadata": {},
   "outputs": [
    {
     "name": "stdout",
     "output_type": "stream",
     "text": [
      "Training samples: 68879, Batches: 1076\n",
      "Testing samples: 29578, Batches: 462\n"
     ]
    }
   ],
   "source": [
    "print(f\"Training samples: {len(train_dataset)}, Batches: {len(train_loader)}\")\n",
    "print(f\"Testing samples: {len(test_dataset)}, Batches: {len(test_loader)}\")"
   ]
  },
  {
   "cell_type": "code",
   "execution_count": 44,
   "id": "b9b29127-c226-4c65-8062-17e516a1360a",
   "metadata": {},
   "outputs": [],
   "source": [
    "\n",
    "import torch.optim as optim\n",
    "from torch.utils.data import DataLoader, TensorDataset, WeightedRandomSampler\n",
    "\n",
    "class SimpleCNN(nn.Module):\n",
    "    def __init__(self):\n",
    "        super(SimpleCNN, self).__init__()\n",
    "        self.conv1 = nn.Conv2d(1, 16, kernel_size=2, padding=1)  # 假设输入通道为1\n",
    "        self.pool = nn.MaxPool2d(2, 2)\n",
    "        self.conv2 = nn.Conv2d(16, 32, kernel_size=3, padding=1)\n",
    "        self.fc1 = nn.Linear(32 *5 * 5, 30)  # 根据池化层后的维度调整\n",
    "        self.fc2 = nn.Linear(30, 3)  # 有3个类别\n",
    "        self.dropout = nn.Dropout(0.3)\n",
    "    \n",
    "    def forward(self, x):\n",
    "        x = self.pool(F.relu(self.conv1(x)))\n",
    "        x = self.pool(F.relu(self.conv2(x)))\n",
    "        x = x.view(-1, 32 * 5 * 5)  # 调整尺寸以匹配全连接层的输入\n",
    "        x = F.relu(self.fc1(x))\n",
    "        x = self.dropout(x)\n",
    "        x = self.fc2(x)\n",
    "        return x\n"
   ]
  },
  {
   "cell_type": "code",
   "execution_count": 45,
   "id": "19c17ca5-d6dd-40e0-852d-2d05f1f90e48",
   "metadata": {},
   "outputs": [
    {
     "name": "stdout",
     "output_type": "stream",
     "text": [
      "Epoch 1, Loss: 1.1016242504119873\n",
      "Epoch 2, Loss: 1.064871072769165\n",
      "Epoch 3, Loss: 0.866247296333313\n",
      "Epoch 4, Loss: 0.9853422045707703\n",
      "Epoch 5, Loss: 0.9881650805473328\n",
      "Epoch 6, Loss: 0.8919888138771057\n",
      "Epoch 7, Loss: 0.8526982665061951\n",
      "Epoch 8, Loss: 0.8959388136863708\n",
      "Epoch 9, Loss: 1.106478214263916\n",
      "Epoch 10, Loss: 0.6791616678237915\n",
      "Epoch 11, Loss: 0.8592025637626648\n",
      "Epoch 12, Loss: 0.7619037628173828\n",
      "Epoch 13, Loss: 0.8192299008369446\n",
      "Epoch 14, Loss: 0.8590571284294128\n",
      "Epoch 15, Loss: 0.9096023440361023\n",
      "Epoch 16, Loss: 0.9562054872512817\n",
      "Epoch 17, Loss: 0.788748562335968\n",
      "Epoch 18, Loss: 0.7138605713844299\n",
      "Epoch 19, Loss: 0.8297894597053528\n",
      "Epoch 20, Loss: 0.7538270950317383\n",
      "Epoch 21, Loss: 0.9014197587966919\n",
      "Epoch 22, Loss: 0.9559681415557861\n",
      "Epoch 23, Loss: 0.8973902463912964\n",
      "Epoch 24, Loss: 0.7638094425201416\n",
      "Epoch 25, Loss: 0.7029434442520142\n",
      "Epoch 26, Loss: 0.9201872944831848\n",
      "Epoch 27, Loss: 0.8018620014190674\n",
      "Epoch 28, Loss: 0.8863604068756104\n",
      "Epoch 29, Loss: 0.6892803311347961\n",
      "Epoch 30, Loss: 0.6716606616973877\n",
      "Epoch 31, Loss: 0.8060836791992188\n",
      "Epoch 32, Loss: 1.074278712272644\n",
      "Epoch 33, Loss: 0.7589975595474243\n",
      "Epoch 34, Loss: 1.0441925525665283\n",
      "Epoch 35, Loss: 0.8295538425445557\n",
      "Epoch 36, Loss: 0.7895745635032654\n",
      "Epoch 37, Loss: 0.8919540643692017\n",
      "Epoch 38, Loss: 0.8460129499435425\n",
      "Epoch 39, Loss: 0.8179690837860107\n",
      "Epoch 40, Loss: 0.9299050569534302\n",
      "Epoch 41, Loss: 0.8079274296760559\n",
      "Epoch 42, Loss: 0.7530113458633423\n",
      "Epoch 43, Loss: 0.8218495845794678\n",
      "Epoch 44, Loss: 0.7750476002693176\n",
      "Epoch 45, Loss: 0.5812565684318542\n",
      "Epoch 46, Loss: 0.709425687789917\n",
      "Epoch 47, Loss: 0.7785876393318176\n",
      "Epoch 48, Loss: 0.7925195693969727\n",
      "Epoch 49, Loss: 0.8788795471191406\n",
      "Epoch 50, Loss: 0.7971591949462891\n",
      "Epoch 51, Loss: 0.8836876153945923\n",
      "Epoch 52, Loss: 0.8805596232414246\n",
      "Epoch 53, Loss: 0.8103073835372925\n",
      "Epoch 54, Loss: 0.6908522248268127\n",
      "Epoch 55, Loss: 0.8673925995826721\n",
      "Epoch 56, Loss: 0.9404172897338867\n",
      "Epoch 57, Loss: 0.814837634563446\n",
      "Epoch 58, Loss: 0.6974022388458252\n",
      "Epoch 59, Loss: 0.8482916951179504\n",
      "Epoch 60, Loss: 0.8546813726425171\n",
      "Epoch 61, Loss: 0.7350534200668335\n",
      "Epoch 62, Loss: 0.9016225934028625\n",
      "Epoch 63, Loss: 0.8556593656539917\n",
      "Epoch 64, Loss: 0.683152973651886\n",
      "Epoch 65, Loss: 0.6605818271636963\n",
      "Epoch 66, Loss: 0.7791109085083008\n",
      "Epoch 67, Loss: 0.7833396196365356\n",
      "Epoch 68, Loss: 0.7894479036331177\n",
      "Epoch 69, Loss: 0.7549950480461121\n",
      "Epoch 70, Loss: 0.7792598009109497\n",
      "Epoch 71, Loss: 0.8474377393722534\n",
      "Epoch 72, Loss: 0.721103847026825\n",
      "Epoch 73, Loss: 0.6403148770332336\n",
      "Epoch 74, Loss: 0.8157566785812378\n",
      "Epoch 75, Loss: 0.8712781071662903\n",
      "Epoch 76, Loss: 0.72959965467453\n",
      "Epoch 77, Loss: 0.7776156663894653\n",
      "Epoch 78, Loss: 0.9156314134597778\n",
      "Epoch 79, Loss: 0.9543981552124023\n",
      "Epoch 80, Loss: 0.6971669793128967\n",
      "Epoch 81, Loss: 0.8220809698104858\n",
      "Epoch 82, Loss: 0.7166424989700317\n",
      "Epoch 83, Loss: 0.9022088646888733\n",
      "Epoch 84, Loss: 0.7442648410797119\n",
      "Epoch 85, Loss: 0.8629109263420105\n",
      "Epoch 86, Loss: 0.6758679151535034\n",
      "Epoch 87, Loss: 0.6698771715164185\n",
      "Epoch 88, Loss: 0.6568558216094971\n",
      "Epoch 89, Loss: 1.1138055324554443\n",
      "Epoch 90, Loss: 0.7387498617172241\n",
      "Epoch 91, Loss: 0.6777788400650024\n",
      "Epoch 92, Loss: 0.6327146291732788\n",
      "Epoch 93, Loss: 1.0321600437164307\n",
      "Epoch 94, Loss: 0.5810499787330627\n",
      "Epoch 95, Loss: 0.6840827465057373\n",
      "Epoch 96, Loss: 0.696130096912384\n",
      "Epoch 97, Loss: 0.775737464427948\n",
      "Epoch 98, Loss: 0.894005537033081\n",
      "Epoch 99, Loss: 0.6978532671928406\n",
      "Epoch 100, Loss: 0.6623479127883911\n",
      "Epoch 101, Loss: 0.8653532266616821\n",
      "Epoch 102, Loss: 0.6658493280410767\n",
      "Epoch 103, Loss: 0.6691036224365234\n",
      "Epoch 104, Loss: 0.7042677402496338\n",
      "Epoch 105, Loss: 0.7233045101165771\n",
      "Epoch 106, Loss: 0.679513156414032\n",
      "Epoch 107, Loss: 0.8377796411514282\n",
      "Epoch 108, Loss: 0.7048028707504272\n",
      "Epoch 109, Loss: 0.7483879923820496\n",
      "Epoch 110, Loss: 0.4811924993991852\n",
      "Epoch 111, Loss: 0.7472724914550781\n",
      "Epoch 112, Loss: 0.7674304246902466\n",
      "Epoch 113, Loss: 0.6704351305961609\n",
      "Epoch 114, Loss: 0.7980515956878662\n",
      "Epoch 115, Loss: 0.7318761944770813\n",
      "Epoch 116, Loss: 0.6434490084648132\n",
      "Epoch 117, Loss: 0.6583107709884644\n",
      "Epoch 118, Loss: 0.7733151316642761\n",
      "Epoch 119, Loss: 0.7271645069122314\n",
      "Epoch 120, Loss: 0.6334884166717529\n",
      "Epoch 121, Loss: 0.7006048560142517\n",
      "Epoch 122, Loss: 0.6912543177604675\n",
      "Epoch 123, Loss: 0.7013817429542542\n",
      "Epoch 124, Loss: 0.7928540110588074\n",
      "Epoch 125, Loss: 0.7159726619720459\n",
      "Epoch 126, Loss: 0.745591402053833\n",
      "Epoch 127, Loss: 0.6897074580192566\n",
      "Epoch 128, Loss: 0.6008933186531067\n"
     ]
    }
   ],
   "source": [
    "from torch.utils.data import DataLoader, TensorDataset, WeightedRandomSampler\n",
    "\n",
    "# 假设X_train_tensor, y_train_tensor已经准备好\n",
    "# sample_weights是从您的get_sample_weights函数计算得到的\n",
    "\n",
    "# 将样本权重转换为Tensor\n",
    "sample_weights_tensor = torch.from_numpy(sample_weights).double()\n",
    "\n",
    "# 使用WeightedRandomSampler\n",
    "sampler = WeightedRandomSampler(sample_weights_tensor, len(sample_weights_tensor), replacement=True)\n",
    "\n",
    "# 创建TensorDataset\n",
    "train_dataset = TensorDataset(X_train_tensor, y_train_tensor)\n",
    "\n",
    "# 创建带有sampler的DataLoader\n",
    "train_loader = DataLoader(dataset=train_dataset, batch_size=64, sampler=sampler)\n",
    "\n",
    "# 实例化模型、定义损失函数和优化器\n",
    "model = SimpleCNN()\n",
    "criterion = nn.CrossEntropyLoss()\n",
    "optimizer = optim.Adam(model.parameters(), lr=0.001)\n",
    "\n",
    "# 训练模型\n",
    "num_epochs = 128\n",
    "for epoch in range(num_epochs):\n",
    "    for inputs, labels in train_loader:\n",
    "        optimizer.zero_grad()\n",
    "        outputs = model(inputs)\n",
    "        loss = criterion(outputs, labels)\n",
    "        loss.backward()\n",
    "        optimizer.step()\n",
    "    print(f'Epoch {epoch+1}, Loss: {loss.item()}')\n"
   ]
  },
  {
   "cell_type": "code",
   "execution_count": 46,
   "id": "302c3ad1-9376-44e4-8981-36a6a39bc8b4",
   "metadata": {},
   "outputs": [
    {
     "name": "stdout",
     "output_type": "stream",
     "text": [
      "Accuracy on test set: 0.1869\n"
     ]
    }
   ],
   "source": [
    "model.eval()  # 设置模型为评估模式\n",
    "correct = 0\n",
    "total = 0\n",
    "with torch.no_grad():  # 在评估阶段不计算梯度\n",
    "    for data, targets in test_loader:\n",
    "        outputs = model(data)\n",
    "        _, predicted = torch.max(outputs.data, 1)\n",
    "        total += targets.size(0)\n",
    "        correct += (predicted == targets).sum().item()\n",
    "\n",
    "accuracy = correct / total\n",
    "print(f'Accuracy on test set: {accuracy:.4f}')\n"
   ]
  },
  {
   "cell_type": "code",
   "execution_count": 47,
   "id": "9783fe44-badd-4124-a04b-24baa6da944a",
   "metadata": {},
   "outputs": [
    {
     "data": {
      "image/png": "[encoded data removed]",
      "text/plain": [
       "<Figure size 640x480 with 2 Axes>"
      ]
     },
     "metadata": {},
     "output_type": "display_data"
    }
   ],
   "source": [
    "\n",
    "from sklearn.metrics import confusion_matrix\n",
    "import seaborn as sns\n",
    "import matplotlib.pyplot as plt\n",
    "\n",
    "# 确保模型处于评估模式\n",
    "model.eval()\n",
    "\n",
    "# 收集所有预测和标签\n",
    "all_preds = []\n",
    "all_targets = []\n",
    "\n",
    "with torch.no_grad():\n",
    "    for data, targets in test_loader:\n",
    "        outputs = model(data)\n",
    "        _, preds = torch.max(outputs, 1)\n",
    "        all_preds.extend(preds.cpu().numpy())\n",
    "        all_targets.extend(targets.cpu().numpy())\n",
    "\n",
    "# 计算混淆矩阵\n",
    "cm = confusion_matrix(all_targets, all_preds)\n",
    "\n",
    "# 假设您知道每个整数标签对应的原始类别名称\n",
    "original_classes = ['sell', 'buy', 'hold']\n",
    "\n",
    "# 直接使用原始类别名称作为混淆矩阵的轴标签\n",
    "sns.heatmap(cm, annot=True, fmt='d', cmap='Blues', \n",
    "            xticklabels=original_classes, yticklabels=original_classes)\n",
    "plt.xlabel('Predicted labels')\n",
    "plt.ylabel('True labels')\n",
    "plt.title('Confusion Matrix')\n",
    "plt.show()\n"
   ]
  },
  {
   "cell_type": "code",
   "execution_count": 20,
   "id": "0ca235da-a770-4b43-92c6-7fca20cb5cf7",
   "metadata": {},
   "outputs": [],
   "source": [
    "lookback_days = 20\n",
    "\n",
    "code = \"I.DCE\"\n",
    "file_path = f\"{code}_technical.csv\"\n",
    "try:\n",
    "    data = pd.read_csv(file_path)\n",
    "except FileNotFoundError:\n",
    "    print(f\"文件 {file_path} 未找到，跳过此文件。\")\n",
    "    continue\n",
    "\n",
    "# 转换第一列为日期格式并按日期排序\n",
    "data.iloc[:, 0] = pd.to_datetime(data.iloc[:, 0])\n",
    "data = data.sort_values(data.columns[0])\n",
    "\n",
    "\n",
    "if len(data) < lookback_days:  # 如果数据量小于回溯天数\n",
    "    print(f\"数据集 {code} 太小，无法创建有效的训练集。跳过此数据集。\")\n",
    "    continue\n",
    "    \n",
    "features = []\n",
    "labels = []\n",
    "date = []\n",
    "\n",
    "# 选择除了标签、变化百分比和日期之外的所有列作为特征\n",
    "feature_columns = data.columns[1:-2]\n",
    "\n",
    "# 创建输入-输出对\n",
    "for i in range(lookback_days, len(data)):\n",
    "    window = data.iloc[i - lookback_days:i][feature_columns].values\n",
    "    label = data.iloc[i, -2]\n",
    "    features.append(window)\n",
    "    labels.append(label)\n",
    "    date = data.iloc[i, 0]  # 窗口结束日期\n",
    "  \n",
    "X = np.array(features)\n",
    "y = np.array(labels)"
   ]
  },
  {
   "cell_type": "code",
   "execution_count": 21,
   "id": "47b14232-b3fa-4b57-9322-d35fb5f47ab4",
   "metadata": {},
   "outputs": [
    {
     "ename": "RuntimeError",
     "evalue": "permute(sparse_coo): number of dimensions in the tensor input does not match the length of the desired ordering of dimensions i.e. input.dim() = 3 is not equal to len(dims) = 4",
     "output_type": "error",
     "traceback": [
      "\u001b[1;31m---------------------------------------------------------------------------\u001b[0m",
      "\u001b[1;31mRuntimeError\u001b[0m                              Traceback (most recent call last)",
      "Cell \u001b[1;32mIn[21], line 2\u001b[0m\n\u001b[0;32m      1\u001b[0m \u001b[38;5;66;03m# 调整维度并转换为Tensor\u001b[39;00m\n\u001b[1;32m----> 2\u001b[0m X_tensor \u001b[38;5;241m=\u001b[39m \u001b[43mtorch\u001b[49m\u001b[38;5;241;43m.\u001b[39;49m\u001b[43mtensor\u001b[49m\u001b[43m(\u001b[49m\u001b[43mdata_test\u001b[49m\u001b[43m,\u001b[49m\u001b[43m \u001b[49m\u001b[43mdtype\u001b[49m\u001b[38;5;241;43m=\u001b[39;49m\u001b[43mtorch\u001b[49m\u001b[38;5;241;43m.\u001b[39;49m\u001b[43mfloat\u001b[49m\u001b[43m)\u001b[49m\u001b[38;5;241;43m.\u001b[39;49m\u001b[43mpermute\u001b[49m\u001b[43m(\u001b[49m\u001b[38;5;241;43m0\u001b[39;49m\u001b[43m,\u001b[49m\u001b[43m \u001b[49m\u001b[38;5;241;43m3\u001b[39;49m\u001b[43m,\u001b[49m\u001b[43m \u001b[49m\u001b[38;5;241;43m1\u001b[39;49m\u001b[43m,\u001b[49m\u001b[43m \u001b[49m\u001b[38;5;241;43m2\u001b[39;49m\u001b[43m)\u001b[49m\n\u001b[0;32m      4\u001b[0m \u001b[38;5;66;03m# 将数据封装成 DataLoader\u001b[39;00m\n\u001b[0;32m      5\u001b[0m dataset \u001b[38;5;241m=\u001b[39m TensorDataset(X_tensor)\n",
      "\u001b[1;31mRuntimeError\u001b[0m: permute(sparse_coo): number of dimensions in the tensor input does not match the length of the desired ordering of dimensions i.e. input.dim() = 3 is not equal to len(dims) = 4"
     ]
    }
   ],
   "source": [
    "# 调整维度并转换为Tensor\n",
    "X_tensor = torch.tensor(data_test, dtype=torch.float).permute(0, 3, 1, 2)\n",
    "\n",
    "# 将数据封装成 DataLoader\n",
    "dataset = TensorDataset(X_tensor)\n",
    "loader = DataLoader(dataset, batch_size=64, shuffle=False)\n"
   ]
  },
  {
   "cell_type": "code",
   "execution_count": null,
   "id": "2e14ca23-a121-408f-bc5a-78cd8688253b",
   "metadata": {},
   "outputs": [],
   "source": [
    "model.eval()  # 确保模型处于评估模式\n",
    "recent_predictions = []  # 用于存储最近128天的预测结果\n",
    "\n",
    "with torch.no_grad():  # 禁用梯度计算\n",
    "    for X_batch in loader:\n",
    "        X_batch = X_batch[0]  # DataLoader 返回的是一个元组，我们只需要数据部分\n",
    "        output = model(X_batch)\n",
    "        _, predicted_labels = torch.max(output, 1)  # 获取每个样本最可能的预测标签\n",
    "        recent_predictions.extend(predicted_labels.cpu().numpy())\n"
   ]
  },
  {
   "cell_type": "code",
   "execution_count": null,
   "id": "c3f48840-80c2-4cff-8aff-10476aba358d",
   "metadata": {},
   "outputs": [],
   "source": [
    "# 确保预测结果的数量与最近128天的日期数量一致\n",
    "assert len(recent_predictions) == len(dates_recent_cu), \"预测结果的数量与测试集中的日期数量不一致。\"\n",
    "\n",
    "# 打印每一天的预测结果及其对应的日期\n",
    "for date, prediction in zip(dates_recent_cu, recent_predictions):\n",
    "    print(f\"日期: {date}, 预测标签: {prediction}\")\n"
   ]
  },
  {
   "cell_type": "code",
   "execution_count": null,
   "id": "9ea55da2-7889-4acb-8174-f0455f098fcc",
   "metadata": {},
   "outputs": [],
   "source": [
    "# 假设 recent_predictions 是一个列表，包含预测结果，我们将模拟一些数据来展示如何查看其分布\n",
    "import numpy as np\n",
    "import matplotlib.pyplot as plt\n",
    "\n",
    "\n",
    "\n",
    "# 绘制分布图\n",
    "plt.figure(figsize=(10, 6))\n",
    "plt.hist(prediction, bins=np.arange(-0.5, 3, 1), rwidth=0.8)\n",
    "plt.xticks([0, 1, 2])\n",
    "plt.title(\"Predictions Distribution\")\n",
    "plt.xlabel(\"Prediction Label\")\n",
    "plt.ylabel(\"Frequency\")\n",
    "plt.show()\n"
   ]
  },
  {
   "cell_type": "code",
   "execution_count": null,
   "id": "0022115c-6114-4eca-b8da-5789dbf206ef",
   "metadata": {},
   "outputs": [],
   "source": []
  }
 ],
 "metadata": {
  "kernelspec": {
   "display_name": "Python 3 (ipykernel)",
   "language": "python",
   "name": "python3"
  },
  "language_info": {
   "codemirror_mode": {
    "name": "ipython",
    "version": 3
   },
   "file_extension": ".py",
   "mimetype": "text/x-python",
   "name": "python",
   "nbconvert_exporter": "python",
   "pygments_lexer": "ipython3",
   "version": "3.8.18"
  }
 },
 "nbformat": 4,
 "nbformat_minor": 5
}
